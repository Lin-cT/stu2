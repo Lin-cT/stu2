{
 "cells": [
  {
   "cell_type": "code",
   "execution_count": 17,
   "metadata": {},
   "outputs": [
    {
     "name": "stdout",
     "output_type": "stream",
     "text": [
      "This function does not work. You should check if Hello is defined or if there are quotation at the begining and end.\n"
     ]
    }
   ],
   "source": [
    "def tester_Function():\n",
    "    try:\n",
    "    # The try function tests the code written below.\n",
    "        print(Hello);\n",
    "    except NameError:\n",
    "    # The except runs when the code above fails\n",
    "    # The code above failed because Hello is not defined and/or there are no quotations.\n",
    "        print(\"This function does not work. You should check if Hello is defined or if there are quotation at the begining and end.\")\n",
    "\n",
    "tester_Function()"
   ]
  },
  {
   "cell_type": "code",
   "execution_count": 18,
   "metadata": {},
   "outputs": [
    {
     "name": "stdout",
     "output_type": "stream",
     "text": [
      "\n",
      "That's not right...\n",
      "\n",
      "I don't think that's the right answer.\n"
     ]
    }
   ],
   "source": [
    "answer = input(\"What color is the sky?\")\n",
    "\n",
    "#if answer == \"blue\"\n",
    "#The above code would have been case sensitive. If you input Blue, BLUE, or any other combination of upper and lower case letters spelling blue, the answer would not have been taken. \n",
    "print(answer)\n",
    "if answer.lower() == \"blue\" :\n",
    "    print(\"Good job.\")\n",
    "else :\n",
    "    print(\"That's not right...\")\n",
    "\n",
    "msg = input(\"What color is the grass?\")\n",
    "\n",
    "#if answer == \"GREEN\"\n",
    "# The above code would have been case sensitive as well. Any lower case letters in the answer would have been seen as a wrong answer by the code.\n",
    "print(msg)\n",
    "if msg.upper() == \"GREEN\":\n",
    "    print(\"That's right!\")\n",
    "else :\n",
    "    print(\"I don't think that's the right answer.\")"
   ]
  },
  {
   "cell_type": "code",
   "execution_count": 1,
   "metadata": {},
   "outputs": [
    {
     "name": "stdout",
     "output_type": "stream",
     "text": [
      "An error occurred: division by zero\n"
     ]
    }
   ],
   "source": [
    "def divide_numbers(a, b):\n",
    "    while True:\n",
    "        try:\n",
    "            result = a / b\n",
    "            return result\n",
    "        except ZeroDivisionError:\n",
    "        # If someone attempts to divide by zero using this code, the code will \n",
    "            return \"Error: Division by zero is not allowed.\"\n",
    "        except TypeError:\n",
    "            return \"Error: Invalid data types. Please provide two numbers.\"\n",
    "\n",
    "\n",
    "\n",
    "def num(number) :\n",
    "    while True:\n",
    "        try:\n",
    "            value = int(input(number))\n",
    "        except ValueError:\n",
    "            print(\"This input is not valid. Please enter an integer!\")\n",
    "            continue\n",
    "        #catches the error and forces the user to re-input\n",
    "        return value\n",
    "\n",
    "numbers1 = num(\"What is the first number you would like to divide?\")\n",
    "numbers2 = num(\"What is the second number you would like to divide?\")\n",
    "\n",
    "\n",
    "try:\n",
    "    result = divide_numbers(numbers1, numbers2)\n",
    "    print(\"Result:\", result)\n",
    "except Exception as e:\n",
    "    print(\"An error occurred:\", str(e))"
   ]
  }
 ],
 "metadata": {
  "kernelspec": {
   "display_name": "Python 3",
   "language": "python",
   "name": "python3"
  },
  "language_info": {
   "codemirror_mode": {
    "name": "ipython",
    "version": 3
   },
   "file_extension": ".py",
   "mimetype": "text/x-python",
   "name": "python",
   "nbconvert_exporter": "python",
   "pygments_lexer": "ipython3",
   "version": "3.10.12"
  },
  "orig_nbformat": 4
 },
 "nbformat": 4,
 "nbformat_minor": 2
}
