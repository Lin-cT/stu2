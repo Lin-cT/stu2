{
 "cells": [
  {
   "cell_type": "code",
   "execution_count": 30,
   "metadata": {},
   "outputs": [
    {
     "name": "stdout",
     "output_type": "stream",
     "text": [
      "This function does not work.\n"
     ]
    }
   ],
   "source": [
    "try:\n",
    "# The try function tests the code written below.\n",
    "    print(Hello);\n",
    "except NameError:\n",
    "# The except runs when the code above fails\n",
    "# The code above failed because Hello is not defined and/or there are no quotations.\n",
    "    print(\"This function does not work.\")"
   ]
  },
  {
   "cell_type": "code",
   "execution_count": 31,
   "metadata": {},
   "outputs": [
    {
     "name": "stdout",
     "output_type": "stream",
     "text": [
      "Good job.\n"
     ]
    }
   ],
   "source": [
    "answer = input(\"What color is the sky?\")\n",
    "\n",
    "#if answer == \"blue\"\n",
    "#The above code would have been case sensitive. If you input Blue, BLUE, or any other combination of upper and lower case letters spelling blue, the answer would not have been taken. \n",
    "if answer.lower() == \"blue\" :\n",
    "    print(\"Good job.\")\n",
    "else :\n",
    "    print(\"That's not right...\")\n",
    "\n",
    "answer = input(\"What color is the grass?\")\n",
    "\n",
    "#if answer == \"GREEN\"\n",
    "# The above code would have been case sensitive as well. Any lower case letters in the answer would have been seen as a wrong answer by the code.\n",
    "if answer.upper() == \"GREEN\":\n",
    "    print(\"That's right!\")\n",
    "else :\n",
    "    print(\"I don't think that's the right answer.\")"
   ]
  },
  {
   "cell_type": "code",
   "execution_count": null,
   "metadata": {},
   "outputs": [],
   "source": []
  }
 ],
 "metadata": {
  "kernelspec": {
   "display_name": "Python 3",
   "language": "python",
   "name": "python3"
  },
  "language_info": {
   "codemirror_mode": {
    "name": "ipython",
    "version": 3
   },
   "file_extension": ".py",
   "mimetype": "text/x-python",
   "name": "python",
   "nbconvert_exporter": "python",
   "pygments_lexer": "ipython3",
   "version": "3.10.12"
  },
  "orig_nbformat": 4
 },
 "nbformat": 4,
 "nbformat_minor": 2
}
