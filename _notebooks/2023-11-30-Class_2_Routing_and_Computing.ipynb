{
 "cells": [
  {
   "cell_type": "markdown",
   "metadata": {},
   "source": [
    "Homework:\n",
    "<br>\n",
    "Question 1: What is parallel computing?\n",
    "<br>\n",
    "Question 2: If there is a computer with 3 cores that can each take one task, and the tasks are 25ms, 632ms and 100ms in run time respectively, how long will the program take to run?\n",
    "<br>\n",
    "Question 3: Is sequential or parallel computing more efficient, and why?\n",
    "<br>\n",
    "Question 4: What is the term called when a network has multiple paths leading up to one destination? (Used in fault-tolerant systems)\n",
    "<br>\n",
    "\n",
    "Answers:\n",
    "<br>\n",
    "1. Parallel computing is a type of computation in which many calculations or processes are carried out simultaneously. It involves breaking down a complex problem into smaller tasks and solving them concurrently.\n",
    "<br>\n",
    "2. 632 ms\n",
    "<br>\n",
    "3. Both sequential and parallel computing can be efficent, it just depends on the task that is being executed. Sequential computing is generally straightforward and easier to understand. For tasks that are inherently sequential or where the steps are highly dependent on each other, a sequential approach may be more efficient. Parallel computing involves breaking down a problem into smaller parts that can be solved concurrently. This approach can significantly improve efficiency for tasks that can be parallelized.\n",
    "<br>\n",
    "4. It is called redundancy\n",
    "<br>\n",
    "5. Yes the image above is fault tolerant because it has multiple paths leading to one destination."
   ]
  }
 ],
 "metadata": {
  "language_info": {
   "name": "python"
  },
  "orig_nbformat": 4
 },
 "nbformat": 4,
 "nbformat_minor": 2
}
