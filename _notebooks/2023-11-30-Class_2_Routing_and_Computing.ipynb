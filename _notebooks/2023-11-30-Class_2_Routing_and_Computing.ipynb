{
 "cells": [
  {
   "cell_type": "markdown",
   "metadata": {},
   "source": [
    "Homework:\n",
    "\n",
    "  Question 1: What is parallel computing?\n",
    "  Question 2: If there is a computer with 3 cores that can each take one task, and the tasks are 25ms, 632ms and 100ms in run time respectively, how long will the program take to run?\n",
    "  Question 3: Is sequential or parallel computing more efficient, and why?\n",
    "  Question 4: What is the term called when a network has multiple paths leading up to one destination? (Used in fault-tolerant systems)\n",
    "\n",
    "Answers:\n",
    "\n",
    "1. Parallel computing is a type of computation in which many calculations or processes are carried out simultaneously. It involves breaking down a complex problem into smaller tasks and solving them concurrently.\n",
    "2. "
   ]
  }
 ],
 "metadata": {
  "language_info": {
   "name": "python"
  },
  "orig_nbformat": 4
 },
 "nbformat": 4,
 "nbformat_minor": 2
}
