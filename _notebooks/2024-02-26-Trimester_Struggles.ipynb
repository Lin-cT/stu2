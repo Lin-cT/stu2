{
 "cells": [
  {
   "cell_type": "markdown",
   "metadata": {},
   "source": [
    "---\n",
    "toc: true\n",
    "comments: true\n",
    "layout: post\n",
    "title: Struggles in Trimester 2\n",
    "type: plans\n",
    "courses: { csp: {week: 23} }\n",
    "---"
   ]
  },
  {
   "cell_type": "markdown",
   "metadata": {},
   "source": [
    "# Struggles\n",
    "\n",
    "CSS Styling:\n",
    "Struggled with implementing CSS styling and making it compatible with project files.\n",
    "Realized the need to add a new theme and convert files into .md format for compatibility.\n",
    "\n",
    "Backend Issues:\n",
    "Encountered challenges with model data creation and column addition.\n",
    "Faced difficulties in ensuring proper data creation by models.\n",
    "\n",
    "API and Endpoints:\n",
    "Learned about API integration and endpoints.\n",
    "Assisted teammate in understanding and utilizing external API endpoints.\n",
    "Developed own endpoints and API features, with a learning curve in managing frontend data display in the database and handling cookies."
   ]
  }
 ],
 "metadata": {
  "language_info": {
   "name": "python"
  }
 },
 "nbformat": 4,
 "nbformat_minor": 2
}
