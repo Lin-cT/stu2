{
 "cells": [
  {
   "cell_type": "markdown",
   "metadata": {},
   "source": [
    "---\n",
    "toc: false\n",
    "comments: true\n",
    "layout: post\n",
    "title: Big Idea 5.6 Safe Computing\n",
    "description: hacker\n",
    "type: hacks\n",
    "courses: { compsci: {week: 17} }\n",
    "---"
   ]
  },
  {
   "cell_type": "markdown",
   "metadata": {},
   "source": [
    "Corrections to Mc Qustions:\n",
    "\n",
    "16. A. The element should be decremented after every element is checked, not when \"the\" or \"a\" is checked. \n",
    "\n",
    "50. D. Running all of the programs should be considred a reasonable time to run a program. Personally, this quite confused me as I thought the other two programs would run at an unreasonable time.\n",
    "\n",
    "Reflection:\n",
    "\n",
    "  Overview: Throughout my time in AP Computer Science Principals, I have learned a lot, especially through the student teaching classes provided 2-3 times every week. In these student teachings, we cover an important topic in AP CSP and dive deep into the topic. In trimester 1, we covered several coding topics and such, and in trimester 2 we covered more broader impacts of coding. \n",
    "\n",
    "  How did I get here: "
   ]
  }
 ],
 "metadata": {
  "language_info": {
   "name": "python"
  },
  "orig_nbformat": 4
 },
 "nbformat": 4,
 "nbformat_minor": 2
}
