{
 "cells": [
  {
   "cell_type": "markdown",
   "metadata": {},
   "source": [
    "---\n",
    "toc: false\n",
    "comments: true\n",
    "layout: post\n",
    "title: Big Idea 5.6 Safe Computing\n",
    "description: hacker\n",
    "type: hacks\n",
    "courses: { compsci: {week: 11} }\n",
    "---"
   ]
  },
  {
   "cell_type": "markdown",
   "metadata": {},
   "source": [
    "Corrections to Mc Qustions:\n",
    "\n",
    "16. A. The element should be decremented after every element is checked, not when \"the\" or \"a\" is checked. \n",
    "\n",
    "50. D. Running all of the programs should be considred a reasonable time to run a program. Personally, this quite confused me as I thought the other two programs would run at an unreasonable time.\n",
    "\n",
    "Reflection:\n",
    "\n",
    "  Overview: Throughout my time in AP Computer Science Principals, I have learned a lot, especially through the student teaching classes provided 2-3 times every week. In these student teachings, we cover an important topic in AP CSP and dive deep into the topic. In trimester 1, we covered several coding topics and such, and in trimester 2 we covered more broader impacts of coding. I also had support from my family as well while taking this class, and I think that really helped.\n",
    "\n",
    "  How did I get here: My family really helped and supported me in my learning process for AP CSP, as well as the student teachings that I discussed earlier. But, everyone in my family majored in computer science, so I had many sources of help. I would always ask my dad to explain coding concepts to me whenever I didn't understand, and I would review some of the student teachings with him every week as well, and we would sometimes even complete homework together. I think that is how I was able to pick up this much information."
   ]
  }
 ],
 "metadata": {
  "language_info": {
   "name": "python"
  },
  "orig_nbformat": 4
 },
 "nbformat": 4,
 "nbformat_minor": 2
}
