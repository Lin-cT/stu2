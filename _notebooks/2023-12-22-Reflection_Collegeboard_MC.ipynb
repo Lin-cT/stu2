{
 "cells": [
  {
   "cell_type": "markdown",
   "metadata": {},
   "source": [
    "---\n",
    "toc: false\n",
    "comments: true\n",
    "layout: post\n",
    "title: College Board Reflection\n",
    "description: hacker\n",
    "type: hacks\n",
    "courses: { compsci: {week: 17} }\n",
    "---"
   ]
  },
  {
   "cell_type": "markdown",
   "metadata": {},
   "source": [
    "Corrections to Mc Qustions:\n",
    "\n",
    "16. A. The element should be decremented after every element is checked, not when \"the\" or \"a\" is checked. \n",
    "\n",
    "50. D. Running all of the programs should be considred a reasonable time to run a program. Personally, this quite confused me as I thought the other two programs would run at an unreasonable time.\n",
    "\n",
    "Reflection:\n",
    "\n",
    "  Overview: Throughout my journey in AP Computer Science Principles (CSP), I have embarked on a profound learning experience, particularly through the enriching student teaching sessions held 2-3 times per week. These sessions have been instrumental in delving deep into crucial topics within the realm of AP CSP, providing me with a comprehensive understanding of both coding fundamentals and the broader impacts of programming.\n",
    "\n",
    "In the first trimester, our focus was on various coding topics, allowing me to build a solid foundation in the technical aspects of computer science. Moving into the second trimester, the scope expanded to encompass the broader implications of coding, offering insights into the real-world applications and societal impacts of the skills I was acquiring.\n",
    "\n",
    "My family has played an integral role in supporting and guiding me throughout this challenging yet rewarding journey. Their encouragement and involvement have been invaluable. I am fortunate to have a family with a background in computer science, providing me with diverse sources of assistance. Regular interactions with my dad, who also majored in computer science, became a cornerstone of my learning process. I would frequently seek his guidance to grasp coding concepts, and our collaborative approach extended to reviewing student teachings and even completing homework together.\n",
    "\n",
    "This collaborative and supportive environment within my family has undoubtedly been a catalyst for my success in AP CSP. The shared passion for computer science has created a conducive atmosphere for learning, enabling me to absorb a wealth of information and skills. As I reflect on how I got here, it's clear that the combination of dedicated student teachings and the unwavering support from my family has been pivotal in shaping my understanding of AP CSP and fostering my enthusiasm for the subject."
   ]
  }
 ],
 "metadata": {
  "language_info": {
   "name": "python"
  },
  "orig_nbformat": 4
 },
 "nbformat": 4,
 "nbformat_minor": 2
}
