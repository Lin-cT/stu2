{
 "cells": [
  {
   "cell_type": "markdown",
   "metadata": {},
   "source": [
    "Popcorn Hack 1: True"
   ]
  },
  {
   "cell_type": "code",
   "execution_count": 1,
   "metadata": {},
   "outputs": [
    {
     "name": "stdout",
     "output_type": "stream",
     "text": [
      "True\n"
     ]
    }
   ],
   "source": [
    "doILikeCats = \"Yes\"\n",
    "doILikeDogs = \"Yes\"\n",
    "\n",
    "bothTrue = doILikeDogs == doILikeCats\n",
    "\n",
    "print(str(bothTrue))"
   ]
  },
  {
   "cell_type": "markdown",
   "metadata": {},
   "source": [
    "POpcorn Hack 2: False"
   ]
  },
  {
   "cell_type": "code",
   "execution_count": 2,
   "metadata": {},
   "outputs": [
    {
     "name": "stdout",
     "output_type": "stream",
     "text": [
      "False\n"
     ]
    }
   ],
   "source": [
    "num1 = 2\n",
    "num2 = 3\n",
    "\n",
    "equal = num1 == num2\n",
    "print(str(equal))"
   ]
  },
  {
   "cell_type": "markdown",
   "metadata": {},
   "source": [
    "Popcorn Hack 3: Or Operater "
   ]
  },
  {
   "cell_type": "code",
   "execution_count": 32,
   "metadata": {},
   "outputs": [
    {
     "name": "stdout",
     "output_type": "stream",
     "text": [
      "True\n",
      "False\n"
     ]
    }
   ],
   "source": [
    "grade = 30\n",
    "conditions = grade > 50 or grade == 30\n",
    "print(str(conditions))\n",
    "\n",
    "grade1 = 30\n",
    "conditions1 = grade > 68 or grade == 90\n",
    "print(str(conditions1))"
   ]
  },
  {
   "cell_type": "markdown",
   "metadata": {},
   "source": [
    "Popcorn Hack 4: Or and Not"
   ]
  },
  {
   "cell_type": "code",
   "execution_count": 33,
   "metadata": {},
   "outputs": [
    {
     "data": {
      "text/plain": [
       "True"
      ]
     },
     "metadata": {},
     "output_type": "display_data"
    }
   ],
   "source": [
    "# start with\n",
    "favHobby = \"Drawing\"\n",
    "numClasses = 4\n",
    "display((not numClasses == 4) or (favHobby == \"Drawing\"))"
   ]
  },
  {
   "cell_type": "markdown",
   "metadata": {},
   "source": [
    "Popcorn Hack 5: if"
   ]
  },
  {
   "cell_type": "code",
   "execution_count": 34,
   "metadata": {},
   "outputs": [
    {
     "name": "stdout",
     "output_type": "stream",
     "text": [
      "100\n"
     ]
    }
   ],
   "source": [
    "num1 = 3000\n",
    "num2 = 2\n",
    "sum = num1 + num2\n",
    "if (sum >= 100):\n",
    "    print(\"100\")\n",
    "else :\n",
    "    print(sum)"
   ]
  },
  {
   "cell_type": "markdown",
   "metadata": {},
   "source": [
    "POpcorn Hack 6: elif"
   ]
  },
  {
   "cell_type": "code",
   "execution_count": 35,
   "metadata": {},
   "outputs": [
    {
     "name": "stdout",
     "output_type": "stream",
     "text": [
      "Purple reminds me of royalty\n"
     ]
    }
   ],
   "source": [
    "yourFavoriteColor = \"Purple\"\n",
    "\n",
    "if (yourFavoriteColor == \"Red\") :\n",
    "    print(\"Red is a nice color\")\n",
    "elif (yourFavoriteColor == \"Orange\") :\n",
    "    print(\"Orange is an interesting color...\")\n",
    "elif (yourFavoriteColor == \"Yellow\") :\n",
    "    print(\"Yellow isn't terrible\")\n",
    "elif (yourFavoriteColor == \"Green\") :\n",
    "    print(\"I love green\")\n",
    "elif (yourFavoriteColor == \"Blue\") :\n",
    "    print(\"Blue is the color of my room :)\")\n",
    "elif (yourFavoriteColor == \"Purple\") :\n",
    "    print(\"Purple reminds me of royalty\")\n",
    "else :\n",
    "    print(\"That's not a color that's part of the rainbow.\")"
   ]
  },
  {
   "cell_type": "markdown",
   "metadata": {},
   "source": [
    "Homework 1: 3 Students"
   ]
  },
  {
   "cell_type": "code",
   "execution_count": 36,
   "metadata": {},
   "outputs": [
    {
     "name": "stdout",
     "output_type": "stream",
     "text": [
      "Average Grade: 86.0\n",
      "False\n",
      "True\n"
     ]
    }
   ],
   "source": [
    "class Student:\n",
    "    total_grades = 0\n",
    "    total_students = 0\n",
    "\n",
    "    def __init__(self, name, grade):\n",
    "        self.name = name\n",
    "        self.grade = grade\n",
    "        Student.total_grades += grade\n",
    "        Student.total_students += 1\n",
    "\n",
    "    @classmethod\n",
    "    def averageGrade(cls):\n",
    "        if cls.total_students == 0:\n",
    "            return 0\n",
    "        return cls.total_grades / cls.total_students\n",
    "\n",
    "student1 = Student(\"Bob\", 95)\n",
    "student2 = Student(\"Amy\", 91)\n",
    "student3 = Student(\"Jay\", 72)\n",
    "\n",
    "average = Student.averageGrade()\n",
    "print(f\"Average Grade: {average}\")\n",
    "\n",
    "falseStatement = average > 90\n",
    "print(str(falseStatement))\n",
    "\n",
    "trueStatement = average < 95\n",
    "print(str(trueStatement))"
   ]
  },
  {
   "cell_type": "markdown",
   "metadata": {},
   "source": [
    "Homework 2: Weather"
   ]
  },
  {
   "cell_type": "code",
   "execution_count": 42,
   "metadata": {},
   "outputs": [
    {
     "name": "stdout",
     "output_type": "stream",
     "text": [
      "You can't go outside! It's 5 degrees right now and it's stormy!\n"
     ]
    }
   ],
   "source": [
    "import random\n",
    "\n",
    "degrees = random.randint(0, 110)\n",
    "\n",
    "weather = [\"stormy\", \"sunny\", \"rainy\", \"cloudy\", \"windy\", \"thundering\", \"hurricane\", \"tornado\", \"fogy\", \"blizzard\"]\n",
    "randomWeather = random.choice(weather)\n",
    "\n",
    "if ((degrees < 20) and (randomWeather == \"stormy\")) :\n",
    "    print(\"You can't go outside! It's \" + str(degrees) + \" degrees right now and it's stormy!\")\n",
    "elif (randomWeather == \"hurricane\") :\n",
    "    print(\"You shouldn't go outside, there's a hurricane!\")\n",
    "elif (randomWeather == \"tornado\") :\n",
    "    print(\"You shouldn't go outside, there's a tornado!\")\n",
    "elif (randomWeather == \"blizzard\") :\n",
    "    print(\"There's a blizzard outside right now, brr!\")\n",
    "elif (degrees < 40 ) :\n",
    "    print(\"It's very cold today! \" + str(degrees) + \" degrees today.\")\n",
    "elif (degrees > 95 ) :\n",
    "    print(\"Today's gonna be really hot: \" + str(degrees) + \" degrees today.\")\n",
    "else :\n",
    "    print(\"Today's weather: \" + str(degrees) + \" degrees and it's currently \" + randomWeather + \".\")"
   ]
  }
 ],
 "metadata": {
  "kernelspec": {
   "display_name": "Python 3",
   "language": "python",
   "name": "python3"
  },
  "language_info": {
   "codemirror_mode": {
    "name": "ipython",
    "version": 3
   },
   "file_extension": ".py",
   "mimetype": "text/x-python",
   "name": "python",
   "nbconvert_exporter": "python",
   "pygments_lexer": "ipython3",
   "version": "3.10.12"
  },
  "orig_nbformat": 4
 },
 "nbformat": 4,
 "nbformat_minor": 2
}
