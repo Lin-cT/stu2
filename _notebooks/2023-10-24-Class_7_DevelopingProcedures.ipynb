{
 "cells": [
  {
   "cell_type": "markdown",
   "metadata": {},
   "source": [
    "## 3.12-3.13 Developing Procedures"
   ]
  },
  {
   "cell_type": "markdown",
   "metadata": {},
   "source": [
    "## What is a procedure?\n",
    "\n",
    "A procedure is a named group of programming instructions\n",
    "\n",
    "2 Main Types of Procedures:\n",
    "- Procedure that returns a value of data\n",
    "- Procedure that executes a block of statements\n",
    "\n",
    "## Learning Objective:\n",
    "Be able to look at code and determine the purpose, and be able to write a procedure to manage complexity of program. understand the following terms and what they look like as well as how to use them in code\n",
    "\n",
    "- Procedure Parameters: variables that are defined within the procedure's parentheses and serve as placeholders for values that can be passed to the procedure when it is called, allowing the procedure to operate on different data or values each time it is executed.\n",
    "- Procedure Algorithms: a step-by-step set of instructions that defines a specific task or operation to be performed within a computer program\n",
    "- Procedure Return Values: data or results that a procedure can send back to the part of the program that called it, allowing the procedure to provide information or perform a specific task and then share the outcome with the rest of the program."
   ]
  },
  {
   "cell_type": "markdown",
   "metadata": {},
   "source": [
    "## Name, Parameters, Algorithm, Return Values, and Calling a Procedure"
   ]
  },
  {
   "cell_type": "code",
   "execution_count": 60,
   "metadata": {},
   "outputs": [
    {
     "name": "stdout",
     "output_type": "stream",
     "text": [
      "88\n"
     ]
    }
   ],
   "source": [
    "## Example of Procedure that Updates A Quiz Grade\n",
    "def updatequiz(currentgrade, quizgrade):\n",
    "    if quizgrade > currentgrade:\n",
    "        currentgrade = quizgrade\n",
    "    return currentgrade\n",
    "\n",
    "currentgrade = 75\n",
    "quizgrade = 88\n",
    "currentgrade = updatequiz(currentgrade, quizgrade)\n",
    "print(currentgrade)"
   ]
  },
  {
   "cell_type": "markdown",
   "metadata": {},
   "source": [
    "## Popcorn Hack #1:\n",
    "Identify the name of the procedure below, tell us the purpose and parameters of the procedure and identify the algorithm return value:\n",
    "\n",
    "- Name: updateweather\n",
    "- Parameters: (currentweather, weather)\n",
    "- Algorithm (paste lines): \n",
    "    if currentweather> weather:\n",
    "        weather = currentweather\n",
    "        print(\"today is warmer than yesterday\")\n",
    "    else:\n",
    "        print(\"today is colder than yesterday\")\n",
    "    return currentgrade\n",
    "- Return Value: currentweather\n",
    "- Calling Procedure Line: currentweather = updateweather(currentweather, weather)"
   ]
  },
  {
   "cell_type": "code",
   "execution_count": 2,
   "metadata": {},
   "outputs": [
    {
     "name": "stdout",
     "output_type": "stream",
     "text": [
      "today is warmer than yesterday\n",
      "the temperature right now is 71 degrees\n"
     ]
    }
   ],
   "source": [
    "def updateweather(currentweather, weather):\n",
    "    if currentweather> weather:\n",
    "        weather = currentweather\n",
    "        print(\"today is warmer than yesterday\")\n",
    "    else:\n",
    "        print(\"today is colder than yesterday\")\n",
    "    return currentweather\n",
    "\n",
    "currentweather = 71\n",
    "weather = 66\n",
    "currentweather = updateweather(currentweather, weather)\n",
    "print(\"the temperature right now is\", currentweather, \"degrees\")"
   ]
  },
  {
   "cell_type": "markdown",
   "metadata": {},
   "source": [
    "## Costructing Classes for Names & Data with Procedures"
   ]
  },
  {
   "cell_type": "code",
   "execution_count": 3,
   "metadata": {},
   "outputs": [],
   "source": [
    "# Class Construction\n",
    "class Short:\n",
    "    name = \"\"\n",
    "    height = 0\n",
    "\n",
    "class Tall:\n",
    "    name = \"\"\n",
    "    height = 0\n",
    "\n",
    "# Procedure to Classify as Short or Tall\n",
    "def classify_person(name, height):\n",
    "    if height < 70:\n",
    "        short_person = Short()\n",
    "        short_person.name = name\n",
    "        return short_person\n",
    "    else:\n",
    "        tall_person = Tall()\n",
    "        tall_person.name = name\n",
    "        return tall_person"
   ]
  },
  {
   "cell_type": "markdown",
   "metadata": {},
   "source": [
    "Class Definitions: The code defines two classes, \"Short\" and \"Tall,\" each having two attributes: name and height. These attributes can be used to store the name and height of individuals.\n",
    "\n",
    "Classification Procedure: The classify_person function takes two parameters: name and height. Depending on the provided height, it creates an instance of either the \"Short\" or \"Tall\" class. It sets the name attribute for the person and returns the corresponding instance."
   ]
  },
  {
   "cell_type": "markdown",
   "metadata": {},
   "source": [
    "## Popcorn Hack #2:\n",
    "Use the example above to use a procedure to create two classes of your choosing. Create at least 2 objects and class them with your procedure"
   ]
  },
  {
   "cell_type": "code",
   "execution_count": 16,
   "metadata": {},
   "outputs": [
    {
     "name": "stdout",
     "output_type": "stream",
     "text": [
      "Tucker is a dog\n",
      "Princess is a cat\n"
     ]
    }
   ],
   "source": [
    "# Popcorn Hack 2\n",
    "\n",
    "class cat:\n",
    "    name = \"\"\n",
    "    sound = \"meow\"\n",
    "    type = \"cat\"\n",
    "\n",
    "class dog:\n",
    "    name = \"\"\n",
    "    sounds = \"woof\"\n",
    "    type = \"dog\"\n",
    "\n",
    "def classifyPet(name, sound):\n",
    "    if sound == \"meow\":\n",
    "        catPet = cat()\n",
    "        catPet.name = name\n",
    "        return catPet\n",
    "    elif sound == \"woof\":\n",
    "        dogPet = dog()\n",
    "        dogPet.name = name\n",
    "        return dogPet\n",
    "    else:\n",
    "        print(\"Thats not a dog or a cat.\")\n",
    "    \n",
    "pet1 = classifyPet(\"Tucker\", \"woof\")\n",
    "pet2 = classifyPet(\"Princess\", \"meow\")\n",
    "\n",
    "print(f\"{pet1.name} is a {pet1.type}\")\n",
    "print(f\"{pet2.name} is a {pet2.type}\")\n"
   ]
  },
  {
   "cell_type": "markdown",
   "metadata": {},
   "source": [
    "## Calling Methods of an Object w/ Procedures"
   ]
  },
  {
   "cell_type": "code",
   "execution_count": 17,
   "metadata": {},
   "outputs": [
    {
     "name": "stdout",
     "output_type": "stream",
     "text": [
      "Nihar is Tall.\n",
      "Will is Tall.\n",
      "Jayden is Tall.\n",
      "Howie is Tall.\n"
     ]
    }
   ],
   "source": [
    "# Creating Classes\n",
    "class Short:\n",
    "    name = \"\"\n",
    "    height = 0\n",
    "\n",
    "class Tall:\n",
    "    name = \"\"\n",
    "    height = 0\n",
    "\n",
    "#Procedure to classify as short or tall\n",
    "def classify_height(name, height):\n",
    "    if height < 70:\n",
    "        short_person = Short()\n",
    "        short_person.name = name\n",
    "        return short_person\n",
    "    else:\n",
    "        tall_person = Tall()\n",
    "        tall_person.name = name\n",
    "        return tall_person\n",
    "\n",
    "# Create objects and classify them as short or tall\n",
    "person1 = classify_height(\"Nihar\", 70)\n",
    "person2 = classify_height(\"Will\", 76)\n",
    "person3 = classify_height(\"Jayden\", 75)\n",
    "person4 = classify_height(\"Howie\", 70)\n",
    "\n",
    "# Display results for all four objects\n",
    "for person in [person1, person2, person3, person4]:\n",
    "    print(f\"{person.name} is {'Short' if person is Short else 'Tall'}.\")\n",
    "\n"
   ]
  },
  {
   "cell_type": "markdown",
   "metadata": {},
   "source": [
    "## HW Hacks!!\n",
    "1. Create a procedure that replaces a value with a new one (ex. update height)\n",
    "2. Create a procedure that constructs classes of your choosing and create at least 4 objects to be sorted into your classes. Call your procedure to display your objects."
   ]
  },
  {
   "cell_type": "code",
   "execution_count": 20,
   "metadata": {},
   "outputs": [
    {
     "name": "stdout",
     "output_type": "stream",
     "text": [
      "45\n"
     ]
    }
   ],
   "source": [
    "# HW Hack 1\n",
    "\n",
    "def updateNumber(currentNumber, chosenNumber):\n",
    "    if currentNumber < chosenNumber:\n",
    "        currentNumber = chosenNumber\n",
    "        return currentNumber\n",
    "    \n",
    "currentNumber = 12\n",
    "chosenNumber = 45\n",
    "newNumber = updateNumber(currentNumber, chosenNumber)\n",
    "print(newNumber)"
   ]
  },
  {
   "cell_type": "code",
   "execution_count": 22,
   "metadata": {},
   "outputs": [
    {
     "name": "stdout",
     "output_type": "stream",
     "text": [
      "Johnny is 23\n",
      "Ariana is 38\n",
      "Tom is 61\n",
      "Bethany is 84\n"
     ]
    }
   ],
   "source": [
    "# HW Hack 2\n",
    "\n",
    "class young:\n",
    "    name = \"\"\n",
    "    age = 0\n",
    "\n",
    "class old:\n",
    "    name = \"\"\n",
    "    age = 0\n",
    "\n",
    "def classifyPerson(name, age):\n",
    "    if age > 50:\n",
    "        oldPerson = old()\n",
    "        oldPerson.name = name\n",
    "        oldPerson.age = age\n",
    "        return oldPerson\n",
    "    else:\n",
    "        youngPerson = young()\n",
    "        youngPerson.name = name\n",
    "        youngPerson.age = age\n",
    "        return youngPerson\n",
    "\n",
    "person1 = classifyPerson(\"Johnny\", 23)\n",
    "person2 = classifyPerson(\"Ariana\", 38)\n",
    "person3 = classifyPerson(\"Tom\", 61)\n",
    "person4 = classifyPerson(\"Bethany\", 84)\n",
    "\n",
    "print(f\"{person1.name} is {person1.age}\")\n",
    "print(f\"{person2.name} is {person2.age}\")\n",
    "print(f\"{person3.name} is {person3.age}\")\n",
    "print(f\"{person4.name} is {person4.age}\")"
   ]
  }
 ],
 "metadata": {
  "kernelspec": {
   "display_name": "Python 3",
   "language": "python",
   "name": "python3"
  },
  "language_info": {
   "codemirror_mode": {
    "name": "ipython",
    "version": 3
   },
   "file_extension": ".py",
   "mimetype": "text/x-python",
   "name": "python",
   "nbconvert_exporter": "python",
   "pygments_lexer": "ipython3",
   "version": "3.10.12"
  }
 },
 "nbformat": 4,
 "nbformat_minor": 2
}
