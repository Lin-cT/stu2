{
 "cells": [
  {
   "cell_type": "markdown",
   "metadata": {},
   "source": [
    "---\n",
    "toc: true\n",
    "comments: false\n",
    "layout: post\n",
    "title: Cat Classes\n",
    "description: This is a demonstration of the JavaScript outputs. This class is called Cat. You can add cats into the class. You can also use the API fetch to retrieve cat images. \n",
    "type: hacks\n",
    "courses: { compsci: {week: 3} }\n",
    "---"
   ]
  },
  {
   "cell_type": "code",
   "execution_count": null,
   "metadata": {
    "vscode": {
     "languageId": "javascript"
    }
   },
   "outputs": [],
   "source": [
    "class Cat {\n",
    "    constructor(name, age, breed, owner, location) {\n",
    "      this.name = name;\n",
    "      this.age = age;\n",
    "      this.breed = breed;\n",
    "      this.owner = owner;\n",
    "      this.location = location;\n",
    "    }\n",
    "  \n",
    "    // Method to meow\n",
    "    meow() {\n",
    "      console.log(`${this.name} says: Meow!`);\n",
    "    }\n",
    "  \n",
    "    // Method to fetch and display a random cat image using an API\n",
    "    async fetchRandomCatImage() {\n",
    "      try {\n",
    "        const response = await fetch('https://api.thecatapi.com/v1/images/search');\n",
    "        if (!response.ok) {\n",
    "          throw new Error('Network response was not ok');\n",
    "        }\n",
    "        const data = await response.json();\n",
    "        const imageUrl = data[0].url;\n",
    "        console.log(`${this.name}'s random cat image: ${imageUrl}`);\n",
    "      } catch (error) {\n",
    "        console.error('Error:', error);\n",
    "      }\n",
    "    }\n",
    "  }\n",
    "  \n",
    "  // Usage example:\n",
    "  const myCat = new Cat(\"MaoMao\", 11, \"Tuxedo\", \"Lindsay\", \"Bedroom\");\n",
    "  \n",
    "  // Accessing cat properties\n",
    "  console.log(`Name: ${myCat.name}`);\n",
    "  console.log(`Age: ${myCat.age}`);\n",
    "  console.log(`Breed: ${myCat.breed}`);\n",
    "  console.log(`Owner: ${myCat.owner}`);\n",
    "  console.log(`Location: ${myCat.location}`);\n",
    "  \n",
    "  // Calling a method\n",
    "  myCat.meow();\n",
    "  \n",
    "  // Fetch and display a random cat image\n",
    "  myCat.fetchRandomCatImage();"
   ]
  }
 ],
 "metadata": {
  "language_info": {
   "name": "python"
  },
  "orig_nbformat": 4
 },
 "nbformat": 4,
 "nbformat_minor": 2
}
