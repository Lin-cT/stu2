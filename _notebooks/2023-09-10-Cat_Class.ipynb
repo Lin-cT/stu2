{
 "cells": [
  {
   "cell_type": "markdown",
   "metadata": {},
   "source": [
    "---\n",
    "toc: true\n",
    "comments: false\n",
    "layout: post\n",
    "title: Cat Classes\n",
    "description: This is a demonstration of the JavaScript outputs.\n",
    "type: tangibles\n",
    "courses: { compsci: {week: 3} }\n",
    "---"
   ]
  },
  {
   "cell_type": "code",
   "execution_count": null,
   "metadata": {
    "vscode": {
     "languageId": "javascript"
    }
   },
   "outputs": [],
   "source": [
    "class Cat {\n",
    "    constructor(name, age, breed, owner, location) {\n",
    "      this.name = name;\n",
    "      this.age = age;\n",
    "      this.breed = breed;\n",
    "      this.owner = owner;\n",
    "      this.location = location;\n",
    "    }\n",
    "  \n",
    "    // You can add methods to the Cat class here if needed\n",
    "  \n",
    "    // For example, a method to meow\n",
    "    meow() {\n",
    "      console.log(`${this.name} says: Meow!`);\n",
    "    }\n",
    "  }\n",
    "  \n",
    "  // Usage example:\n",
    "  const myCat = new Cat(\"MaoMao\", 3, \"Tuxedo\", \"Lindsay\", \"Bedroom\");\n",
    "  \n",
    "  // Accessing cat properties\n",
    "  console.log(`Name: ${myCat.name}`);\n",
    "  console.log(`Age: ${myCat.age}`);\n",
    "  console.log(`Breed: ${myCat.breed}`);\n",
    "  console.log(`Owner: ${myCat.owner}`);\n",
    "  console.log(`Location: ${myCat.location}`);\n",
    "  \n",
    "  // Calling a method\n",
    "  myCat.meow();"
   ]
  }
 ],
 "metadata": {
  "language_info": {
   "name": "python"
  },
  "orig_nbformat": 4
 },
 "nbformat": 4,
 "nbformat_minor": 2
}
