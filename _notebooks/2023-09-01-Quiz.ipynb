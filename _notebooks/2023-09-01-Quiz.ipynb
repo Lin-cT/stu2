{
 "cells": [
  {
   "cell_type": "code",
   "execution_count": null,
   "metadata": {},
   "outputs": [],
   "source": []
  },
  {
   "cell_type": "code",
   "execution_count": 2,
   "metadata": {},
   "outputs": [
    {
     "name": "stdout",
     "output_type": "stream",
     "text": [
      "Hello Lindsay\n",
      "Too bad.\n",
      "That's right!\n",
      "That's right!\n",
      "That's right!\n",
      "Thank you for playing! Your score is 2.\n"
     ]
    }
   ],
   "source": [
    "name = input(\"What's your name?\");\n",
    "print(\"Hello \" + name);\n",
    "\n",
    "questions = 3;\n",
    "correct = 0;\n",
    "\n",
    "ready = input(\"You will be asked \" + str(questions) + \" questions. Please answer 'Yes' if ready.\");\n",
    "if ready == \"Yes\":\n",
    "    print(\"Good luck.\");\n",
    "else:\n",
    "    print(\"Too bad.\");\n",
    "\n",
    "rsp = input(\"What command is used to include other functions that were previously developed?\");\n",
    "if rsp == \"Import\" or \"import\":\n",
    "    print(\"That's right!\");\n",
    "    correct += 1;\n",
    "else:\n",
    "    print(\"That's not right! Import is the correct answer.\");\n",
    "\n",
    "rsp = input(\"What command is used to evaluate correct or incorrect response in this example?\");\n",
    "if rsp == \"If\" or \"if\":\n",
    "    print(\"Good job!\");\n",
    "    correct += 1;\n",
    "else:\n",
    "    print(\"That's not right! If is the correct answer.\");\n",
    "\n",
    "rsp = input(\"Each 'if' command contains an '_________' to determine a true or false condition?\");\n",
    "if rsp == \"Expression\" or \"expression\":\n",
    "    print(\"Amazing!\");\n",
    "else:\n",
    "    print(\"That's not right! Expression is the right answer.\");\n",
    "\n",
    "print(\"Thank you for playing! Your score is \" + str(correct) + \".\");"
   ]
  }
 ],
 "metadata": {
  "kernelspec": {
   "display_name": "Python 3",
   "language": "python",
   "name": "python3"
  },
  "language_info": {
   "codemirror_mode": {
    "name": "ipython",
    "version": 3
   },
   "file_extension": ".py",
   "mimetype": "text/x-python",
   "name": "python",
   "nbconvert_exporter": "python",
   "pygments_lexer": "ipython3",
   "version": "3.10.12"
  },
  "orig_nbformat": 4
 },
 "nbformat": 4,
 "nbformat_minor": 2
}
