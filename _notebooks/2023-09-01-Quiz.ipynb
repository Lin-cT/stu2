{
 "cells": [
  {
   "cell_type": "markdown",
   "metadata": {},
   "source": [
    "---\n",
    "comments: true\n",
    "layout: post\n",
    "title: Quiz\n",
    "description: A quiz on coding terminology as well as my blog\n",
    "type: tangibles\n",
    "courses: { compsci: {week: 2} }\n",
    "---\n",
    "\n",
    "<p>This quiz will test your knowledge on Jupyter notebook vocabulary, as well as how well you read my blog.</p>"
   ]
  },
  {
   "cell_type": "code",
   "execution_count": 6,
   "metadata": {},
   "outputs": [
    {
     "name": "stdout",
     "output_type": "stream",
     "text": [
      "Hello Lindsay\n",
      "Good luck.\n",
      "That's not right! Import is the correct answer.\n",
      "Good job!\n",
      "That's not right! Expression is the right answer.\n",
      "That's right!\n",
      "That's right!\n",
      "Thank you for playing! Your score is 3/5.\n",
      "You scored a 60.0%.\n"
     ]
    }
   ],
   "source": [
    "name = input(\"What's your name?\");\n",
    "#Input will ask for the user's input, so they will have to type.\n",
    "print(\"Hello \" + name);\n",
    "\n",
    "questions = 5;\n",
    "correct = 0;\n",
    "#There are a total of 5 questions and as the user gets more of them right, theyr score will go up\n",
    "\n",
    "ready = input(\"You will be asked \" + str(questions) + \" questions. Please answer 'Yes' if ready.\");\n",
    "if ready == \"Yes\":\n",
    "    print(\"Good luck.\");\n",
    "else:\n",
    "    print(\"Too bad.\");\n",
    "\n",
    "rsp = input(\"What command is used to include other functions that were previously developed?\");\n",
    "#If they answer impor, they will get the question right and their score increases by one, otherwise they will not get to increase their score.\n",
    "if rsp == \"import\":\n",
    "    print(\"That's right!\");\n",
    "    correct += 1;\n",
    "else:\n",
    "    print(\"That's not right! Import is the correct answer.\");\n",
    "\n",
    "rsp = input(\"What command is used to evaluate correct or incorrect response in this example?\");\n",
    "if rsp == \"if\":\n",
    "    print(\"Good job!\");\n",
    "    correct += 1;\n",
    "else:\n",
    "    print(\"That's not right! If is the correct answer.\");\n",
    "\n",
    "rsp = input(\"Each 'if' command contains an '_________' to determine a true or false condition?\");\n",
    "if rsp == \"expression\":\n",
    "    print(\"Amazing!\");\n",
    "    correct =+ 1;\n",
    "else:\n",
    "    print(\"That's not right! Expression is the right answer.\");\n",
    "\n",
    "rsp = input(\"Now here are some questions about my blog! First one: How many siblings do I have?\");\n",
    "if rsp == \"2\":\n",
    "    print(\"That's right!\");\n",
    "    correct += 1;\n",
    "else:\n",
    "    print(\"That's not right! I have two older siblings\");\n",
    "\n",
    "rsp = input(\"Next one. What is my cats name?\");\n",
    "if rsp == \"Maomao\":\n",
    "    print(\"That's right!\");\n",
    "    correct += 1;\n",
    "else:\n",
    "    print(\"That's not right! My cat's name is Maomao\");\n",
    "\n",
    "print(\"Thank you for playing! Your score is \" + str(correct) + \"/5.\");\n",
    "percentage = correct / 5 * 100\n",
    "#This takes the amount they scored correctly and turns it into a percentage.\n",
    "print(\"You scored a \" + str(percentage) + \"%.\")"
   ]
  }
 ],
 "metadata": {
  "kernelspec": {
   "display_name": "Python 3",
   "language": "python",
   "name": "python3"
  },
  "language_info": {
   "codemirror_mode": {
    "name": "ipython",
    "version": 3
   },
   "file_extension": ".py",
   "mimetype": "text/x-python",
   "name": "python",
   "nbconvert_exporter": "python",
   "pygments_lexer": "ipython3",
   "version": "3.10.12"
  },
  "orig_nbformat": 4
 },
 "nbformat": 4,
 "nbformat_minor": 2
}
