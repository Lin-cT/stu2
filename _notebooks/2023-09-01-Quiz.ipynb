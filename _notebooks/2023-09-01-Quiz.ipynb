{
 "cells": [
  {
   "cell_type": "code",
   "execution_count": null,
   "metadata": {},
   "outputs": [],
   "source": []
  },
  {
   "cell_type": "code",
   "execution_count": 6,
   "metadata": {},
   "outputs": [
    {
     "name": "stdout",
     "output_type": "stream",
     "text": [
      "Hello Lindsay\n",
      "Good luck.\n"
     ]
    }
   ],
   "source": [
    "name = input(\"What's your name?\");\n",
    "print(\"Hello \" + name);\n",
    "\n",
    "questions = 3;\n",
    "correct = 0;\n",
    "\n",
    "ready = input(\"Are you ready to take the test? You will be asked \" + str(questions) + \" questions. Please answer 'Yes' if ready.\");\n",
    "\n",
    "if ready == \"Yes\":\n",
    "    print(\"Good luck.\");\n",
    "else:\n",
    "    print(\"Come back later.\")\n",
    "    exit();\n",
    "\n",
    "rsp = "
   ]
  }
 ],
 "metadata": {
  "kernelspec": {
   "display_name": "Python 3",
   "language": "python",
   "name": "python3"
  },
  "language_info": {
   "codemirror_mode": {
    "name": "ipython",
    "version": 3
   },
   "file_extension": ".py",
   "mimetype": "text/x-python",
   "name": "python",
   "nbconvert_exporter": "python",
   "pygments_lexer": "ipython3",
   "version": "3.10.12"
  },
  "orig_nbformat": 4
 },
 "nbformat": 4,
 "nbformat_minor": 2
}
