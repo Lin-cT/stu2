{
 "cells": [
  {
   "cell_type": "markdown",
   "metadata": {},
   "source": [
    "---\n",
    "toc: true\n",
    "comments: false\n",
    "layout: post\n",
    "title: Class 5 Reflection\n",
    "description: Reflection of how student teaching class 5 went.\n",
    "type: hacks\n",
    "courses: { compsci: {week: 6} }\n",
    "---"
   ]
  },
  {
   "cell_type": "markdown",
   "metadata": {},
   "source": [
    "<h1 style=\"text-align: center; color:#4263C6;font-weight:700; font-size:40px\">Class 5 Reflection</h1>\n",
    "<br>\n",
    "\n",
    "<p>\n",
    "    In Class 5, we went deper into algorithms. Here, we learned how to develop algorithms. The purpose of developing algorithms is so that we can automate and simplify repetitive code. In this clas, I think algorithms were explained in a more simple way and it was much easier to understand. \n",
    "</p>"
   ]
  }
 ],
 "metadata": {
  "language_info": {
   "name": "python"
  },
  "orig_nbformat": 4
 },
 "nbformat": 4,
 "nbformat_minor": 2
}
