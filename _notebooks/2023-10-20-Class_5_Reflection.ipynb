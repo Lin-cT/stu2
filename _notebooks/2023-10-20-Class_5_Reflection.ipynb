{
 "cells": [
  {
   "cell_type": "markdown",
   "metadata": {},
   "source": [
    "---\n",
    "toc: true\n",
    "comments: false\n",
    "layout: post\n",
    "title: Class 5 Reflection\n",
    "description: Reflection of how student teaching class 5 went.\n",
    "type: hacks\n",
    "courses: { compsci: {week: 9} }\n",
    "---"
   ]
  },
  {
   "cell_type": "markdown",
   "metadata": {},
   "source": [
    "<h1 style=\"text-align: center; color:#4263C6;font-weight:700; font-size:40px\">Class 5 Reflection</h1>\n",
    "<br>\n",
    "\n",
    "<p>\n",
    "    In Class 5, we went deper into algorithms. Here, we learned how to develop algorithms. The purpose of developing algorithms is so that we can automate and simplify repetitive code. In this clas, I think algorithms were explained in a more simple way and it was much easier to understand. We learned that there was more than one way to code an algorithm and still get the same result. They also taught us that algorithms can be used to compute math. They also taught us a way to sort lists using selection sort and insertion sort. \n",
    "</p>"
   ]
  },
  {
   "cell_type": "markdown",
   "metadata": {},
   "source": [
    "Homework 1:"
   ]
  },
  {
   "cell_type": "code",
   "execution_count": null,
   "metadata": {},
   "outputs": [],
   "source": [
    "# Example algorithm of loop\n",
    "\n",
    "# Initialize a counter to keep track of the count of odd numbers\n",
    "count = 0\n",
    "# Loop through numbers from 1 to 10\n",
    "for number in range(1, 11):  \n",
    " # Check if the number is odd\n",
    " if number % 2 != 0: \n",
    "        # Increment the count if the number is odd\n",
    "        count += 1  \n",
    "\n",
    "print(\"Count of odd numbers from 1 to 10:\", count)"
   ]
  },
  {
   "cell_type": "markdown",
   "metadata": {},
   "source": [
    "Homework 2:"
   ]
  },
  {
   "cell_type": "code",
   "execution_count": null,
   "metadata": {},
   "outputs": [],
   "source": [
    "## Insert your code here:\n",
    "\n",
    "shoot = [\"Classic\", \"Shorty\", \"Frenzy\", \"Ghost\", \"Sheriff\", \"Stinger\", \"Spectre\", \"Bulldog\", \"Guardian\", \"Phantom\", \"Vandal\", \"Marshal\", \"Operator\", \"Ares\", \"Odin\"]\n",
    "\n",
    "totalWeapons = 0\n",
    "\n",
    "for weapon in shoot:\n",
    "    totalWeapons += 1\n",
    "\n",
    "print(\"Number of weapons in Valorant: \", totalWeapons)"
   ]
  }
 ],
 "metadata": {
  "language_info": {
   "name": "python"
  },
  "orig_nbformat": 4
 },
 "nbformat": 4,
 "nbformat_minor": 2
}
