{
 "cells": [
  {
   "cell_type": "markdown",
   "metadata": {},
   "source": [
    "---\n",
    "toc: true\n",
    "comments: false\n",
    "layout: post\n",
    "title: Class 1 Reflection\n",
    "description: Reflection of how student teaching class 1 went.\n",
    "type: hacks\n",
    "courses: { compsci: {week: 6} }\n",
    "---"
   ]
  },
  {
   "cell_type": "markdown",
   "metadata": {},
   "source": [
    "<h1 style=\"text-align: center; color:#4263C6;font-weight:700; font-size:40px\">Class 1 Reflection</h1>\n",
    "<br>\n",
    "\n",
    "<p>\n",
    "    I think class 1 was relativley easy to undestand. In class 1, we learned about defining variables, as well as differet types of variables and what that means. The different types of variables are like, for example, strings, booleans, integers, and floats. We also learned the print statement, and how to add strings together using the + symbol. We also learned a small bit about json, but I think they ran out of time to explain because I don't really remember what json does. For the hacks, I tried to make a theme of Valorant for all of the popcorn and regular hacks. I really liked this team, as I think they described the topic very clear and concisely. \n",
    "</p>"
   ]
  },
  {
   "cell_type": "markdown",
   "metadata": {},
   "source": [
    "JSON: JavaScript Objection Notation\n",
    "<br>\n",
    "Used to transmit data between a server and a web application."
   ]
  },
  {
   "cell_type": "markdown",
   "metadata": {},
   "source": [
    "Hack 1:"
   ]
  },
  {
   "cell_type": "code",
   "execution_count": null,
   "metadata": {},
   "outputs": [
    {
     "name": "stdout",
     "output_type": "stream",
     "text": [
      "26\n",
      "Tesla\n",
      "['Nikki', 'Monika', 'Ankit', 'Varun']\n",
      "True\n",
      "Integer: Variable 1 (26)\n",
      "List: Variable 3 (['Nikki', 'Monika', 'Ankit', 'Varun'])\n",
      "Boolean: Variable 4 (True)\n",
      "String: Variable 2 (Tesla)\n"
     ]
    }
   ],
   "source": [
    "# Variable 1\n",
    "\n",
    "numStudents = 26\n",
    "print(numStudents)\n",
    "\n",
    "#Variable 2\n",
    "\n",
    "car = \"Tesla\"\n",
    "print(car)\n",
    "\n",
    "#Variable 3\n",
    "\n",
    "groupMates = [\"Nikki\", \"Monika\", \"Ankit\", \"Varun\"]\n",
    "print(groupMates)\n",
    "\n",
    "#Variable 4\n",
    "\n",
    "dogsbeatcats = True\n",
    "print(dogsbeatcats)\n",
    "\n",
    "print(\"Integer: Variable 1 (\" + str(numStudents) +\")\")\n",
    "print(\"List: Variable 3 (\" + str(groupMates) + \")\")\n",
    "print(\"Boolean: Variable 4 (\" + str(dogsbeatcats) + \")\")\n",
    "print(\"String: Variable 2 (\" + car + \")\")"
   ]
  },
  {
   "cell_type": "markdown",
   "metadata": {},
   "source": [
    "Hack 2:"
   ]
  },
  {
   "cell_type": "code",
   "execution_count": null,
   "metadata": {},
   "outputs": [
    {
     "name": "stdout",
     "output_type": "stream",
     "text": [
      "<class 'list'>\n",
      "<class 'str'>\n",
      "I main: [\"Kay-o\", \"Neon\", \"Jett\", \"Raze\"]\n",
      "<class 'int'>\n",
      "<class 'str'>\n",
      "I've defeated 21 people.\n",
      "<class 'bool'>\n",
      "<class 'str'>\n",
      "It is true that we won.\n"
     ]
    }
   ],
   "source": [
    "import json\n",
    "\n",
    "kills = 21\n",
    "mains = [\"Kay-o\", \"Neon\", \"Jett\", \"Raze\"]\n",
    "yesWin = True\n",
    "currentCharacter = \"Raze\"\n",
    "\n",
    "print(type(mains))\n",
    "vMains = json.dumps(mains)\n",
    "print(type(vMains))\n",
    "print(\"I main: \" + vMains)\n",
    "\n",
    "print(type(kills))\n",
    "k = json.dumps(kills)\n",
    "print(type(k))\n",
    "print(\"I've defeated \" + k + \" people.\")\n",
    "\n",
    "print(type(yesWin))\n",
    "win = json.dumps(yesWin)\n",
    "print(type(win))\n",
    "print(\"It is \" + win + \" that we won.\")"
   ]
  }
 ],
 "metadata": {
  "language_info": {
   "name": "python"
  },
  "orig_nbformat": 4
 },
 "nbformat": 4,
 "nbformat_minor": 2
}
