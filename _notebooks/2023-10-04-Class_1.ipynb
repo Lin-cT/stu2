{
 "cells": [
  {
   "cell_type": "markdown",
   "metadata": {},
   "source": [
    "---\n",
    "toc: true\n",
    "comments: false\n",
    "layout: post\n",
    "title: Class 1- Variables\n",
    "description: Class 1\n",
    "type: plans\n",
    "courses: { compsci: {week: 7} }\n",
    "---"
   ]
  },
  {
   "cell_type": "markdown",
   "metadata": {},
   "source": [
    "Popcorn Hack 1: Defining a variable"
   ]
  },
  {
   "cell_type": "code",
   "execution_count": 1,
   "metadata": {},
   "outputs": [
    {
     "name": "stdout",
     "output_type": "stream",
     "text": [
      "Phasmaphobia\n"
     ]
    }
   ],
   "source": [
    "favoriteGame = \"Phasmaphobia\";\n",
    "print(favoriteGame);"
   ]
  },
  {
   "cell_type": "markdown",
   "metadata": {},
   "source": [
    "Popcorn Hack 2: Defining different data types as variables"
   ]
  },
  {
   "cell_type": "code",
   "execution_count": 4,
   "metadata": {},
   "outputs": [
    {
     "name": "stdout",
     "output_type": "stream",
     "text": [
      "Raze is a string.\n",
      "12 is intiger.\n",
      "True is boolean\n",
      "My valorant main is Raze and I have 12 kills. It is also True that we won the last game.\n"
     ]
    }
   ],
   "source": [
    "valorantMain = \"Raze\"\n",
    "kills = 12\n",
    "yesWin = True\n",
    "\n",
    "print(valorantMain + \" is a string.\");\n",
    "print(str(kills) + \" is intiger.\");\n",
    "print(str(yesWin) + \" is boolean\")\n",
    "\n",
    "print(\"My valorant main is \" + valorantMain + \" and I have \" + str(kills) + \" kills. It is also \" + str(yesWin) + \" that we won the last game.\");"
   ]
  },
  {
   "cell_type": "markdown",
   "metadata": {},
   "source": [
    "Popcorn Hack 3: Changing the values"
   ]
  },
  {
   "cell_type": "code",
   "execution_count": 7,
   "metadata": {},
   "outputs": [
    {
     "name": "stdout",
     "output_type": "stream",
     "text": [
      "10\n"
     ]
    }
   ],
   "source": [
    "currentScore = 10\n",
    "highScore = currentScore\n",
    "currentScore = 7\n",
    "print(str(highScore))\n",
    "#Example"
   ]
  },
  {
   "cell_type": "code",
   "execution_count": 12,
   "metadata": {},
   "outputs": [
    {
     "name": "stdout",
     "output_type": "stream",
     "text": [
      "80\n"
     ]
    }
   ],
   "source": [
    "money = 100\n",
    "afterBuy = money\n",
    "afterBuy = 80\n",
    "print(str(afterBuy))"
   ]
  },
  {
   "cell_type": "markdown",
   "metadata": {},
   "source": [
    "**Each element string is referenced by an index. Most code have an index that starts at 0, but College Board starts at 1."
   ]
  },
  {
   "cell_type": "markdown",
   "metadata": {},
   "source": [
    "Popcorn Hack 4: Lists"
   ]
  },
  {
   "cell_type": "code",
   "execution_count": 13,
   "metadata": {},
   "outputs": [
    {
     "name": "stdout",
     "output_type": "stream",
     "text": [
      "My second period is AP Physics\n"
     ]
    }
   ],
   "source": [
    "classSchedule = [\"AP Calc BC\", \"AP Physics\", \"AP English Language\", \"AP Computer Science\", \"Offrole\"];\n",
    "print(\"My second period is \" + classSchedule[1]);"
   ]
  },
  {
   "cell_type": "markdown",
   "metadata": {},
   "source": [
    "Popcorn Hack 5: Replacing list values"
   ]
  },
  {
   "cell_type": "code",
   "execution_count": 14,
   "metadata": {},
   "outputs": [
    {
     "name": "stdout",
     "output_type": "stream",
     "text": [
      "['Kay-o', 'Neon', 'Jett', 'Raze']\n"
     ]
    }
   ],
   "source": [
    "mains = [\"Sage\", \"Gekko\", \"Omen\"];\n",
    "newMains = [\"Kay-o\", \"Neon\", \"Jett\", \"Raze\"];\n",
    "\n",
    "mains = newMains\n",
    "\n",
    "print(newMains)"
   ]
  },
  {
   "cell_type": "markdown",
   "metadata": {},
   "source": [
    "Homework:\n",
    "Hack 1-"
   ]
  },
  {
   "cell_type": "code",
   "execution_count": 14,
   "metadata": {},
   "outputs": [
    {
     "name": "stdout",
     "output_type": "stream",
     "text": [
      "26\n",
      "Tesla\n",
      "['Nikki', 'Monika', 'Ankit', 'Varun']\n",
      "True\n",
      "Integer: Variable 1 (26)\n",
      "List: Variable 3 (['Nikki', 'Monika', 'Ankit', 'Varun'])\n",
      "Boolean: Variable 4 (True)\n",
      "String: Variable 2 (Tesla)\n"
     ]
    }
   ],
   "source": [
    "# Variable 1\n",
    "\n",
    "numStudents = 26\n",
    "print(numStudents)\n",
    "\n",
    "#Variable 2\n",
    "\n",
    "car = \"Tesla\"\n",
    "print(car)\n",
    "\n",
    "#Variable 3\n",
    "\n",
    "groupMates = [\"Nikki\", \"Monika\", \"Ankit\", \"Varun\"]\n",
    "print(groupMates)\n",
    "\n",
    "#Variable 4\n",
    "\n",
    "dogsbeatcats = True\n",
    "print(dogsbeatcats)\n",
    "\n",
    "print(\"Integer: Variable 1 (\" + str(numStudents) +\")\")\n",
    "print(\"List: Variable 3 (\" + str(groupMates) + \")\")\n",
    "print(\"Boolean: Variable 4 (\" + str(dogsbeatcats) + \")\")\n",
    "print(\"String: Variable 2 (\" + car + \")\")"
   ]
  },
  {
   "cell_type": "markdown",
   "metadata": {},
   "source": [
    "Hack 2-"
   ]
  },
  {
   "cell_type": "code",
   "execution_count": 20,
   "metadata": {},
   "outputs": [
    {
     "name": "stdout",
     "output_type": "stream",
     "text": [
      "<class 'list'>\n",
      "<class 'str'>\n",
      "I main: [\"Kay-o\", \"Neon\", \"Jett\", \"Raze\"]\n",
      "<class 'int'>\n",
      "<class 'str'>\n",
      "I've defeated 21 people.\n",
      "<class 'bool'>\n",
      "<class 'str'>\n",
      "It is true that we won.\n"
     ]
    }
   ],
   "source": [
    "import json\n",
    "\n",
    "kills = 21\n",
    "mains = [\"Kay-o\", \"Neon\", \"Jett\", \"Raze\"]\n",
    "yesWin = True\n",
    "currentCharacter = \"Raze\"\n",
    "\n",
    "print(type(mains))\n",
    "vMains = json.dumps(mains)\n",
    "print(type(vMains))\n",
    "print(\"I main: \" + vMains)\n",
    "\n",
    "print(type(kills))\n",
    "k = json.dumps(kills)\n",
    "print(type(k))\n",
    "print(\"I've defeated \" + k + \" people.\")\n",
    "\n",
    "print(type(yesWin))\n",
    "win = json.dumps(yesWin)\n",
    "print(type(win))\n",
    "print(\"It is \" + win + \" that we won.\")"
   ]
  }
 ],
 "metadata": {
  "kernelspec": {
   "display_name": "Python 3",
   "language": "python",
   "name": "python3"
  },
  "language_info": {
   "codemirror_mode": {
    "name": "ipython",
    "version": 3
   },
   "file_extension": ".py",
   "mimetype": "text/x-python",
   "name": "python",
   "nbconvert_exporter": "python",
   "pygments_lexer": "ipython3",
   "version": "3.10.12"
  },
  "orig_nbformat": 4
 },
 "nbformat": 4,
 "nbformat_minor": 2
}
