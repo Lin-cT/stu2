{
 "cells": [
  {
   "cell_type": "markdown",
   "metadata": {},
   "source": [
    "---\n",
    "comments: true\n",
    "layout: post\n",
    "title: Data Structure Writeup\n",
    "courses: { csp: {week: 26} }\n",
    "---"
   ]
  },
  {
   "cell_type": "markdown",
   "metadata": {},
   "source": [
    "# Collections\n",
    "Blog Python Model code and SQLite Database.\n",
    "\n",
    "For this project, I have created a database called activities that stores the data for the locations and names of therapies. I have also added columns to the user database.\n",
    "\n",
    "**From VSCode using SQLite3 Editor, show your unique collection/table in database, display rows and columns in the table of the SQLite database.**\n",
    "\n",
    "Therapy SQLite Database:\n",
    "\n",
    "![image.png](https://files.catbox.moe/lav1yx.png)\n",
    "<br>Above shows therapy database with columns:\n",
    "- Name: The name of the therapy\n",
    "- Location: Where the Therapy is located\n",
    "- Special: The specialization of the therapy (ex. PTSD, Family Therapy, Relationship Therapy)\n",
    "\n",
    "Therapy Database Code:"
   ]
  },
  {
   "cell_type": "code",
   "execution_count": null,
   "metadata": {},
   "outputs": [],
   "source": [
    "from random import randrange\n",
    "import json\n",
    "\n",
    "from __init__ import app, db\n",
    "from sqlalchemy.exc import IntegrityError\n",
    "\n",
    "class Therapy(db.Model):\n",
    "    __tablename__ = 'therapies'\n",
    "\n",
    "    id = db.Column(db.Integer, primary_key=True)\n",
    "    _name = db.Column(db.String(255), unique=False, nullable=False)\n",
    "    _location = db.Column(db.String(255), unique=False, nullable=False)\n",
    "    _special = db.Column(db.String(255), unique=False, nullable=False)\n",
    "\n",
    "    def __init__(self, name, location, special):\n",
    "        self._name = name\n",
    "        self._location = location\n",
    "        self._special = special\n",
    "\n",
    "    @property\n",
    "    def name(self):\n",
    "        return self._name\n",
    "    \n",
    "    @name.setter\n",
    "    def name(self, name):\n",
    "        self._name = name\n",
    "    \n",
    "    @property\n",
    "    def location(self):\n",
    "        return self._location\n",
    "    \n",
    "    @location.setter\n",
    "    def location(self, location):\n",
    "        self._location = location\n",
    "    \n",
    "    @property\n",
    "    def special(self):\n",
    "        return self._special\n",
    "    \n",
    "    @special.setter\n",
    "    def special(self, special):\n",
    "        self._special = special\n",
    "    \n",
    "    def __str__(self):\n",
    "        return json.dumps(self.read())\n",
    "\n",
    "    def create(self):\n",
    "        try:\n",
    "            db.session.add(self)\n",
    "            db.session.commit()\n",
    "            return self\n",
    "        except IntegrityError:\n",
    "            db.session.remove()\n",
    "            return None\n",
    "\n",
    "    def read(self):\n",
    "        return {\n",
    "            \"id\": self.id,\n",
    "            \"name\": self.name,\n",
    "            \"location\": self.location,\n",
    "            \"special\": self.special,\n",
    "        }"
   ]
  },
  {
   "cell_type": "markdown",
   "metadata": {},
   "source": [
    "**From VSCode model, show your unique code that was created to initialize table and create test data.**\n",
    "\n",
    "Therapy Initialization Code (Testing Data):"
   ]
  },
  {
   "cell_type": "code",
   "execution_count": null,
   "metadata": {},
   "outputs": [],
   "source": [
    "def initTherapies():\n",
    "    with app.app_context():\n",
    "        db.create_all()\n",
    "        therapies = [\n",
    "            Therapy(name=\"Tranquil Haven Counseling Center\", location=\"Suburban Retreat\", special=\"General Counseling\"),\n",
    "            Therapy(name=\"Healing Waters Retreat\", location=\"Riverside Sanctuary\", special=\"Trauma Recovery\"),\n",
    "            Therapy(name=\"Family Harmony Center\", location=\"Urban Oasis\", special=\"Family Counseling\"),\n",
    "            Therapy(name=\"Sunrise Serenity Therapy Spa\", location=\"Coastal Resort\", special=\"Wellness Retreat\"),\n",
    "            Therapy(name=\"Inner Peace Sanctuary\", location=\"Mountain Retreat\", special=\"Mindfulness Therapy\"),\n",
    "            Therapy(name=\"Empowerment Pathways Center\", location=\"Downtown Hub\", special=\"Personal Growth Workshops\"),\n",
    "            Therapy(name=\"Whispering Winds Wellness Retreat\", location=\"Countryside Haven\", special=\"Stress Management\"),\n",
    "            Therapy(name=\"Safe Harbor Trauma Center\", location=\"Seaside Refuge\", special=\"PTSD Treatment\"),\n",
    "            Therapy(name=\"Hope Springs Counseling Oasis\", location=\"Desert Sanctuary\", special=\"Grief Counseling\"),\n",
    "            Therapy(name=\"Bright Horizons Counseling Collective\", location=\"Community Center\", special=\"Youth Counseling\"),\n",
    "            Therapy(name=\"Serenity Falls Therapy Retreat\", location=\"Forest Hideaway\", special=\"Addiction Recovery\"),\n",
    "            Therapy(name=\"Lighthouse Healing Institute\", location=\"Lakeside Sanctuary\", special=\"Depression Support\"),\n",
    "            Therapy(name=\"Tranquility Cove Wellness Center\", location=\"Island Escape\", special=\"Anxiety Relief\"),\n",
    "            Therapy(name=\"Phoenix Rising Counseling Center\", location=\"Metropolitan Haven\", special=\"Life Coaching\"),\n",
    "            Therapy(name=\"Golden Pathways Therapy Haven\", location=\"Retreat Center\", special=\"Spiritual Counseling\")\n",
    "        ]\n",
    "        for therapy in therapies:\n",
    "            try:\n",
    "                therapy.create()\n",
    "            except IntegrityError:\n",
    "                db.session.rollback()\n",
    "                print(f\"Record exists\")"
   ]
  },
  {
   "cell_type": "markdown",
   "metadata": {},
   "source": [
    "# Lists and Dictionaries\n",
    "Blog Python API code and use of List and Dictionaries.\n",
    "\n",
    "**In VSCode using Debugger, show a list as extracted from database as Python objects.**\n",
    "\n",
    "Activity Read List in Debugger:\n",
    "![image.png](https://files.catbox.moe/krme19.png)\n",
    "When the frontend code fetches the data from the activity database it sends a list of all the activities from the database as shown above. The list returns all the information about the therapies as python objects. \n",
    "\n",
    "List named activity that holds all the python objects (ex. Activity 1, Activity 2, etc.).<br>\n",
    "![image.png](https://files.catbox.moe/82grmu.png)\n",
    "<br>Above is the API code used from the frontend to fetch data from the backend. Breakpoint is shown to retrieve list in debugger. \n",
    "\n",
    "**In VSCode use Debugger and list, show two distinct example examples of dictionaries, show Keys/Values using debugger.**\n",
    "\n",
    "User Model Dictionary:\n",
    "![image.png](https://files.catbox.moe/b2snoj.png)\n",
    "All the users registered are stored in the backend as dictionaries. In the debugger on the left [purple] there are keys (uid, name, sleep, diary, exercise, etc.) and the values are stored on the right [orange].<br>\n",
    "![image-3.png](https://files.catbox.moe/cf77aw.png)\n",
    "<br>Demonstrated here is the read function within the database that returns the user data in a dictionary.\n",
    "\n",
    "Activity Model Dictionary:\n",
    "![image.png](https://files.catbox.moe/2dojyy.png)\n",
    "The therapy data is stored in the backend also as dictionaries. There are less keys [purple] in this database (name, location, special). Values of the keys are on the right [orange]<br>\n",
    "![image-2.png](https://files.catbox.moe/nfu292.png)\n",
    "<br>Read in the activity database that returns activity data in dictionary."
   ]
  },
  {
   "cell_type": "markdown",
   "metadata": {},
   "source": [
    "# APIs and JSON\n",
    "Blog Python API code and use of Postman to request and respond with JSON.\n",
    "\n",
    "**In VSCode, show Python API code definition for request and response using GET, POST, UPDATE methods. Discuss algorithmic condition used to direct request to appropriate Python method based on request method.**\n",
    "\n",
    "Within the two APIs, user_api and activity_api, there are resources that direct to the appropriate request methods. With the appropriate link, and with the right prefix, the right function will be called when a request is sent from the frontend.\n",
    "\n",
    "User API:"
   ]
  },
  {
   "cell_type": "code",
   "execution_count": null,
   "metadata": {},
   "outputs": [],
   "source": [
    "user_api = Blueprint('user_api', __name__,\n",
    "                   url_prefix='/api/users')\n",
    "\n",
    "activity_api = Blueprint('activity_api', __name__,\n",
    "                   url_prefix='/api/activity')"
   ]
  },
  {
   "cell_type": "markdown",
   "metadata": {},
   "source": [
    "Endpoints:"
   ]
  },
  {
   "cell_type": "code",
   "execution_count": null,
   "metadata": {},
   "outputs": [],
   "source": [
    "# Users_api endpoints\n",
    "api.add_resource(_CRUD, '/')\n",
    "api.add_resource(_Create, '/create')\n",
    "api.add_resource(_Security, '/authenticate')\n",
    "api.add_resource(_Diary, '/diary') # This is my endpoint in users\n",
    "api.add_resource(_UD, '/<int:user_id>') \n",
    "api.add_resource(_Logout, '/logout') \n",
    "\n",
    "# Activity_api endpoints\n",
    "api.add_resource(_Read, '/')\n",
    "api.add_resource(_Create, '/create')"
   ]
  },
  {
   "cell_type": "markdown",
   "metadata": {},
   "source": [
    "GET, POST, and PUT Code:"
   ]
  },
  {
   "cell_type": "code",
   "execution_count": null,
   "metadata": {},
   "outputs": [],
   "source": [
    "# Get Code for Activities\n",
    "def get(self):\n",
    "    activities = Activity.query.all()\n",
    "    json_ready = [activity.read() for activity in activities]\n",
    "    return jsonify(json_ready)\n",
    "# Get Code for Diary\n",
    "def get(self):\n",
    "    token = request.cookies.get(\"jwt\")\n",
    "    data = jwt.decode(token, \n",
    "                    current_app.config[\"SECRET_KEY\"], \n",
    "                    algorithms=[\"HS256\"])\n",
    "    users = User.query.all()\n",
    "    for user in users:\n",
    "        if user.uid == data[\"_uid\"]:    \n",
    "            jsonData = user.diary\n",
    "            print(jsonData)\n",
    "            return user.diary\n",
    "        return jsonify(jsonData)\n",
    "# Post Code\n",
    "def post(self):\n",
    "    body = request.get_json()\n",
    "    # Fetch data from the form\n",
    "    name = body.get('name')\n",
    "    if name is None or len(name) < 2:\n",
    "        return {'message': f'Name is missing, or is less than 2 characters'}, 400\n",
    "    # validate location\n",
    "    location = body.get('location')\n",
    "    if location is None or len(location) < 2:\n",
    "        return {'message': f'Location is missing, or is less than 2 characters'}, 400\n",
    "    # validate location\n",
    "    special = body.get('special')\n",
    "    if special is None or len(special) < 2:\n",
    "        return {'message': f'Specialty is missing, or is less than 2 characters'}, 400\n",
    "    new_activity = Activity(name=name, location=location, special=special)\n",
    "    activity = new_activity.create()\n",
    "    # success returns json of user\n",
    "    if activity:\n",
    "            #return jsonify(user.read())\n",
    "            return activity.read()\n",
    "        # failure returns error\n",
    "    return {'message': f'Record already exists'}, 400\n",
    "# Put Code\n",
    "def put(self):\n",
    "    body = request.get_json()\n",
    "    token = request.cookies.get(\"jwt\")\n",
    "    data = jwt.decode(token, \n",
    "                    current_app.config[\"SECRET_KEY\"], \n",
    "                    algorithms=[\"HS256\"])\n",
    "    diary = body.get('diary')\n",
    "    users = User.query.all()\n",
    "    for user in users:\n",
    "        if user.uid == data[\"_uid\"]:    \n",
    "            print(data[\"_uid\"])\n",
    "            user.update(\"\", \"\", \"\", user._diary + \"///\" + diary, \"\", \"\")\n",
    "            return user.read()"
   ]
  },
  {
   "cell_type": "markdown",
   "metadata": {},
   "source": [
    "**In VSCode, show algorithmic conditions used to validate data on a POST condition.**\n",
    "\n",
    "Algorithmic Conditions to validate Post:"
   ]
  },
  {
   "cell_type": "code",
   "execution_count": null,
   "metadata": {},
   "outputs": [],
   "source": [
    "name = body.get('name')\n",
    "if name is None or len(name) < 2:\n",
    "    return {'message': f'Name is missing, or is less than 2 characters'}, 400\n",
    "# validate location\n",
    "location = body.get('location')\n",
    "if location is None or len(location) < 2:\n",
    "    return {'message': f'Location is missing, or is less than 2 characters'}, 400\n",
    "# validate location\n",
    "special = body.get('special')\n",
    "if special is None or len(special) < 2:\n",
    "    return {'message': f'Specialty is missing, or is less than 2 characters'}, 400"
   ]
  },
  {
   "cell_type": "markdown",
   "metadata": {},
   "source": [
    "**In Postman, show URL request and Body requirements for GET, POST, and UPDATE methods.**\n",
    "\n",
    "GET:<br>\n",
    "![image.png](https://files.catbox.moe/isotqc.png)\n",
    "<br>Get function does not expect a body, thus no body is required. The API waits for a get request to be sent then sends data. \n",
    "\n",
    "POST:<br>\n",
    "![image-2.png](https://files.catbox.moe/193rg5.png)\n",
    "<br>This post function requires the name, location, and specialization of the therapy.\n",
    "\n",
    "PUT:<br>\n",
    "![image-3.png](https://files.catbox.moe/ocom03.png)\n",
    "<br>This put function only updates the diary column, and thus only requires diary."
   ]
  },
  {
   "cell_type": "markdown",
   "metadata": {},
   "source": [
    "**In Postman, show the JSON response data for 200 success conditions on GET, POST, and UPDATE methods.**\n",
    "\n",
    "GET:<br>\n",
    "![image.png](https://files.catbox.moe/s4bozo.png)\n",
    "<br>Successful GET request displays the data from the database for therapy.\n",
    "\n",
    "POST:<br>\n",
    "![image-2.png](https://files.catbox.moe/uk8i15.png)\n",
    "<br>Successful POST displays the new therapy location added into the database. \n",
    "\n",
    "PUT:<br>\n",
    "![image-3.png](https://files.catbox.moe/7lo4bh.png)\n",
    "<br>Successful PUT displays the data on the specific user with the updated diary (I had a previous diary entry of keyboard spam seperated by /// to signify a new diary entry)."
   ]
  },
  {
   "cell_type": "markdown",
   "metadata": {},
   "source": [
    "**In Postman, show the JSON response for error for 400 when missing body on a POST request.**\n",
    "\n",
    "Missing Body POST:<br>\n",
    "![image.png](https://files.catbox.moe/irg2pd.png)\n",
    "<br>Does not allow me to create a new entry into the database"
   ]
  },
  {
   "cell_type": "markdown",
   "metadata": {},
   "source": [
    "**In Postman, show the JSON response for error for 404 when providing an unknown user ID to a UPDATE request.**\n",
    "\n",
    "This can not be accomplished. In my code, I take the cookie from the user that is logged in and I decode the cookie in order to update the information for that user. Thus, I am not able to provide an unknown user ID to update."
   ]
  },
  {
   "cell_type": "code",
   "execution_count": null,
   "metadata": {},
   "outputs": [],
   "source": [
    "def put(self):\n",
    "    body = request.get_json()\n",
    "    token = request.cookies.get(\"jwt\")\n",
    "    data = jwt.decode(token, \n",
    "                    current_app.config[\"SECRET_KEY\"], \n",
    "                    algorithms=[\"HS256\"])\n",
    "    diary = body.get('diary')\n",
    "    users = User.query.all()\n",
    "    for user in users:\n",
    "        if user.uid == data[\"_uid\"]:    \n",
    "            print(data[\"_uid\"])\n",
    "            user.update(\"\", \"\", \"\", user._diary + \"///\" + diary, \"\", \"\")\n",
    "            return user.read()"
   ]
  },
  {
   "cell_type": "markdown",
   "metadata": {},
   "source": [
    "# Frontend\n",
    "Blog JavaScript API fetch code and formatting code to display JSON.\n",
    "\n",
    "**In Chrome inspect, show response of JSON objects from fetch of GET, POST, and UPDATE methods.**\n",
    "\n",
    "GET:<br>\n",
    "![image.png](https://files.catbox.moe/x8enhe.png)\n",
    "<br>Fetching the therapy data from the backend JSON response in the frontend.\n",
    "\n",
    "POST:<br>\n",
    "![image-2.png](https://files.catbox.moe/yutdqw.png)\n",
    "<br>Sending data to the backend showing JSON response in the frontend.\n",
    "\n",
    "PUT:<br>\n",
    "![image-3.png](https://files.catbox.moe/0fyl79.png)\n",
    "<br>Sending data to the backend showing JSON response in the frontend.<br>\n",
    "\n",
    "**In the Chrome browser, show a demo (GET) of obtaining an Array of JSON objects that are formatted into the browsers screen.**\n",
    "\n",
    "GET fetching from activity database:<br>\n",
    "![image.png](https://files.catbox.moe/x8enhe.png)\n",
    "<br>This is the array JSON response from the backend.\n",
    "\n",
    "In JavaScript code, describe fetch and method that obtained the Array of JSON objects:\n",
    "- GET request to backend to fetch the data\n",
    "- Sent request to http://127.0.0.1:8086/api/activity/ which is the correct link\n",
    "- if else catches if the response was okay or not okay"
   ]
  },
  {
   "cell_type": "code",
   "execution_count": null,
   "metadata": {},
   "outputs": [],
   "source": [
    "function displayActivityTable() {\n",
    "    let options = {\n",
    "        method: 'GET',\n",
    "        headers: {\n",
    "            'Content-Type': 'application/json;charset=utf-8'\n",
    "        },\n",
    "    };\n",
    "    fetch(\"http://127.0.0.1:8086/api/activity/\", options)\n",
    "    .then(response => {\n",
    "        if (response.ok) {\n",
    "            return response.json();\n",
    "        } else {\n",
    "            throw new Error('Network response was not ok.');\n",
    "        }\n",
    "    })"
   ]
  },
  {
   "cell_type": "markdown",
   "metadata": {},
   "source": [
    "In JavaScript code, show code that performs iteration and formatting of data into HTML:\n",
    "- Iterates through each entry in the database and displays it onto a table"
   ]
  },
  {
   "cell_type": "code",
   "execution_count": null,
   "metadata": {},
   "outputs": [],
   "source": [
    ".then(data => {\n",
    "    const tableBody = document.querySelector(\"#activity-table tbody\");\n",
    "    tableBody.innerHTML = \"\"; // Clear the existing table data\n",
    "    data.forEach(activity => {\n",
    "        const row = tableBody.insertRow();\n",
    "        const nameCell = row.insertCell(0);\n",
    "        const locationCell = row.insertCell(1);\n",
    "        const specialCell = row.insertCell(2);\n",
    "\n",
    "        nameCell.textContent = activity.name;\n",
    "        locationCell.textContent = activity.location;\n",
    "        specialCell.textContent = activity.special;\n",
    "    });\n",
    "})\n",
    ".catch(error => {\n",
    "    console.error('Error:', error);\n",
    "    alert(error);\n",
    "});\n",
    "}"
   ]
  },
  {
   "cell_type": "markdown",
   "metadata": {},
   "source": [
    "![image](https://files.catbox.moe/nctypa.png)"
   ]
  },
  {
   "cell_type": "markdown",
   "metadata": {},
   "source": [
    "**In the Chrome browser, show a demo (POST or UPDATE) gathering and sending input and receiving a response that show update. Repeat this demo showing both success and failure.**\n",
    "\n",
    "POST-\n",
    "\n",
    "Success:<br>\n",
    "![image.png](https://files.catbox.moe/22xaoz.png)\n",
    "<br>There is an alert message that pops up for the user to tell the user it was updated successfully. Once the message is clicked, the page reloads and the entry is displayed on the table.<br>\n",
    "![image-3.png](https://files.catbox.moe/41nses.png)\n",
    "\n",
    "Failure:<br>\n",
    "![image-2.png](https://files.catbox.moe/gn0yjc.png)\n",
    "<br>The length of the name, location, and specialization were too short so the entry could not be created."
   ]
  },
  {
   "cell_type": "markdown",
   "metadata": {},
   "source": [
    "In JavaScript code, show and describe code that handles success. Describe how code shows success to the user in the Chrome Browser screen:"
   ]
  },
  {
   "cell_type": "code",
   "execution_count": null,
   "metadata": {},
   "outputs": [],
   "source": [
    "if (response.status === 200) {\n",
    "    alert(\"Entry added successfully!\");\n",
    "    window.location.reload();"
   ]
  },
  {
   "cell_type": "markdown",
   "metadata": {},
   "source": [
    "If the resopnse from the backend is 200, meaning that it was successful, the code will continue and run an alert message that displays to the user that the entry was added successfully, then the page and the table will reload (as the table regenerates when the page loads), and display the new entry."
   ]
  },
  {
   "cell_type": "markdown",
   "metadata": {},
   "source": [
    "In JavaScript code, show and describe code that handles failure. Describe how the code shows failure to the user in the Chrome Browser screen:"
   ]
  },
  {
   "cell_type": "code",
   "execution_count": null,
   "metadata": {},
   "outputs": [],
   "source": [
    "else if (response.status === 400) {\n",
    "    alert(\"There was a problem creating the entry.\");\n",
    "}"
   ]
  },
  {
   "cell_type": "markdown",
   "metadata": {},
   "source": [
    "If the response given was 400 instead, this code will run giving an alert to the user that there was a problem creating the entry (so the user definitley knows there's a problem)."
   ]
  }
 ],
 "metadata": {
  "language_info": {
   "name": "python"
  }
 },
 "nbformat": 4,
 "nbformat_minor": 2
}
