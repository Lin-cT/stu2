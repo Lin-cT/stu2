{
 "cells": [
  {
   "cell_type": "markdown",
   "metadata": {},
   "source": [
    "---\n",
    "comments: true\n",
    "layout: post\n",
    "title: Data Structure Writeup\n",
    "courses: { csp: {week: 26} }\n",
    "---"
   ]
  },
  {
   "cell_type": "markdown",
   "metadata": {},
   "source": [
    "# Collections\n",
    "Blog Python Model code and SQLite Database.\n",
    "\n",
    "For this project, I have created a database called activities that stores the data for the locations and names of therapies. I have also added columns to the user database.\n",
    "\n",
    "**From VSCode using SQLite3 Editor, show your unique collection/table in database, display rows and columns in the table of the SQLite database.**\n",
    "\n",
    "Therapy SQLite Database:\n",
    "\n",
    "![image.png](https://files.catbox.moe/cnfl9m.png)\n",
    "<br>Above shows therapy database with columns:\n",
    "- Name: The name of the therapy\n",
    "- Location: Where the Therapy is located\n",
    "- Special: The specialization of the therapy (ex. PTSD, Family Therapy, Relationship Therapy)\n",
    "\n",
    "Therapy Database Code:"
   ]
  },
  {
   "cell_type": "code",
   "execution_count": null,
   "metadata": {},
   "outputs": [],
   "source": [
    "from random import randrange \n",
    "import json  \n",
    "\n",
    "from __init__ import app, db  \n",
    "from sqlalchemy.exc import IntegrityError\n",
    "\n",
    "class Therapy(db.Model):  # Defining Therapy class as a subclass of db.Model from SQLAlchemy\n",
    "    __tablename__ = 'therapies'  # Table name in the database\n",
    "\n",
    "    # Defining columns of the table\n",
    "    id = db.Column(db.Integer, primary_key=True)  \n",
    "    _name = db.Column(db.String(255), unique=False, nullable=False)  \n",
    "    _location = db.Column(db.String(255), unique=False, nullable=False)  \n",
    "    _special = db.Column(db.String(255), unique=False, nullable=False) \n",
    "\n",
    "    def __init__(self, name, location, special):  # Constructor method for Therapy class\n",
    "        self._name = name  \n",
    "        self._location = location  \n",
    "        self._special = special  \n",
    "\n",
    "    @property\n",
    "    def name(self):  # Getter method for name attribute\n",
    "        return self._name\n",
    "    \n",
    "    @name.setter\n",
    "    def name(self, name):  # Setter method for name attribute\n",
    "        self._name = name\n",
    "    \n",
    "    @property\n",
    "    def location(self):  # Getter method for location attribute\n",
    "        return self._location\n",
    "    \n",
    "    @location.setter\n",
    "    def location(self, location):  # Setter method for location attribute\n",
    "        self._location = location\n",
    "    \n",
    "    @property\n",
    "    def special(self):  # Getter method for special attribute\n",
    "        return self._special\n",
    "    \n",
    "    @special.setter\n",
    "    def special(self, special):  # Setter method for special attribute\n",
    "        self._special = special\n",
    "    \n",
    "    def __str__(self):  # String representation of Therapy object\n",
    "        return json.dumps(self.read())  # Converting Therapy object to JSON string\n",
    "\n",
    "    def create(self):  # Method to create a new Therapy record in the database\n",
    "        try:\n",
    "            db.session.add(self)\n",
    "            db.session.commit()\n",
    "            return self  # Returning the created Therapy object\n",
    "        except IntegrityError:  # Handling IntegrityError (e.g., duplicate key)\n",
    "            db.session.remove()\n",
    "            return None  # Returning None if creation fails\n",
    "\n",
    "\n",
    "    def read(self):  # Method to read Therapy object attributes\n",
    "        return {\n",
    "            \"id\": self.id,  # Therapy ID\n",
    "            \"name\": self.name,  # Therapy name\n",
    "            \"location\": self.location,  # Therapy location\n",
    "            \"special\": self.special,  # Therapy specialization\n",
    "        }\n"
   ]
  },
  {
   "cell_type": "markdown",
   "metadata": {},
   "source": [
    "**From VSCode model, show your unique code that was created to initialize table and create test data.**\n",
    "\n",
    "Therapy Initialization Code (Testing Data):"
   ]
  },
  {
   "cell_type": "code",
   "execution_count": null,
   "metadata": {},
   "outputs": [],
   "source": [
    "def initTherapies():\n",
    "    with app.app_context():\n",
    "        db.create_all()\n",
    "        therapies = [\n",
    "            Therapy(name=\"Tranquil Haven Counseling Center\", location=\"Suburban Retreat\", special=\"General Counseling\"),\n",
    "            Therapy(name=\"Healing Waters Retreat\", location=\"Riverside Sanctuary\", special=\"Trauma Recovery\"),\n",
    "            Therapy(name=\"Family Harmony Center\", location=\"Urban Oasis\", special=\"Family Counseling\"),\n",
    "            Therapy(name=\"Sunrise Serenity Therapy Spa\", location=\"Coastal Resort\", special=\"Wellness Retreat\"),\n",
    "            Therapy(name=\"Inner Peace Sanctuary\", location=\"Mountain Retreat\", special=\"Mindfulness Therapy\"),\n",
    "            Therapy(name=\"Empowerment Pathways Center\", location=\"Downtown Hub\", special=\"Personal Growth Workshops\"),\n",
    "            Therapy(name=\"Whispering Winds Wellness Retreat\", location=\"Countryside Haven\", special=\"Stress Management\"),\n",
    "            Therapy(name=\"Safe Harbor Trauma Center\", location=\"Seaside Refuge\", special=\"PTSD Treatment\"),\n",
    "            Therapy(name=\"Hope Springs Counseling Oasis\", location=\"Desert Sanctuary\", special=\"Grief Counseling\"),\n",
    "            Therapy(name=\"Bright Horizons Counseling Collective\", location=\"Community Center\", special=\"Youth Counseling\"),\n",
    "            Therapy(name=\"Serenity Falls Therapy Retreat\", location=\"Forest Hideaway\", special=\"Addiction Recovery\"),\n",
    "            Therapy(name=\"Lighthouse Healing Institute\", location=\"Lakeside Sanctuary\", special=\"Depression Support\"),\n",
    "            Therapy(name=\"Tranquility Cove Wellness Center\", location=\"Island Escape\", special=\"Anxiety Relief\"),\n",
    "            Therapy(name=\"Phoenix Rising Counseling Center\", location=\"Metropolitan Haven\", special=\"Life Coaching\"),\n",
    "            Therapy(name=\"Golden Pathways Therapy Haven\", location=\"Retreat Center\", special=\"Spiritual Counseling\")\n",
    "        ]\n",
    "        for therapy in therapies:\n",
    "            try:\n",
    "                therapy.create()\n",
    "            except IntegrityError:\n",
    "                db.session.rollback()\n",
    "                print(f\"Record exists\")"
   ]
  },
  {
   "cell_type": "markdown",
   "metadata": {},
   "source": [
    "# Lists and Dictionaries\n",
    "Blog Python API code and use of List and Dictionaries.\n",
    "\n",
    "**In VSCode using Debugger, show a list as extracted from database as Python objects.**\n",
    "\n",
    "Therapy Read List in Debugger:\n",
    "![image.png](https://files.catbox.moe/eweixx.png)\n",
    "When the frontend code fetches the data from the therapy database it sends a list of all the therapies from the database as shown above. The list returns all the information about the therapies as python objects. \n",
    "\n",
    "**In VSCode use Debugger and list, show two distinct example examples of dictionaries, show Keys/Values using debugger.**\n",
    "\n",
    "User Model Dictionary:\n",
    "![image.png](https://files.catbox.moe/5vqtsp.png)\n",
    "All the users registered are stored in the backend as dictionaries. In the debugger on the left [purple] there are keys (uid, name, sleep, diary, exercise, etc.) and the values are stored on the right [orange].<br>\n",
    "\n",
    "Therapy Model Dictionary:\n",
    "![image.png](https://files.catbox.moe/0i61d5.png)\n",
    "The therapy data is stored in the backend also as dictionaries. There are less keys [purple] in this database (name, location, special). Values of the keys are on the right [orange]"
   ]
  },
  {
   "cell_type": "markdown",
   "metadata": {},
   "source": [
    "# APIs and JSON\n",
    "Blog Python API code and use of Postman to request and respond with JSON.\n",
    "\n",
    "**In VSCode, show Python API code definition for request and response using GET, POST, UPDATE methods. Discuss algorithmic condition used to direct request to appropriate Python method based on request method.**\n",
    "\n",
    "Within the two APIs, user_api and activity_api, there are resources that direct to the appropriate request methods. With the appropriate link, and with the right prefix, the right function will be called when a request is sent from the frontend.\n",
    "\n",
    "User API:"
   ]
  },
  {
   "cell_type": "code",
   "execution_count": null,
   "metadata": {},
   "outputs": [],
   "source": [
    "user_api = Blueprint('user_api', __name__,\n",
    "                   url_prefix='/api/users')\n",
    "\n",
    "api = Api(user_api)\n",
    "\n",
    "class UserAPI:        \n",
    "    class _CRUD(Resource):\n",
    "        # Code here\n",
    "\n",
    "    class _Security(Resource):\n",
    "        # Code here\n",
    "    \n",
    "    class _Create(Resource):\n",
    "        # Code here\n",
    "    \n",
    "    class _Logout(Resource):\n",
    "        # Code here\n",
    "    \n",
    "    class _UD(Resource):\n",
    "        # Code here\n",
    "\n",
    "    class _Diary(Resource):\n",
    "        # Code here\n",
    "\n",
    "# building RESTapi endpoint\n",
    "api.add_resource(_CRUD, '/')\n",
    "api.add_resource(_Create, '/create')\n",
    "api.add_resource(_Security, '/authenticate')\n",
    "api.add_resource(_Diary, '/diary')\n",
    "api.add_resource(_UD, '/<int:user_id>') \n",
    "api.add_resource(_Logout, '/logout') "
   ]
  },
  {
   "cell_type": "markdown",
   "metadata": {},
   "source": [
    "Therapy API:"
   ]
  },
  {
   "cell_type": "code",
   "execution_count": null,
   "metadata": {},
   "outputs": [],
   "source": [
    "therapy_api = Blueprint('therapy_api', __name__,\n",
    "                   url_prefix='/api/therapy')\n",
    "\n",
    "api = Api(therapy_api)\n",
    "\n",
    "class TherapyAPI:     \n",
    "    class _Read(Resource):\n",
    "        # Code here\n",
    "    \n",
    "    class _Create(Resource):\n",
    "        # Code here\n",
    "\n",
    "# building RESTapi endpoint, method distinguishes action\n",
    "api.add_resource(_Read, '/')\n",
    "api.add_resource(_Create, '/create')"
   ]
  },
  {
   "cell_type": "markdown",
   "metadata": {},
   "source": [
    "**Demonstrate the code for GET, POST, and PUT**\n",
    "\n",
    "GET, POST, and PUT Code:"
   ]
  },
  {
   "cell_type": "code",
   "execution_count": null,
   "metadata": {},
   "outputs": [],
   "source": [
    "# Get Code for Activities\n",
    "def get(self):\n",
    "    therapies = Therapy.query.all()\n",
    "    json_ready = [therapy.read() for therapy in therapies]\n",
    "    return jsonify(json_ready)\n",
    "# Get Code for Diary\n",
    "def get(self):\n",
    "    token = request.cookies.get(\"jwt\")\n",
    "    data = jwt.decode(token, \n",
    "                    current_app.config[\"SECRET_KEY\"], \n",
    "                    algorithms=[\"HS256\"])\n",
    "    users = User.query.all()\n",
    "    for user in users:\n",
    "        if user.uid == data[\"_uid\"]:    \n",
    "            jsonData = user.diary\n",
    "            print(jsonData)\n",
    "            return user.diary\n",
    "        return jsonify(jsonData)\n",
    "# Post Code\n",
    "def post(self):\n",
    "    body = request.get_json()\n",
    "    # Fetch data from the form\n",
    "    name = body.get('name')\n",
    "    if name is None or len(name) < 2:\n",
    "        return {'message': f'Name is missing, or is less than 2 characters'}, 400\n",
    "    # validate location\n",
    "    location = body.get('location')\n",
    "    if location is None or len(location) < 2:\n",
    "        return {'message': f'Location is missing, or is less than 2 characters'}, 400\n",
    "    # validate location\n",
    "    special = body.get('special')\n",
    "    if special is None or len(special) < 2:\n",
    "        return {'message': f'Specialty is missing, or is less than 2 characters'}, 400\n",
    "    new_therapy = Therapy(name=name, location=location, special=special)\n",
    "    therapy = new_therapy.create()\n",
    "    # success returns json of user\n",
    "    if therapy:\n",
    "            #return jsonify(user.read())\n",
    "            return therapy.read()\n",
    "        # failure returns error\n",
    "    return {'message': f'Record already exists'}, 400\n",
    "# Put Code\n",
    "def put(self):\n",
    "    body = request.get_json()\n",
    "    token = request.cookies.get(\"jwt\")\n",
    "    data = jwt.decode(token, \n",
    "                    current_app.config[\"SECRET_KEY\"], \n",
    "                    algorithms=[\"HS256\"])\n",
    "    diary = body.get('diary')\n",
    "    users = User.query.all()\n",
    "    for user in users:\n",
    "        if user.uid == data[\"_uid\"]:    \n",
    "            print(data[\"_uid\"])\n",
    "            user.update(\"\", \"\", \"\", user._diary + \"///\" + diary, \"\", \"\")\n",
    "            return user.read()"
   ]
  },
  {
   "cell_type": "markdown",
   "metadata": {},
   "source": [
    "**In VSCode, show algorithmic conditions used to validate data on a POST condition.**\n",
    "\n",
    "Algorithmic Conditions to validate Post:"
   ]
  },
  {
   "cell_type": "code",
   "execution_count": null,
   "metadata": {},
   "outputs": [],
   "source": [
    "name = body.get('name')\n",
    "if name is None or len(name) < 2:\n",
    "    return {'message': f'Name is missing, or is less than 2 characters'}, 400\n",
    "# validate location\n",
    "location = body.get('location')\n",
    "if location is None or len(location) < 2:\n",
    "    return {'message': f'Location is missing, or is less than 2 characters'}, 400\n",
    "# validate location\n",
    "special = body.get('special')\n",
    "if special is None or len(special) < 2:\n",
    "    return {'message': f'Specialty is missing, or is less than 2 characters'}, 400"
   ]
  },
  {
   "cell_type": "markdown",
   "metadata": {},
   "source": [
    "**In Postman, show URL request and Body requirements for GET, POST, and UPDATE methods.**\n",
    "\n",
    "GET Requirements:<br>\n",
    "![image.png](https://files.catbox.moe/61u92z.png)\n",
    "<br>Get function does not expect a body, thus no body is required. The API waits for a get request to be sent then sends data. \n",
    "\n",
    "POST Requirements:<br>\n",
    "![image-2.png](https://files.catbox.moe/d39a2a.png)\n",
    "<br>This post function requires the name, location, and specialization of the therapy.\n",
    "\n",
    "PUT Requirements:<br>\n",
    "![image-3.png](https://files.catbox.moe/ocom03.png)\n",
    "<br>This put function only updates the diary column, and thus only requires diary."
   ]
  },
  {
   "cell_type": "markdown",
   "metadata": {},
   "source": [
    "**In Postman, show the JSON response data for 200 success conditions on GET, POST, and UPDATE methods.**\n",
    "\n",
    "GET Request:<br>\n",
    "![image.png](https://files.catbox.moe/jqtx8j.png)\n",
    "<br>Successful GET request displays the data from the database for therapy.\n",
    "\n",
    "POST Request:<br>\n",
    "![image-2.png](https://files.catbox.moe/52qlaq.png)\n",
    "<br>Successful POST displays the new therapy location added into the database. \n",
    "\n",
    "PUT Request:<br>\n",
    "![image-3.png](https://files.catbox.moe/7lo4bh.png)\n",
    "<br>Successful PUT displays the data on the specific user with the updated diary (I had a previous diary entry of keyboard spam seperated by /// to signify a new diary entry)."
   ]
  },
  {
   "cell_type": "markdown",
   "metadata": {},
   "source": [
    "**In Postman, show the JSON response for error for 400 when missing body on a POST request.**\n",
    "\n",
    "Missing Body POST:<br>\n",
    "![image.png](https://files.catbox.moe/4kdb6v.png)\n",
    "<br>Does not allow me to create a new entry into the database"
   ]
  },
  {
   "cell_type": "markdown",
   "metadata": {},
   "source": [
    "**In Postman, show the JSON response for error for 404 when providing an unknown user ID to a UPDATE request.**\n",
    "\n",
    "This can not be accomplished. In my code, I take the cookie from the user that is logged in and I decode the cookie in order to update the information for that user. Thus, I am not able to provide an unknown user ID to update."
   ]
  },
  {
   "cell_type": "code",
   "execution_count": null,
   "metadata": {},
   "outputs": [],
   "source": [
    "def put(self):\n",
    "    body = request.get_json()\n",
    "    token = request.cookies.get(\"jwt\")\n",
    "    data = jwt.decode(token, \n",
    "                    current_app.config[\"SECRET_KEY\"], \n",
    "                    algorithms=[\"HS256\"])\n",
    "    diary = body.get('diary')\n",
    "    users = User.query.all()\n",
    "    for user in users:\n",
    "        if user.uid == data[\"_uid\"]:    \n",
    "            print(data[\"_uid\"])\n",
    "            user.update(\"\", \"\", \"\", user._diary + \"///\" + diary, \"\", \"\")\n",
    "            return user.read()"
   ]
  },
  {
   "cell_type": "markdown",
   "metadata": {},
   "source": [
    "# Frontend\n",
    "Blog JavaScript API fetch code and formatting code to display JSON.\n",
    "\n",
    "**In Chrome inspect, show response of JSON objects from fetch of GET, POST, and UPDATE methods.**\n",
    "\n",
    "GET Response:<br>\n",
    "![image.png](https://files.catbox.moe/x8enhe.png)\n",
    "<br>Fetching the therapy data from the backend JSON response in the frontend.\n",
    "\n",
    "POST Response:<br>\n",
    "![image-2.png](https://files.catbox.moe/yutdqw.png)\n",
    "<br>Sending data to the backend showing JSON response in the frontend.\n",
    "\n",
    "PUT Response:<br>\n",
    "![image-3.png](https://files.catbox.moe/0fyl79.png)\n",
    "<br>Sending data to the backend showing JSON response in the frontend.<br>\n",
    "\n",
    "**In the Chrome browser, show a demo (GET) of obtaining an Array of JSON objects that are formatted into the browsers screen.**\n",
    "\n",
    "GET fetching from therapy database:<br>\n",
    "![image.png](https://files.catbox.moe/x8enhe.png)\n",
    "<br>This is the array JSON response from the backend.\n",
    "\n",
    "Describe fetch and method that obtained the Array of JSON objects:\n",
    "- GET request to backend to fetch the data when the function displayTherapyTable() is run\n",
    "- Sent request to http://127.0.0.1:8086/api/therapy/, which is the corresponds to the correct API link\n",
    "- When the API recieves this response, it retrieves data from the backend and sends the data back in an array of JSON objects. "
   ]
  },
  {
   "cell_type": "code",
   "execution_count": null,
   "metadata": {},
   "outputs": [],
   "source": [
    "function displayTherapyTable() {\n",
    "    let options = {\n",
    "        method: 'GET',\n",
    "        headers: {\n",
    "            'Content-Type': 'application/json;charset=utf-8'\n",
    "        },\n",
    "    };\n",
    "    fetch(\"http://127.0.0.1:8086/api/therapy/\", options)\n",
    "    .then(response => {\n",
    "        if (response.ok) {\n",
    "            return response.json();\n",
    "        } else {\n",
    "            throw new Error('Network response was not ok.');\n",
    "        }\n",
    "    })"
   ]
  },
  {
   "cell_type": "markdown",
   "metadata": {},
   "source": [
    "In JavaScript code, show code that performs iteration and formatting of data into HTML:\n",
    "- Iterates through each entry in the database and displays it onto a table"
   ]
  },
  {
   "cell_type": "code",
   "execution_count": null,
   "metadata": {},
   "outputs": [],
   "source": [
    ".then(data => {\n",
    "    const tableBody = document.querySelector(\"#therapy-table tbody\");\n",
    "    tableBody.innerHTML = \"\"; // Clear the existing table data\n",
    "    data.forEach(activity => {\n",
    "        const row = tableBody.insertRow();\n",
    "        const nameCell = row.insertCell(0);\n",
    "        const locationCell = row.insertCell(1);\n",
    "        const specialCell = row.insertCell(2);\n",
    "\n",
    "        nameCell.textContent = activity.name;\n",
    "        locationCell.textContent = activity.location;\n",
    "        specialCell.textContent = activity.special;\n",
    "    });\n",
    "})\n",
    ".catch(error => {\n",
    "    console.error('Error:', error);\n",
    "    alert(error);\n",
    "});\n",
    "}"
   ]
  },
  {
   "cell_type": "markdown",
   "metadata": {},
   "source": [
    "![image](https://files.catbox.moe/nctypa.png)"
   ]
  },
  {
   "cell_type": "markdown",
   "metadata": {},
   "source": [
    "**In the Chrome browser, show a demo (POST or UPDATE) gathering and sending input and receiving a response that show update. Repeat this demo showing both success and failure.**\n",
    "\n",
    "POST-\n",
    "\n",
    "Success:<br>\n",
    "![image.png](https://files.catbox.moe/22xaoz.png)\n",
    "<br>There is an alert message that pops up for the user to tell the user it was updated successfully. Once the message is clicked, the page reloads and the entry is displayed on the table.<br>\n",
    "![image-3.png](https://files.catbox.moe/41nses.png)\n",
    "\n",
    "Failure:<br>\n",
    "![image-2.png](https://files.catbox.moe/gn0yjc.png)\n",
    "<br>The length of the name, location, and specialization were too short so the entry could not be created."
   ]
  },
  {
   "cell_type": "markdown",
   "metadata": {},
   "source": [
    "In JavaScript code, show and describe code that handles success. Describe how code shows success to the user in the Chrome Browser screen:"
   ]
  },
  {
   "cell_type": "code",
   "execution_count": null,
   "metadata": {},
   "outputs": [],
   "source": [
    "if (response.status === 200) {\n",
    "    alert(\"Entry added successfully!\");\n",
    "    window.location.reload();"
   ]
  },
  {
   "cell_type": "markdown",
   "metadata": {},
   "source": [
    "If the resopnse from the backend is 200, meaning that it was successful, the code will continue and run an alert message that displays to the user that the entry was added successfully, then the page and the table will reload (as the table regenerates when the page loads), and display the new entry."
   ]
  },
  {
   "cell_type": "markdown",
   "metadata": {},
   "source": [
    "In JavaScript code, show and describe code that handles failure. Describe how the code shows failure to the user in the Chrome Browser screen:"
   ]
  },
  {
   "cell_type": "code",
   "execution_count": null,
   "metadata": {},
   "outputs": [],
   "source": [
    "else if (response.status === 400) {\n",
    "    alert(\"There was a problem creating the entry.\");\n",
    "}"
   ]
  },
  {
   "cell_type": "markdown",
   "metadata": {},
   "source": [
    "If the response given was 400 instead, this code will run giving an alert to the user that there was a problem creating the entry (so the user definitley knows there's a problem)."
   ]
  },
  {
   "cell_type": "markdown",
   "metadata": {},
   "source": [
    "**Demonstrate a search feature.**\n",
    "\n",
    "Searching table code:"
   ]
  },
  {
   "cell_type": "code",
   "execution_count": null,
   "metadata": {},
   "outputs": [],
   "source": [
    "function searchTable() {\n",
    "    var input, filter, table, tr, td, i, txtValue;\n",
    "    input = document.getElementById(\"searchInput\");\n",
    "    filter = input.value.toUpperCase();\n",
    "    table = document.getElementById(\"therapy-table\");\n",
    "    tr = table.getElementsByTagName(\"tr\");\n",
    "\n",
    "    for (i = 0; i < tr.length; i++) {\n",
    "        td = tr[i].getElementsByTagName(\"td\")[0]; // Change index to match the column you want to search\n",
    "        if (td) {\n",
    "            txtValue = td.textContent || td.innerText;\n",
    "            if (txtValue.toUpperCase().indexOf(filter) > -1) {\n",
    "                tr[i].style.display = \"\";\n",
    "            } else {\n",
    "                tr[i].style.display = \"none\";\n",
    "            }\n",
    "        }\n",
    "    }\n",
    "}"
   ]
  },
  {
   "cell_type": "markdown",
   "metadata": {},
   "source": [
    "The code above searches through the list of all entries in the table but only looks at the name column. Matches up the displayed entries with the letters typed in the input box. "
   ]
  },
  {
   "cell_type": "markdown",
   "metadata": {},
   "source": [
    "# Optional/ Extra ML Analysis:\n",
    "Machine Learning Algorithm Analysis\n",
    "\n",
    "**Show algorithms and preparation of data for analysis. This includes cleaning, encoding, and one-hot encoding.**\n",
    "\n",
    "Depression Dataset:\n",
    "Cleaning, encoding, and one-hot encoding is not necessary for my dataset, as when I found the dataset, the data had already been cleaned for use for machine learning.\n",
    "\n",
    "![image](https://files.catbox.moe/jmwjqa.png)\n",
    "This is the dataset formatted into a .csv file. \n",
    "\n",
    "**Show algorithms and preparation for predictions.**"
   ]
  },
  {
   "cell_type": "code",
   "execution_count": null,
   "metadata": {},
   "outputs": [],
   "source": [
    "def train_model(self, data_path):\n",
    "        # Load data\n",
    "        data = pd.read_csv(data_path)\n",
    "\n",
    "        # Split the data into features and labels\n",
    "        X = data.drop('Probability of Developing Depression', axis=1)\n",
    "        y = data['Probability of Developing Depression']\n",
    "\n",
    "        # Standardize the features\n",
    "        self.scaler = StandardScaler()\n",
    "        X_scaled = self.scaler.fit_transform(X)\n",
    "\n",
    "        # Split the data into training and testing sets\n",
    "        X_train, self.X_test, y_train, self.y_test = train_test_split(X_scaled, y, test_size=0.2, random_state=42)\n",
    "\n",
    "        # Train a linear regression model\n",
    "        self.model = LinearRegression()\n",
    "        self.model.fit(X_train, y_train)\n",
    "\n",
    "def predict_depression(self, age, stress_level, exercise_hours, sleep_hours):\n",
    "        if self.model is None or self.scaler is None:\n",
    "                raise ValueError(\"Model has not been trained yet. Please train the model first.\")\n",
    "\n",
    "        # Scale input data\n",
    "        input_data = self.scaler.transform([[age, stress_level, exercise_hours, sleep_hours]])\n",
    "\n",
    "        # Predict depression probability\n",
    "        chance_of_depression = self.model.predict(input_data)[0]\n",
    "        return chance_of_depression"
   ]
  },
  {
   "cell_type": "markdown",
   "metadata": {},
   "source": [
    "**Discuss concepts and understanding of Linear Regression algorithms.**\n",
    "\n",
    "Linear Regression Algorithms:\n",
    "- Used to model relationships between a dependant variable (what you intend to predict) and independant variables (factors that may contribute to changing the dependant variable). \n",
    "- Assumes linearity. Matches a linear equation (y=mx+b) to the relationship between the dependant variable and the independant variable.\n",
    "- Used to make predictions\n",
    "![linear regression](https://files.catbox.moe/caqsge.png)\n",
    "\n",
    "Types of Linear Regression:\n",
    "- Simple Linear Regression- One independant variable. Linear regression only measures the relationship between that one independant variable and the dependant variable\n",
    "- Multiple Linear Regression- Multiple independant variables. Linear regression measures the relationship between multiple factors. \n",
    "- Polynomial Regression- Relationship between the independant variables and the dependant variables is no longer modeled with a line and is instead modeled as a nth degree polynomial. \n",
    "![image](https://files.catbox.moe/v7gm21.png)\n",
    "\n",
    "**Discuss concepts and understanding of Decision Tree analysis algorithms.**\n",
    "\n",
    "Decision Trees:\n",
    "- Used for both classification and regression tasks\n",
    "- Flowchart-like structure. Each internal node represents a feature/ attribute, and each branch represents a decision based on that feature, and each leaf node represents the outcome/ class label. \n",
    "![image](https://files.catbox.moe/n32b1s.png)\n",
    "\n",
    "How They Work:\n",
    "1. Tree Generation- Starts from the root node with the entire dataset. Then, it recursivley splits the dataset into smaller subsets based on the most significant feature at each node. Stops when it reaches a stopping criterion (ex. maximum depth, minimum samples per leaf). \n",
    "- Maximum Depth- Each time a tree splits, it goes down one level. If you set a maximum depth, the tree can only grow a certain amount of levels before it is stopped.\n",
    "- Minimum Samples Per Leaf- When the tree splits, the dataset gets smaller and smaller and the samples (think of them as rows in the dataset). If the criteria is set with a minimum number of samples required for a node to become a leaf (a node without further splits) then nodes with fewer than the minimum number of samples become nodes. \n",
    "1. Decision Making- When making predictions, the algorithm traverses through the tree starting from the root and follows the decision rules at each node (Like for example, is the subject older than 30 years old? Yes or no) based on the data input into the algorithm. Once it reaches a leaf node, it reaches a decision (it reaches a prediction or classification).\n",
    "2. Pruning- Sometimes, branches of a tree are unnecessary, and are removed through several different processes of pruning.\n",
    "- Pre-Pruning- This is implimented during the tree building process, like setting stopping criteria (maximum depth, minimum samples per leaf, etc.)\n",
    "- Post-Pruning- Once a decision tree is fully grown, some branches are selectivley removed if they do not improve the trees performance on validation data. The algorithm iterates over every node and evaluates the effect of removing the node. If it improves validation data, the branch is removed and the previous node becomes a leaf.\n",
    "![image](https://files.catbox.moe/5c84ku.png)"
   ]
  }
 ],
 "metadata": {
  "language_info": {
   "name": "python"
  }
 },
 "nbformat": 4,
 "nbformat_minor": 2
}
