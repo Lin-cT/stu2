{
 "cells": [
  {
   "cell_type": "markdown",
   "metadata": {},
   "source": [
    "---\n",
    "toc: true\n",
    "comments: false\n",
    "layout: post\n",
    "title: Class 4 Reflection\n",
    "description: Reflection of how student teaching class 4 went.\n",
    "type: hacks\n",
    "courses: { compsci: {week: 8} }\n",
    "---"
   ]
  },
  {
   "cell_type": "markdown",
   "metadata": {},
   "source": [
    "<h1 style=\"text-align: center; color:#4263C6;font-weight:700; font-size:40px\">Class 4 Reflection</h1>\n",
    "<br>\n",
    "\n",
    "<p>\n",
    "    In Class 4 we learned about different types of algorithms. There are selection algorithms, that make decisions based on circumstances. There are iteration algorithms, aka repitition algorithms. After performing a procedure, it can check to see if it has been completed. Other things we revisted are conditional statements, such as if else statements, which allow the program to make a decision on which code to run based off of conditions. Then, there are loops (for and while) that repeat code. Lastly, they talked about strings which is a data type that is used to represent text. I think this class was the most confusing, as they didn't quite talk much (at least in class) about what an algorithm was, and they just went straight into it. \n",
    "</p>"
   ]
  },
  {
   "cell_type": "markdown",
   "metadata": {},
   "source": [
    "Homework 1:"
   ]
  },
  {
   "cell_type": "code",
   "execution_count": null,
   "metadata": {},
   "outputs": [],
   "source": [
    "# put your work for Hack #1 in here below:\n",
    "first = \"Lindsay \"\n",
    "last = \"Tang\"\n",
    "\n",
    "fullName = first + last\n",
    "print(\"My full name is \" + str(fullName))\n",
    "\n",
    "#Part 2\n",
    "sentence = \"My dog ate a bee and now he needs to go to the vet.\"\n",
    "length = len(sentence)\n",
    "characters = length - 14\n",
    "\n",
    "print(characters)\n"
   ]
  },
  {
   "cell_type": "markdown",
   "metadata": {},
   "source": [
    "Homework 2:"
   ]
  },
  {
   "cell_type": "code",
   "execution_count": null,
   "metadata": {},
   "outputs": [],
   "source": [
    "# put your work for Hack #2 in here below:\n",
    "num1 = 40\n",
    "num2 = 4\n",
    "num3 = 12\n",
    "num4 = 2\n",
    "\n",
    "answer = (num1 / num2 + num3 % num4)\n",
    "\n",
    "print(answer)"
   ]
  }
 ],
 "metadata": {
  "language_info": {
   "name": "python"
  },
  "orig_nbformat": 4
 },
 "nbformat": 4,
 "nbformat_minor": 2
}
