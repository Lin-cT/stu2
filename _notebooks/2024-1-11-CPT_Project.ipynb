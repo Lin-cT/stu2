{
 "cells": [
  {
   "cell_type": "markdown",
   "metadata": {},
   "source": [
    "---\n",
    "toc: true\n",
    "comments: false\n",
    "layout: post\n",
    "title: CPT Project\n",
    "description: Ideas we ave for the CPT Project + what I am excited about.\n",
    "type: hacks\n",
    "courses: { compsci: {week: 17} }\n",
    "---"
   ]
  },
  {
   "cell_type": "markdown",
   "metadata": {},
   "source": [
    "## CPT Brainstorm:\n",
    "\n",
    "- For the CPT Project, I am really excited to learn about implimenting a password and user feature. I think this will really help in storing data, as each individual user can have data assigned to their user in the database. \n",
    "\n",
    "### Ideas:\n",
    "\n",
    "- Fitness Program/ Hurt Prevention: This is a fitness website designed to help organize fitness plans for athleets. The users are able to chose a sport(s) that they are interested in and or playing currently. Then, the website will reccomend exercises and videos that the user can follow depending on the sports that they select. They're also able to access medical help based off of the injuries that can happen in every sport.\n",
    "- Lyric Website: If you type in lyrics from a certain song, the website will look through the database of songs saved and look for songs that match the lyrics typed in. "
   ]
  }
 ],
 "metadata": {
  "language_info": {
   "name": "python"
  },
  "orig_nbformat": 4
 },
 "nbformat": 4,
 "nbformat_minor": 2
}
