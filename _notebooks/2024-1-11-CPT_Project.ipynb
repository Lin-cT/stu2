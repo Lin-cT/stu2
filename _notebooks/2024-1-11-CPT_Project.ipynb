{
 "cells": [
  {
   "cell_type": "markdown",
   "metadata": {},
   "source": [
    "---\n",
    "toc: true\n",
    "comments: false\n",
    "layout: post\n",
    "title: CPT Project\n",
    "description: Ideas we ave for the CPT Project + what I am excited about.\n",
    "type: hacks\n",
    "courses: { compsci: {week: 18} }\n",
    "---"
   ]
  },
  {
   "cell_type": "markdown",
   "metadata": {},
   "source": [
    "## CPT Brainstorm:\n",
    "\n",
    "- For the CPT Project, I am really excited to learn about implimenting a password and user feature. I think this will really help in storing data, as each individual user can have data assigned to their user in the database. \n",
    "\n",
    "### Ideas:\n",
    "\n",
    "- Fitness Program/ Hurt Prevention: This is a fitness website designed to help organize fitness plans for athleets. The users are able to chose a sport(s) that they are interested in and or playing currently. Then, the website will reccomend exercises and videos that the user can follow depending on the sports that they select. They're also able to access medical help based off of the injuries that can happen in every sport.\n",
    "- Lyric Website: If you type in lyrics from a certain song, the website will look through the database of songs saved and look for songs that match the lyrics typed in. \n",
    "- Travel Website: If there's somewhere you're looking to travel to, you can do some research on the area before deciding to go there. The website allows the user to plan a travel itinerty. The user can look up the weather in the area (from a weather database) or they can look up interesting activities they can do. There will also be another button with more information about the place, or even hotels the user can book to vacation there. "
   ]
  },
  {
   "cell_type": "markdown",
   "metadata": {},
   "source": [
    "## Weather Idea\n",
    "\n",
    "| Name      | Plan   | Description         |\n",
    "|-----------|--------|---------------------|\n",
    "| Lindsay  | Itinery | Design an appealing looking page for the itinery planner. Possibly help create a SCSS page to keep all of the buttons and input boxes looking the same.  |\n",
    "| Samhita | Weather | Help design an appealing looking weather page for the users. |\n",
    "| Anika | Ativities | Create and design an aesthetically pleasing activities page for the vacation planner. |\n",
    "| Grace | Hotel/ Info | Design the hotel or information page and make it look appealing. Help create a SCSS page for the design of the entire website. |"
   ]
  },
  {
   "cell_type": "markdown",
   "metadata": {},
   "source": [
    "Users will log in to the website with a username and password. For the weather page of the website, it will e using a weather API and database so that it can request data for the weather on that day at that location. For the other pages, like hotel and activities, it will also use an API to request data for activities in the area and hotels in the area. For the itinerary page, that's the data that will be stored in the backend. Whatever the user inputs into the page, will be stored in a database table in the backend. Whenever the user logs back in, their itinerary will be saved."
   ]
  },
  {
   "cell_type": "markdown",
   "metadata": {},
   "source": [
    "## Plans Going Forward for this Week\n",
    "\n",
    "| Day      | Plan   | Description         |\n",
    "|-----------|--------|---------------------|\n",
    "| Wednesday  | Login | Today, we learned about SCSS and CSS styling. I want to do some more research, either looking online through ChatGPT or looking at articles. |\n",
    "| Thursday | Itinerary | Today, I will start designing the itinerary. No JavaScript just yet. |\n",
    "| Friday | Itinerary | Working on styling the itinerary and making it look better. No JavaScript yet. |\n",
    "| Saturday | Login Page | Starting to design the login page with no database connected to it yet. I'll create the fields where they can enter their username and password to login. I'll also create a different page they can click on to enter in a username and password to register as a user. |"
   ]
  }
 ],
 "metadata": {
  "language_info": {
   "name": "python"
  },
  "orig_nbformat": 4
 },
 "nbformat": 4,
 "nbformat_minor": 2
}
