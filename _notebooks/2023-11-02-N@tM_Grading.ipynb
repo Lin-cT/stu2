{
 "cells": [
  {
   "cell_type": "markdown",
   "metadata": {},
   "source": [
    "---\n",
    "toc: true\n",
    "comments: false\n",
    "layout: post\n",
    "title: Night at the Museum Grading\n",
    "type: plans\n",
    "courses: { compsci: {week: 11} }\n",
    "---"
   ]
  },
  {
   "cell_type": "code",
   "execution_count": null,
   "metadata": {
    "vscode": {
     "languageId": "html"
    }
   },
   "outputs": [],
   "source": [
    "<h1>\n",
    "    ChatBox Project Review\n",
    "</h1>\n",
    "<p>\n",
    "    Frontend (Yes)\n",
    "    Backend (Yes)\n",
    "    API (Yes)\n",
    "    Agile (Did not provide a breakdown of individual contributions, etc.)\n",
    "\n",
    "   HOOK:\n",
    "   Points: 3.8\n",
    "   Reason: The main premise of their project is a chatbox that multiple people can type into and talk with each other. They demonstrated multiple people talking in the chatroom and communicating with each other on separate computers, showing that the chatroom does indeed work.\n",
    "   \n",
    "   KNOWLEDGE:\n",
    "   Points: 3.8\n",
    "   Reason: There are other cool features of this chatroom besides talking with other people. You can change the background of the chatbox as well with a simple click (light mode or dark mode).\n",
    "   \n",
    "   VALUE:\n",
    "   Points: 0.7\n",
    "   Reason: The most useful aspect of this project is being able to communicate with others through a chatroom. Although this is very helpful, there are other forms of communication that may be more efficient than a chatbox.\n",
    "   \n",
    "   WOW FACTOR:\n",
    "   Reason: It is really cool how smooth the animation is for changing between the two types of backgrounds (light to dark mode).\n",
    "</p>\n",
    "<br>\n",
    "<br>\n",
    "<h1>\n",
    "    Image Processing Project Review\n",
    "</h1>"
   ]
  }
 ],
 "metadata": {
  "language_info": {
   "name": "python"
  },
  "orig_nbformat": 4
 },
 "nbformat": 4,
 "nbformat_minor": 2
}
