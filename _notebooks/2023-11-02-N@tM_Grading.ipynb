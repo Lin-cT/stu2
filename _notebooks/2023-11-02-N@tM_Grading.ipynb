{
 "cells": [
  {
   "cell_type": "markdown",
   "metadata": {},
   "source": [
    "---\n",
    "toc: true\n",
    "comments: false\n",
    "layout: post\n",
    "title: Night at the Museum Grading\n",
    "type: plans\n",
    "courses: { compsci: {week: 11} }\n",
    "---"
   ]
  },
  {
   "cell_type": "code",
   "execution_count": null,
   "metadata": {
    "vscode": {
     "languageId": "html"
    }
   },
   "outputs": [],
   "source": [
    "<h1>\n",
    "    ChatBox Project Review\n",
    "</h1>\n",
    "<p>\n",
    "    Frontend (Yes)\n",
    "    Backend (Yes)\n",
    "    API (Yes)\n",
    "    Agile (Did not provide a breakdown of individual contributions, etc.)\n",
    "\n",
    "   HOOK:\n",
    "   Points: 3.8\n",
    "   Reason: The main premise of their project is a chatbox that multiple people can type into and talk with each other. They demonstrated multiple people talking in the chatroom and communicating with each other on separate computers, showing that the chatroom does indeed work.\n",
    "   \n",
    "   KNOWLEDGE:\n",
    "   Points: 3.8\n",
    "   Reason: There are other cool features of this chatroom besides talking with other people. You can change the background of the chatbox as well with a simple click (light mode or dark mode).\n",
    "   \n",
    "   VALUE:\n",
    "   Points: 0.7\n",
    "   Reason: The most useful aspect of this project is being able to communicate with others through a chatroom. Although this is very helpful, there are other forms of communication that may be more efficient than a chatbox.\n",
    "   \n",
    "   WOW FACTOR:\n",
    "   Reason: It is really cool how smooth the animation is for changing between the two types of backgrounds (light to dark mode).\n",
    "</p>\n",
    "<br>\n",
    "<br>\n",
    "<h1>\n",
    "    Image Processing Project Review\n",
    "</h1>\n",
    "<p>\n",
    "    Frontend (Yes)\n",
    "    Backend (Yes)\n",
    "    API (Yes)\n",
    "    Agile (Yes)\n",
    "\n",
    "   HOOK:\n",
    "   Points: 3.8\n",
    "   Reason: The main premise of their project was providing different ways to alter and adjust images. (I thought that this project was prety cool). They have a way of pixelating the image, changing the color, and they were also working on machine learning in which the program would be able to recognize places, but they weren't able to complete that.\n",
    "   \n",
    "   KNOWLEDGE:\n",
    "   Points: 3.9\n",
    "   Reason: As mentioned previously, there are a lot of cool features you can use to adjust an image. You can change the color of an image, you can pixelate an image, and you can warp images. \n",
    "   \n",
    "   VALUE:\n",
    "   Points: 0.8\n",
    "   Reason: I think image alteration is somewhat important. This webiste can provide some functions to people who want to adjust images without using PhotoShop, which requires a memebership.\n",
    "   \n",
    "   WOW FACTOR:\n",
    "   Reason: The website layout was very neat. There was some CSS tyling when the mouse hovered over the boxes/buttons that I thought ws very impressive. \n",
    "</p>"
   ]
  }
 ],
 "metadata": {
  "language_info": {
   "name": "python"
  },
  "orig_nbformat": 4
 },
 "nbformat": 4,
 "nbformat_minor": 2
}
