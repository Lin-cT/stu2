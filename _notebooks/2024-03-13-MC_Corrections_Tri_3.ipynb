{
 "cells": [
  {
   "cell_type": "markdown",
   "metadata": {},
   "source": [
    "---\n",
    "comments: true\n",
    "layout: post\n",
    "title: MC corrections Tri 3\n",
    "courses: { csp: {week: 26} }\n",
    "---"
   ]
  },
  {
   "cell_type": "markdown",
   "metadata": {},
   "source": [
    "# Corrections for Missed Questions in MC\n",
    "\n",
    "[Missed MC for 2020 Exam](https://lin-ct.github.io/stu2/2024/03/12/CSP-MCQ-2020-missed_IPYNB_2_.html)\n",
    "\n",
    "## 19. Use of Weak Passwords\n",
    "\n",
    "Correct Answer: D\n",
    "<br><br>\n",
    "A. Unauthorized individuals overwhelming the system with login attempts is an example of a brute force attack. However, this option doesn't specifically address the issue of weak passwords. It's more about the impact of repeated login attempts, not how weak passwords make unauthorized access easier. So, it's not the best explanation in the context of weak passwords.\n",
    "\n",
    "B. Exploiting vulnerabilities in compression algorithms to determine a user's password from their decompressed data is a sophisticated attack vector, but it's not directly related to weak passwords. This option focuses on exploiting compression algorithms, which is a less common attack method compared to others.\n",
    "\n",
    "C. Exploiting vulnerabilities in encryption algorithms to determine a user's password from their encryption key is again a sophisticated attack vector, but it doesn't directly address the issue of weak passwords. Like option B, it focuses on a specific aspect of security (encryption algorithms) rather than weak passwords.\n",
    "\n",
    "D. This option directly addresses the issue of weak passwords by mentioning techniques like data mining to guess a user's password. Weak passwords are susceptible to guessing attacks because they lack complexity and are easier to crack. This option provides the most relevant explanation for how weak passwords can lead to unauthorized access.\n",
    "\n",
    "## 23. True Statement About the Internet\n",
    "\n",
    "Correct Answer: B\n",
    "\n",
    "A. The Internet is not based on proprietary communication protocols. Instead, it relies on open standards and protocols like TCP/IP, HTTP, and others. Proprietary protocols would limit interoperability and hinder the Internet's growth and accessibility. Therefore, option A is incorrect.\n",
    "\n",
    "B. This statement is true. One of the fundamental design principles of the Internet is its ability to scale to support a growing number of users and devices. This scalability is achieved through technologies like IPv6, which provides a vastly larger address space compared to IPv4, enabling the connection of an increasing number of devices. So, option B is the correct choice.\n",
    "\n",
    "C. While encryption protocols are widely used on the Internet, they are not universally required for all communications. Many communications occur without encryption, especially for less sensitive data or on networks where encryption overhead is deemed unnecessary. Therefore, option C is incorrect.\n",
    "\n",
    "D. The Internet does not use a centralized system to determine how packets are routed. Instead, it relies on decentralized routing protocols like Border Gateway Protocol (BGP) and Internet Protocol (IP) routing, where routers make independent decisions about packet forwarding based on routing tables. This decentralized approach contributes to the Internet's robustness and resilience. Thus, option D is incorrect.\n",
    "\n",
    "## 30. How Data is Transmitted on the Internet\n",
    "\n",
    "Correct Answer: B\n",
    "\n",
    "A. This option suggests that all packets are sent along the same path and in a specified order. However, in reality, packets in the Internet are often sent along different paths and may arrive out of order. This approach improves efficiency and reliability, as packets can take different routes to reach their destination, and out-of-order packets can be reordered at the receiving end. Therefore, option A is incorrect.\n",
    "\n",
    "B. This option correctly explains how data is transmitted on the Internet. Data is indeed broken into packets, and these packets can take different paths to reach their destination. This approach, known as packet switching, allows for more efficient and robust communication, as it can adapt to network congestion and failures by dynamically routing packets along available paths. So, option B is the correct choice.\n",
    "\n",
    "C. This option suggests that all data is transmitted in a single packet through a direct connection between the sender and the recipient. However, this is not how data transmission works on the Internet. Data is typically broken into multiple packets and sent through intermediate network devices before reaching the recipient. Therefore, option C is incorrect.\n",
    "\n",
    "D. This option incorrectly states that multiple data files are bundled together in a packet and transmitted together. In reality, data is broken into smaller units called packets, and each packet contains a portion of the data along with necessary header information for routing. Bundling multiple data files into a single packet would not be practical and would introduce unnecessary complexity. Therefore, option D is incorrect.\n",
    "\n",
    "## 32. Statement About Public Key Encryption\n",
    "\n",
    "Correct Answer: A\n",
    "\n",
    "A. This statement is true. Public key encryption allows parties to initiate secure communications over open and potentially insecure mediums like the Internet. Each party has a pair of keys: a public key, which is freely available to anyone, and a private key, which is kept secret. Messages encrypted with a recipient's public key can only be decrypted with their corresponding private key, ensuring confidentiality even if the communication channel is compromised. So, option A is correct.\n",
    "\n",
    "B. This statement is incorrect. Public key encryption is generally considered a secure method of communication. While interception of public keys is possible, it doesn't compromise the security of the communication. Public keys are intended to be freely distributed, and their interception does not reveal the private key needed for decryption. Therefore, option B is incorrect.\n",
    "\n",
    "C. This statement is incorrect. Public key encryption can be used to encrypt various types of data, including text, audio, video, and more. The type of data being transmitted does not affect the encryption method. Therefore, option C is incorrect.\n",
    "\n",
    "D. This statement is incorrect. Public key encryption uses a pair of keys: a public key for encryption and a private key for decryption. It is asymmetric encryption, meaning different keys are used for encryption and decryption. The private key should be kept secure, as it is used for decryption, while the public key can be freely distributed for encryption. Therefore, option D is incorrect.\n",
    "\n",
    "## 55. Move Element from End of List to Begining\n",
    "\n",
    "Correct Answer: C\n",
    "\n",
    "A. This code segment attempts to move the last element of the list to the beginning by storing the last element in a variable \"temp,\" removing it from the list, and then appending it at the end of the list. However, appending the last element to the end of the list doesn't achieve the intended result of moving it to the beginning. Therefore, option A is incorrect.\n",
    "\n",
    "B. Similar to option A, this code segment removes the last element from the list and then attempts to store it in the variable \"temp.\" However, it mistakenly tries to access \"utensils[len]\" after removing an element from the list, which would result in an out-of-range index error. This option does not achieve the intended transformation. Therefore, option B is incorrect.\n",
    "\n",
    "C. This code segment correctly stores the last element of the list in the variable \"temp,\" removes it from the list, and then inserts it at the beginning of the list using the INSERT function. This approach effectively moves the last element to the beginning of the list, as intended. Therefore, option C appears to be the correct choice.\n",
    "\n",
    "D. This code segment is similar to option C but mistakenly attempts to access \"utensils[len]\" after removing an element from the list, resulting in an out-of-range index error. Additionally, it incorrectly inserts the last element at index 1, which would cause it to be placed after the first element, rather than at the beginning of the list. Therefore, option D is incorrect."
   ]
  },
  {
   "cell_type": "markdown",
   "metadata": {},
   "source": [
    "# Reflection\n",
    "\n",
    "As I have taken 3 MC exams already, I've come to realize that I struggle with grasping the conceptual aspects of computer science. It's evident that my understanding of fundamental concepts, such as networking and encryption, needs improvement. These concepts form the backbone of computer science and are crucial for success in the field. To address these challenges, I realize the importance of dedicating focused study time to strengthen my conceptual understanding of computer science fundamentals. I plan to engage in comprehensive review sessions that delve into networking concepts, encryption methods, and security protocols. Additionally, I will work on honing my critical thinking skills by practicing with various types of questions and analyzing them methodically.\n",
    "\n",
    "Another weakness I have is time. It's apparent that I need to improve my time management skills and pace myself better during the test. Throughout the exam, I struggled to allocate my time effectively, resulting in rushed decision-making and incomplete sections. I would too much time on certain questions, particularly those that I found challenging or unfamiliar. Instead of quickly moving on and revisiting these questions later, I lingered on them, which ate into the time allocated for other sections. This lack of time discipline caused me to rush through the remaining questions, compromising the accuracy of my responses. To address these issues, I recognize the need to develop better time management strategies and practice pacing myself during test-taking. This includes setting aside a specific amount of time for each section of the exam and sticking to it rigorously. Additionally, I plan to implement techniques such as skipping difficult questions initially and returning to them later, prioritizing questions based on their difficulty level, and maintaining a steady pace throughout the test."
   ]
  }
 ],
 "metadata": {
  "language_info": {
   "name": "python"
  }
 },
 "nbformat": 4,
 "nbformat_minor": 2
}
