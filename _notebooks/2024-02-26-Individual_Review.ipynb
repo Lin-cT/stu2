{
 "cells": [
  {
   "cell_type": "markdown",
   "metadata": {},
   "source": [
    "---\n",
    "toc: true\n",
    "comments: true\n",
    "layout: post\n",
    "title: Individual Review\n",
    "type: plans\n",
    "courses: { csp: {week: 23} }\n",
    "---"
   ]
  },
  {
   "cell_type": "markdown",
   "metadata": {},
   "source": [
    "# Individual Review (CPT Project, College Board Requirements)\n",
    "\n",
    "## College Board Requirements:\n",
    "\n",
    "1. Instructions for input from one of the following: the user, a device, an online data stream, a file.\n",
    "2. Use of at least one list (or other collection type) to represent a collection of data that is stored and used to manage program complexity and help fulfill the users purpose.\n",
    "3. At least one procedure that contributed to the program’s intended purpose where you have defined: the name, return type, one or more parameters.\n",
    "4. An algorithm that includes sequencing, selection, and iteration that is in the body of the selected procedure.\n",
    "5. Calls to your student-developed procedure.\n",
    "6. Instructions for output (tactile, audible, visual, or ) based on input and program functionality."
   ]
  },
  {
   "cell_type": "markdown",
   "metadata": {},
   "source": [
    "## What exactly is my project?\n",
    "\n",
    "Our project is a comprehensive travel planner tailored for individuals interested in exploring San Diego. Our platform offers a range of features to assist users in crafting their ideal trip experience. One key feature is our dynamic weather page, powered by an API, providing real-time weather updates for San Diego. This ensures users can plan their activities accordingly, taking into account current weather conditions. Our interactive map page offers users a detailed view of San Diego, allowing them to explore its neighborhoods, landmarks, and points of interest with ease. For those seeking exciting experiences, our activities page serves as a curated guide to the best attractions and events in San Diego. From iconic landmarks to hidden gems, users can discover a diverse range of options to suit their interests. To streamline the planning process, we provide users with a customizable itinerary feature. Here, users can efficiently organize their schedule, inputting details and preferences to create a personalized plan for their San Diego adventure. With these intuitive features, our platform empowers travelers to make the most out of their trip to San Diego, ensuring a memorable and fulfilling experience."
   ]
  },
  {
   "cell_type": "markdown",
   "metadata": {},
   "source": [
    "## How does my project meet those requirements?\n",
    "\n",
    "1. Instructions for input from one of the following: the user, a device, an online data stream, a file.\n",
    "\n"
   ]
  }
 ],
 "metadata": {
  "language_info": {
   "name": "python"
  }
 },
 "nbformat": 4,
 "nbformat_minor": 2
}
