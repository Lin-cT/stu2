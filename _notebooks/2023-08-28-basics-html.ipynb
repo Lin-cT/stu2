{
 "cells": [
  {
   "cell_type": "markdown",
   "metadata": {},
   "source": [
    "---\n",
    "comments: True\n",
    "layout: post\n",
    "title: Basics of HTML Guide\n",
    "description: An introduction to basic HTML, and resources to learn more.\n",
    "type: ccc\n",
    "permalink: /basics/html\n",
    "author: Rohan Juneja\n",
    "---"
   ]
  },
  {
   "cell_type": "raw",
   "metadata": {},
   "source": [
    "{% include nav_basics.html %}\n"
   ]
  },
  {
   "cell_type": "markdown",
   "metadata": {},
   "source": [
    "\n",
    "# How does HTML work?\n",
    "Similar function to Markdown, syntax defines how stuff should be displayed\n",
    "- HTML is based on beginning and closing tags `<tagname>content</tagname>`\n",
    "  - Note the \"/\" on the ending or closing tag of the pair"
   ]
  },
  {
   "cell_type": "markdown",
   "metadata": {},
   "source": [
    "## Compare markdown to html below\n",
    "This below example shows comparison of a [heading](https://www.w3schools.com/html/html_headings.asp) and [paragraph](https://www.w3schools.com/html/html_paragraphs.asp).  Click on links to see many more HTML examples."
   ]
  },
  {
   "cell_type": "code",
   "execution_count": 8,
   "metadata": {},
   "outputs": [
    {
     "data": {
      "text/markdown": [
       "\n",
       "### Markdown: This is a Heading\n",
       "\n",
       "This is a paragraph\n"
      ],
      "text/plain": [
       "<IPython.core.display.Markdown object>"
      ]
     },
     "metadata": {},
     "output_type": "display_data"
    }
   ],
   "source": [
    "%%markdown\n",
    "\n",
    "### Markdown: This is a Heading\n",
    "\n",
    "This is a paragraph\n"
   ]
  },
  {
   "cell_type": "code",
   "execution_count": 9,
   "metadata": {
    "vscode": {
     "languageId": "html"
    }
   },
   "outputs": [
    {
     "data": {
      "text/html": [
       "\n",
       "<h3>HTML: This is a Heading</h3>\n",
       "<p>This is a paragraph.</p>\n"
      ],
      "text/plain": [
       "<IPython.core.display.HTML object>"
      ]
     },
     "metadata": {},
     "output_type": "display_data"
    }
   ],
   "source": [
    "%%html\n",
    "\n",
    "<h3>HTML: This is a Heading</h3>\n",
    "<p>This is a paragraph.</p>"
   ]
  },
  {
   "cell_type": "markdown",
   "metadata": {},
   "source": [
    "# Attributes\n",
    "- Learn about [attributes](https://www.w3schools.com/html/html_attributes.asp) \n",
    "- Tags can have additional info in the form of attributes\n",
    "- Attributes usually come in name/value pairs like: name=\"value\"\n",
    "\n",
    "```html\n",
    "<tagname attribute_name=\"attribute_value\" another_attribute=\"another_value\">inner html text</tagname>\n",
    "```\n",
    "\n",
    "- href example with attribute for web link and inner html to describe link\n",
    "\n",
    "```html\n",
    "<a href=\"https://www.w3schools.com/html/default.asp\">Visit W3Schools HTML Page</a>\n",
    "```"
   ]
  },
  {
   "cell_type": "markdown",
   "metadata": {},
   "source": [
    "## Sample Markdown vs HTML Tags\n",
    "Image Tag - Markdown\n",
    "\n",
    "```md\n",
    "![describe image](link to image)\n",
    "```\n",
    "\n",
    "Image Tag - HTML\n",
    "\n",
    "```html\n",
    "<!-- no content so no end tag, width/height is optional (in pixels) -->\n",
    "<img alt=\"describe image\" src=\"link to image\" width=\"100\" height=\"200\">\n",
    "```\n",
    "\n",
    "Link Tag - Markdown\n",
    "\n",
    "```md\n",
    "[link text](link)\n",
    "```\n",
    "\n",
    "Link Tag - HTML\n",
    "\n",
    "```html\n",
    "<a href=\"link\">link text</a>\n",
    "```\n",
    "\n",
    "Bolded Text - Markdown\n",
    "\n",
    "```md\n",
    "**Bolded Text**\n",
    "```\n",
    "\n",
    "Bolded Text - HTML\n",
    "\n",
    "```md\n",
    "<strong>Bolded Text</strong>\n",
    "```\n",
    "\n",
    "Italic Text - Markdown\n",
    "\n",
    "```md\n",
    "*Italic Text*\n",
    "```\n",
    "\n",
    "Italic Text - HTML\n",
    "\n",
    "```md\n",
    "<i>Italic Text</i>\n",
    "```"
   ]
  },
  {
   "cell_type": "markdown",
   "metadata": {},
   "source": [
    "# More tags (not really in markdown)\n",
    "P tag (just represeants a paragraph/normal text)\n",
    "\n",
    "```html\n",
    "<p>This is a paragraph</p>\n",
    "```\n",
    "\n",
    "Button\n",
    "\n",
    "```html\n",
    "<button>some button text</button>\n",
    "```\n",
    "\n",
    "Div (groups together related content)\n",
    "\n",
    "```html\n",
    "<!-- first information -->\n",
    "<div>\n",
    "    <!-- notice how tags can be put INSIDE eachother -->\n",
    "    <p>This is the first paragarph of section 1</p>\n",
    "    <p>This is the second paragraph of section 1</p>\n",
    "</div>\n",
    "\n",
    "<!-- second information -->\n",
    "<div>\n",
    "    <!-- notice how tags can be put INSIDE eachother -->\n",
    "    <p>This is the first paragarph of section 2</p>\n",
    "    <p>This is the second paragraph of section 2</p>\n",
    "</div>\n",
    "```\n",
    "\n"
   ]
  },
  {
   "cell_type": "markdown",
   "metadata": {},
   "source": [
    "# Resources\n",
    "- https://www.w3schools.com/html/default.asp\n",
    "- I will show a demo of how to find information on this website"
   ]
  },
  {
   "cell_type": "markdown",
   "metadata": {},
   "source": [
    "# HTML Hacks\n",
    "- Below is a wireframe for an HTML element you will create. A wireframe is a rough visual representation of HTML elements on a page and isn't necessarily to scale or have the exact styling that the final HTML will have. Using the syntax above, try to create an HTML snippet that corresponds to the below wireframe.\n",
    "- The \"a tags\" can contain any links that you want\n",
    "\n",
    "![wireframe for html hacks]({{ site.baseurl }}/images/wireframe.png)"
   ]
  },
  {
   "cell_type": "code",
   "execution_count": 1,
   "metadata": {
    "vscode": {
     "languageId": "html"
    }
   },
   "outputs": [
    {
     "data": {
      "text/html": [
       "\n",
       "\n",
       "<!-- put your HTML code in this cell, Make sure to press the Run button to see your results below -->\n",
       "\n",
       "\n",
       "<div>\n",
       "<p>Valorant is a dynamic and strategic first-person shooter developed by Riot Games, known for their massive success with League of Legends. Released in June 2020, Valorant quickly garnered a dedicated player base and established itself as a competitive esports title. Set in a near-futuristic world, the game pits two teams of five players against each other, with one team taking on the role of attackers trying to plant a Spike (a bomb) at designated sites, and the other team as defenders, striving to thwart their plans. What sets Valorant apart from other FPS games is its blend of precise gunplay reminiscent of Counter-Strike with a unique roster of \"Agents,\" each possessing distinct abilities that add layers of strategy and team coordination to the gameplay. The diversity of agents allows for a wide range of playstyles, from stealthy and tactical to aggressive and explosive, ensuring that every player can find their niche. Valorant's competitive scene has flourished with numerous tournaments and leagues worldwide, offering substantial prize pools and attracting top-tier professional players. Riot Games' commitment to regularly updating the game, balancing agents and weapons, and introducing new content keeps the experience fresh and engaging for both casual and competitive players. The game's emphasis on communication, teamwork, and precise aiming skills makes it a thrilling and intellectually stimulating experience, as players constantly adapt and strategize to outmaneuver their opponents. Whether you're a newcomer or a seasoned FPS veteran, Valorant offers an exhilarating and challenging gaming experience that continues to evolve and captivate players around the globe.</p>\n",
       "<p>Do you feel as if you're not good enough? Do you wish to get better? Do you want to aim better? Get better game sense? Learn how to master your agents? Click the button to begin ranking up!</p>\n",
       "<button>Click Me to Get Better!</button>\n",
       "</div>\n",
       "<br>\n",
       "<br>\n",
       "<div>\n",
       "<a href=\"https://tracker.gg/valorant\">Valorant Tracker</a>\n",
       "<br>\n",
       "<a href=\"https://www.3daimtrainer.com/\">Aim Trainer</a>\n",
       "<p>These websites are beneficial to your progress in Valorant. Click on these websites for more information!</p>\n"
      ],
      "text/plain": [
       "<IPython.core.display.HTML object>"
      ]
     },
     "metadata": {},
     "output_type": "display_data"
    }
   ],
   "source": [
    "%%html\n",
    "\n",
    "\n",
    "<!-- put your HTML code in this cell, Make sure to press the Run button to see your results below -->\n",
    "\n",
    "\n",
    "<div>\n",
    "<p>Valorant is a dynamic and strategic first-person shooter developed by Riot Games, known for their massive success with League of Legends. Released in June 2020, Valorant quickly garnered a dedicated player base and established itself as a competitive esports title. Set in a near-futuristic world, the game pits two teams of five players against each other, with one team taking on the role of attackers trying to plant a Spike (a bomb) at designated sites, and the other team as defenders, striving to thwart their plans. What sets Valorant apart from other FPS games is its blend of precise gunplay reminiscent of Counter-Strike with a unique roster of \"Agents,\" each possessing distinct abilities that add layers of strategy and team coordination to the gameplay. The diversity of agents allows for a wide range of playstyles, from stealthy and tactical to aggressive and explosive, ensuring that every player can find their niche. Valorant's competitive scene has flourished with numerous tournaments and leagues worldwide, offering substantial prize pools and attracting top-tier professional players. Riot Games' commitment to regularly updating the game, balancing agents and weapons, and introducing new content keeps the experience fresh and engaging for both casual and competitive players. The game's emphasis on communication, teamwork, and precise aiming skills makes it a thrilling and intellectually stimulating experience, as players constantly adapt and strategize to outmaneuver their opponents. Whether you're a newcomer or a seasoned FPS veteran, Valorant offers an exhilarating and challenging gaming experience that continues to evolve and captivate players around the globe.</p>\n",
    "<p>Do you feel as if you're not good enough? Do you wish to get better? Do you want to aim better? Get better game sense? Learn how to master your agents? Click the button to begin ranking up!</p>\n",
    "<button>Click Me to Get Better!</button>\n",
    "</div>\n",
    "<br>\n",
    "<br>\n",
    "<div>\n",
    "<a href=\"https://tracker.gg/valorant\">Valorant Tracker</a>\n",
    "<br>\n",
    "<a href=\"https://www.3daimtrainer.com/\">Aim Trainer</a>\n",
    "<p>These websites are beneficial to your progress in Valorant. Click on these websites for more information!</p>\n"
   ]
  }
 ],
 "metadata": {
  "kernelspec": {
   "display_name": "Python 3",
   "language": "python",
   "name": "python3"
  },
  "language_info": {
   "codemirror_mode": {
    "name": "ipython",
    "version": 3
   },
   "file_extension": ".py",
   "mimetype": "text/x-python",
   "name": "python",
   "nbconvert_exporter": "python",
   "pygments_lexer": "ipython3",
   "version": "3.10.12"
  },
  "orig_nbformat": 4
 },
 "nbformat": 4,
 "nbformat_minor": 2
}
