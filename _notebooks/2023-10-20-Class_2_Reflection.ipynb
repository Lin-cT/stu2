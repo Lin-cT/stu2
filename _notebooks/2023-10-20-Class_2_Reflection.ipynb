{
 "cells": [
  {
   "cell_type": "markdown",
   "metadata": {},
   "source": [
    "---\n",
    "toc: true\n",
    "comments: false\n",
    "layout: post\n",
    "title: Class 2 Reflection\n",
    "description: Reflection of how student teaching class 2 went.\n",
    "type: hacks\n",
    "courses: { compsci: {week: 7} }\n",
    "---"
   ]
  },
  {
   "cell_type": "markdown",
   "metadata": {},
   "source": [
    "<h1 style=\"text-align: center; color:#4263C6;font-weight:700; font-size:40px\">Class 2 Reflection</h1>\n",
    "<br>\n",
    "\n",
    "<p>\n",
    "    Class 2 went more in depth into booleans (Tru and False). First, we were asked to write a statement that would print out true, then we were asked to make one that was false. Then, they went on to discuss some operations, such as and, or, and not. The and operation makes sure that both statements are true, therefore the entire statement will be true. If one is false or both are false, it will be false. The or operation makes sure that only one of the two statemenets are true. If one of them is true, then the entire statement is true. The not statement checks to see if the opposite is true. \n",
    "</p>"
   ]
  },
  {
   "cell_type": "markdown",
   "metadata": {},
   "source": [
    "Homework 1: 3 Students"
   ]
  },
  {
   "cell_type": "code",
   "execution_count": null,
   "metadata": {},
   "outputs": [],
   "source": [
    "class Student:\n",
    "    total_grades = 0\n",
    "    total_students = 0\n",
    "\n",
    "    def __init__(self, name, grade):\n",
    "        self.name = name\n",
    "        self.grade = grade\n",
    "        Student.total_grades += grade\n",
    "        Student.total_students += 1\n",
    "\n",
    "    @classmethod\n",
    "    def averageGrade(cls):\n",
    "        if cls.total_students == 0:\n",
    "            return 0\n",
    "        return cls.total_grades / cls.total_students\n",
    "\n",
    "student1 = Student(\"Bob\", 95)\n",
    "student2 = Student(\"Amy\", 91)\n",
    "student3 = Student(\"Jay\", 72)\n",
    "\n",
    "average = Student.averageGrade()\n",
    "print(f\"Average Grade: {average}\")\n",
    "\n",
    "falseStatement = average > 90\n",
    "print(str(falseStatement))\n",
    "\n",
    "trueStatement = average < 95\n",
    "print(str(trueStatement))"
   ]
  },
  {
   "cell_type": "markdown",
   "metadata": {},
   "source": [
    "Homework 2: Weather"
   ]
  },
  {
   "cell_type": "code",
   "execution_count": null,
   "metadata": {},
   "outputs": [],
   "source": [
    "import random\n",
    "\n",
    "degrees = random.randint(0, 110)\n",
    "\n",
    "weather = [\"stormy\", \"sunny\", \"rainy\", \"cloudy\", \"windy\", \"thundering\", \"hurricane\", \"tornado\", \"fogy\", \"blizzard\"]\n",
    "randomWeather = random.choice(weather)\n",
    "\n",
    "if ((degrees < 20) and (randomWeather == \"stormy\")) :\n",
    "    print(\"You can't go outside! It's \" + str(degrees) + \" degrees right now and it's stormy!\")\n",
    "elif (randomWeather == \"hurricane\") :\n",
    "    print(\"You shouldn't go outside, there's a hurricane!\")\n",
    "elif (randomWeather == \"tornado\") :\n",
    "    print(\"You shouldn't go outside, there's a tornado!\")\n",
    "elif (randomWeather == \"blizzard\") :\n",
    "    print(\"There's a blizzard outside right now, brr!\")\n",
    "elif (degrees < 40 ) :\n",
    "    print(\"It's very cold today! \" + str(degrees) + \" degrees today.\")\n",
    "elif (degrees > 95 ) :\n",
    "    print(\"Today's gonna be really hot: \" + str(degrees) + \" degrees today.\")\n",
    "else :\n",
    "    print(\"Today's weather: \" + str(degrees) + \" degrees and it's currently \" + randomWeather + \".\")"
   ]
  }
 ],
 "metadata": {
  "language_info": {
   "name": "python"
  },
  "orig_nbformat": 4
 },
 "nbformat": 4,
 "nbformat_minor": 2
}
