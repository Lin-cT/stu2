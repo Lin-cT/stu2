{
 "cells": [
  {
   "cell_type": "markdown",
   "metadata": {},
   "source": [
    "---\n",
    "toc: true\n",
    "comments: false\n",
    "layout: post\n",
    "title: Class 7 Reflection\n",
    "description: Reflection of how student teaching class 7 went.\n",
    "type: hacks\n",
    "courses: { compsci: {week: 10} }\n",
    "---"
   ]
  },
  {
   "cell_type": "markdown",
   "metadata": {},
   "source": [
    "<h1 style=\"text-align: center; color:#4263C6;font-weight:700; font-size:40px\">Class 9 Reflection</h1>\n",
    "<br>\n",
    "\n",
    "<p>\n",
    "    In Class 9, we learned about simulations. Simulations are a digital representation of a situation in the real world. For example, there can eb simuations of driving, simulations of flying a plane, etc. For the example they provided, they created a very simple simulation of a dice roll. Using the random library, they created a procedure that would grab a random number between 1 and 6. Once the function is called, the dice is \"rolled\" and it will return what value you got. We also learned about how to be efficent with code, because long code can take very long to run and it may cause lag. Then, they taught us more types of sorting. there is bubble sort that runs through the list and compares adjacent elements and rearanges them. Then there's quick sort that has a pivot and it runs through the code by dividing it up and sorting through the divisions. \n",
    "</p>"
   ]
  },
  {
   "cell_type": "markdown",
   "metadata": {},
   "source": [
    "Homework 1:"
   ]
  },
  {
   "cell_type": "code",
   "execution_count": null,
   "metadata": {},
   "outputs": [],
   "source": [
    "#Enter code here\n",
    "import random\n",
    "\n",
    "def contestants():\n",
    "    return random.randint(0,100)\n",
    "\n",
    "def win():\n",
    "    contestant = contestants()\n",
    "    if contestant == 20 :\n",
    "        print(\"You won $1000!\")\n",
    "    else :\n",
    "        print(\"Sorry, you didn't win.\")\n",
    "\n",
    "win()"
   ]
  },
  {
   "cell_type": "markdown",
   "metadata": {},
   "source": [
    "Homework 2:"
   ]
  },
  {
   "cell_type": "code",
   "execution_count": null,
   "metadata": {},
   "outputs": [],
   "source": [
    "#edit this code\n",
    "numbers = [i for i in range(1, 99999999)]\n",
    "def sum() :\n",
    "    total = (len(numbers) * (numbers[0] + numbers[-1]))/2\n",
    "    return total\n",
    "\n",
    "print(sum(numbers))"
   ]
  }
 ],
 "metadata": {
  "language_info": {
   "name": "python"
  },
  "orig_nbformat": 4
 },
 "nbformat": 4,
 "nbformat_minor": 2
}
