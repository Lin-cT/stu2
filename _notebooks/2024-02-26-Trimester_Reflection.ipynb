{
 "cells": [
  {
   "cell_type": "markdown",
   "metadata": {},
   "source": [
    "---\n",
    "toc: true\n",
    "comments: true\n",
    "layout: post\n",
    "title: Trimester 2 Reflection\n",
    "type: plans\n",
    "courses: { csp: {week: 23} }\n",
    "---"
   ]
  },
  {
   "cell_type": "markdown",
   "metadata": {},
   "source": [
    "# Trimester 2 Reflection\n",
    "\n",
    "Trimester 2 proved to be a period of considerable challenge and growth in my academic journey. While the experience was marked by moments of stress, particularly within group dynamics, it ultimately served as a testament to my ability to persevere through adversity.\n",
    "\n",
    "One of the primary stressors stemmed from the logistical difficulties in coordinating with my group members, who, despite being capable individuals, often found themselves overwhelmed with other commitments. As a result, the burden of organizing and executing various tasks, including the creation of an entire student teach presentation and substantial contributions to the CSP project, fell predominantly on my shoulders.\n",
    "\n",
    "Despite these challenges, Trimester 2 provided me with invaluable lessons in resilience and determination. Despite feeling at times overwhelmed and backed into a corner, I refused to succumb to the pressure. Instead, I embraced a mindset of perseverance, which enabled me to navigate through the obstacles and emerge victorious.\n",
    "\n",
    "A significant source of pride amidst the trials of the trimester was the notable progress in my coding proficiency. Taking on the responsibilities of both backend and frontend development allowed me to deepen my understanding of complex concepts such as SQL databases, endpoints, APIs, and CRUD operations. This hands-on experience provided me with a tangible sense of accomplishment and reinforced my confidence in my abilities.\n",
    "\n",
    "Reflecting on Trimester 2, while acknowledging the challenges encountered within group dynamics, I am gratified by the strides made in my coding journey. The adversity faced served as a catalyst for personal and academic growth, reinforcing my resilience and solidifying my understanding of fundamental programming concepts."
   ]
  }
 ],
 "metadata": {
  "language_info": {
   "name": "python"
  }
 },
 "nbformat": 4,
 "nbformat_minor": 2
}
