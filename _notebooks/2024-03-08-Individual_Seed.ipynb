{
 "cells": [
  {
   "cell_type": "markdown",
   "metadata": {},
   "source": [
    "---\n",
    "toc: true\n",
    "comments: true\n",
    "layout: post\n",
    "title: Individual Seed\n",
    "type: plans\n",
    "courses: { csp: {week: 24} }\n",
    "---"
   ]
  },
  {
   "cell_type": "markdown",
   "metadata": {},
   "source": [
    "# Individual Seed \n",
    "\n",
    "| Name | Profile | Individual Progress | Github Pages Blog | AP Preparation | Project Work |\n",
    "-- | -- | -- | -- | -- | -- |\n",
    "| Lindsay Tang | [Profile](https://github.com/Lin-cT) (Note: There is a glitch that causes some commits I make on Kasm to not count towards my users commits even though they're both names Lin-cT. If you look through my repos, I have much more commits) | Key Commits: [Implementing Activities Table in Backend](https://github.com/Lin-cT/travel_backends/commit/9daa263c22353c7bdbc531d91d72ea9cedee1e80), [Activity Model (Adjustments to make it work)](https://github.com/Lin-cT/travel_backends/commit/4b8345fbe0cead08477594376fada29d8afd6cf0), [Activities Table (Adjustment to make it work)](https://github.com/Lin-cT/travel_project/commit/85d72c42f44101d24e6af548aa9945bcc53779b7), [Itinerary was able to fetch and display](https://github.com/Lin-cT/travel_project/commit/3d719a47d917aa34655a44463216740a9dc9aa5a) | [Reflecting on Issues of Project](https://lin-ct.github.io/stu2/2024/02/26/Trimester_Struggles_IPYNB_2_.html), [Night at the Museum Blog](https://lin-ct.github.io/stu2/2024/02/16/N@tM_Reflection_IPYNB_2_.html), [Final Trimester Reflection](https://lin-ct.github.io/stu2/2024/02/26/Trimester_Reflection_IPYNB_2_.html) | [College Board MC Tri 1](https://lin-ct.github.io/stu2/2023/11/06/CollegeBoard_MC_IPYNB_2_.html), [College Board MC Tri 2](https://lin-ct.github.io/stu2/2023/12/22/Reflection_Collegeboard_MC_IPYNB_2_.html) | Brainstorming: [Brainstorm Project Blog (Tri 2)](https://lin-ct.github.io/stu2/2024/01/11/CPT_Project_IPYNB_2_.html),  [Project Canva](https://www.canva.com/design/DAF5rMdEmOM/MrR0C3NiRY58O0DYxNHcEA/edit) Project Issues: [Itinerary Issue](https://github.com/Lin-cT/travel_project/issues/1), [CSS Styling Issue](https://github.com/Lin-cT/travel_project/issues/6), [Activities Issue](https://github.com/Lin-cT/travel_project/issues/7) |"
   ]
  }
 ],
 "metadata": {
  "language_info": {
   "name": "python"
  }
 },
 "nbformat": 4,
 "nbformat_minor": 2
}
