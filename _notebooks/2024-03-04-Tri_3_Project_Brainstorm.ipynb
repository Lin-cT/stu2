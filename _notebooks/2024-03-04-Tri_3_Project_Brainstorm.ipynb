{
 "cells": [
  {
   "cell_type": "markdown",
   "metadata": {},
   "source": [
    "---\n",
    "toc: true\n",
    "comments: true\n",
    "layout: post\n",
    "title: Struggles in Trimester 2\n",
    "type: plans\n",
    "courses: { csp: {week: 24} }\n",
    "---"
   ]
  },
  {
   "cell_type": "markdown",
   "metadata": {},
   "source": [
    "# Brainstorming Project Overview\n",
    "\n",
    "In this trimester, we are tasked to include machine learning into our project, as well as integrating each of our individual features from our CPT project, into a huge project with 6 people in total. We aren't working fully with 6 people, and we have been split into groups of 3. \n",
    "\n",
    "Currently, our group consists of Bella, Justin, and me (Lindsay). Bella and Justin were on a team last trimester, and their project was fitness themed. Bella had a fitness tracked feature, in which people could enter in the amount of time they exercised a certain activity and it would display a chart based off of that information. Justin mainly worked on a computational feature. \n",
    "\n",
    "My project is about traveling to San Diego, and I have two features. One of my features is an itinerary, where you can type in what you plan to do for the day into a textbox and it will display what the user typed as well as everything else the user has typed into the itinerary before. Another feature of mine is the activities feature. In the backend, I created a database with all the data of activities people can do in San Diego. Each feature either has true or false marked in the backend for if its a family friendly activity, an adult activity, and if its an indoor or an outdoor activity. It displays this data onto a table whenever th user loads the page.\n",
    "\n",
    "# New Project\n",
    "\n",
    "In order to merge all these features together, we have decided to create a wellness page, where people can track how they're doing. \n",
    "\n",
    "Bella's feature can still be used as a fitness tracker, and can also be changed into a sleep tracker to track how many hours a person has been sleeping. \n",
    "\n",
    "My itinerary featue can be turned into a diary, where people can talk about their personal feelings and only they can see it. My activities feature could be turned into a therapy feature, in which people can look up places where they can find therapy if they need it, and there will be other perameters like if it's cheap, etc etc. \n",
    "\n",
    "Justins computational feature could start to deal with the machine learning. We want to try to find a dataset displaying how hours of sleep can impact a person's mental health or something close to that.\n",
    "\n",
    "The other 3 person group has decided to do something similar along the lines of self care, so we will be implimenting our ideas into one huge project later. "
   ]
  }
 ],
 "metadata": {
  "language_info": {
   "name": "python"
  }
 },
 "nbformat": 4,
 "nbformat_minor": 2
}
