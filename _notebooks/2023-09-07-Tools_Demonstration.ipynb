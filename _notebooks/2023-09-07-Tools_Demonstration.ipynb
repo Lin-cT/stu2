{
 "cells": [
  {
   "cell_type": "markdown",
   "metadata": {},
   "source": [
    "---\n",
    "comments: true\n",
    "layout: post\n",
    "title: Tool Demonstration\n",
    "description: A bash script that demonstrates all the downloaded tools and all the files in my project. \n",
    "type: hacks\n",
    "courses: { compsci: {week: 3} }\n",
    "---"
   ]
  },
  {
   "cell_type": "code",
   "execution_count": 2,
   "metadata": {
    "vscode": {
     "languageId": "shellscript"
    }
   },
   "outputs": [
    {
     "name": "stdout",
     "output_type": "stream",
     "text": [
      "Installed tools and versions:\n",
      "pip 22.0.2 from /usr/lib/python3/dist-packages/pip (python 3.10)\n",
      "ruby 3.0.2p107 (2021-07-07 revision 0db68f0233) [x86_64-linux-gnu]\n",
      "Selected Jupyter core packages...\n",
      "IPython          : 7.31.1\n",
      "ipykernel        : 6.7.0\n",
      "ipywidgets       : 6.0.0\n",
      "jupyter_client   : 8.3.0\n",
      "jupyter_core     : 5.3.1\n",
      "jupyter_server   : 2.7.2\n",
      "jupyterlab       : 4.0.5\n",
      "nbclient         : 0.5.6\n",
      "nbconvert        : 7.7.4\n",
      "nbformat         : 5.9.2\n",
      "notebook         : 6.4.8\n",
      "qtconsole        : not installed\n",
      "traitlets        : 5.9.0\n",
      "Switch to project directory.\n",
      "List files and folders in project directory:\n",
      "\n",
      "assets\n",
      "compsci.md\n",
      "_config.yml\n",
      "_data\n",
      "Gemfile\n",
      "Gemfile.lock\n",
      "images\n",
      "_includes\n",
      "indexBlogs.md\n",
      "indexHelp.md\n",
      "index.md\n",
      "_layouts\n",
      "LICENSE\n",
      "Makefile\n",
      "_notebooks\n",
      "_posts\n",
      "README.md\n",
      "scripts\n",
      "_site\n",
      "Print text content of index.md file:\n",
      "\n",
      "---\n",
      "layout: default\n",
      "title: Student Blog\n",
      "---\n",
      "<style>\n",
      "    body {\n",
      "        background-image: url(images/WHITE.png);\n",
      "        background-size: cover;\n",
      "    }\n",
      "</style>\n",
      "\n",
      "<a style=\"color:#4263C6\" href=\"#About\">About Me</a>\n",
      "<br>\n",
      "<a style=\"color:#4263C6\" href=\"#Family\">Family</a>\n",
      "<br>\n",
      "<a style=\"color:#4263C6\" href=\"#Class\">Classes</a>\n",
      "\n",
      "<h1 style=\"text-align: center; color:#001861;font-weight:700; font-size:40px\">Lindsay's Blog</h1>\n",
      "<p style=\"text-align: center; color:#4263C6;font-size:18px\">Welcome to my page! Here you'll get to learn a bit more about me and my life.</p>\n",
      "\n",
      "<section ID=\"About\"></section>\n",
      "<h1 style=\"text-align: center; color: #324FA3;font-weight:600;font-size:30px\">About Me</h1>\n",
      "<p><img src=\"images/Me.jpg\" height=\"300\" width=\"250\" align=\"left\" hspace=\"50\"></p>\n",
      "<span style=\"color: #4263C6;\">\n",
      "    To the left is a drawing of some things I love. At the very top left, there is a paintbrush with red paint on it. I really like art, and I love to draw and paint both on paper and digitally. To the right of that, there is a badminton raquet because I have recently picked up the sport. My friend invited me to a badminton Discord server that was hosting weekly meet ups to play badminton, so I started getting into it. Below the paintbrush is a drawing of water or waves. I really love the ocean, I think it's so peaceful and calming. I love to listen to the waves while I reflect about life. Below the waves is a Chinese flag, a symbol for my ethnicity. My mom and dad are both from mainland China so I am 100% Chinese. To the right of the flag is a drawing of my cat, Maomao. I love Maomao, as he has always been by my side and comforting me through the hard times. He also loves to snuggle with me in bed and I think that is the cutest thing. At the very bottom of the picture is a drawing of my two siblings. I have two older siblings, Jennifer and Alan.</span>\n",
      "\n",
      "<section ID=\"Family\"></section>\n",
      "<h1 style=\"text-align: center; color: #324FA3;font-weight:600;font-size:30px\">My Family</h1>\n",
      "<p><img src=\"images/Family.jpg\" height=\"300\" width=\"250\" align=\"left\" hspace=\"50\"></p>\n",
      "<span style=\"color: #4263C6;\">As I mentioned before, I have two siblings. Jennifer is the olest sibling (she's the one standing to the left). She attended Mount Carmel High School and went to UC Berkeley for college. She double majored in computer science and econ. Now, she works as a data analyst for the startup company, Nextdoor. Alan is the second oldest (the one standing in the back). He attended Del Norte High School and went to Brown University for college. There, he majored in somputer science as well. Now, he is an investment banker and works for a small firm. My mom and dad are sadly not in the picture. They attended Zhejiang University, a highly respected college in China. But when my mom came to the United States, she also went to Ohio University to major in computer science. Now, my dad works at Broadcom and my mom works for WFG. As well, Maomao and Blssom are also very important members of my family. Maomao is a  11 year short-haired tuxedo cat who loves to sleep. Everyday when I come home from school, I'll find him curled up on either his bed or my bed, fast asleep. The other cat in the family, Blossom, is a new addition to the family. My sister adopted Blossom earlier this year in May. She's a 1 year old long-haired grey tabby who is very playful. Blossom can never stay still long enough for you to pet her, she always has to be on the move. Maybe she will come up to you for a few seconds to nuzzle your leg but she's most likley gone within the next minute.</span> \n",
      "\n",
      "<section ID=\"Class\"></section>\n",
      "<h1 style=\"text-align: center; color: #324FA3;font-weight:600;font-size:30px\">Classes Trimester 1</h1>\n",
      "<span style=\"color: #4263C6;\">Period 1: AP Calc BC with Mrs. Lanzi</span>\n",
      "<br>\n",
      "<span style=\"color: #4263C6;\">Period 2: AP Physics with Mr. Liao</span>\n",
      "<br>\n",
      "<span style=\"color: #4263C6;\">Period 3: AP English Language with Mrs. Darcey</span>\n",
      "<br>\n",
      "<span style=\"color: #4263C6;\">Period 4: AP Comp Sci P</span>\n",
      "<br>\n",
      "<span style=\"color: #4263C6;\">Period 5: AP Offrole</span>"
     ]
    }
   ],
   "source": [
    "%%script bash\n",
    "\n",
    "echo \"Installed tools and versions:\"\n",
    "pip --version\n",
    "ruby -v\n",
    "jupyter --version\n",
    "echo \"Switch to project directory.\"\n",
    "cd /home/kasm-user/vscode/stu2\n",
    "echo \"List files and folders in project directory:\"\n",
    "echo \"\"\n",
    "ls \n",
    "echo \"Print text content of index.md file:\"\n",
    "echo \"\"\n",
    "cat index.md"
   ]
  }
 ],
 "metadata": {
  "kernelspec": {
   "display_name": "Python 3",
   "language": "python",
   "name": "python3"
  },
  "language_info": {
   "codemirror_mode": {
    "name": "ipython",
    "version": 3
   },
   "file_extension": ".py",
   "mimetype": "text/x-python",
   "name": "python",
   "nbconvert_exporter": "python",
   "pygments_lexer": "ipython3",
   "version": "3.10.12"
  },
  "orig_nbformat": 4
 },
 "nbformat": 4,
 "nbformat_minor": 2
}
