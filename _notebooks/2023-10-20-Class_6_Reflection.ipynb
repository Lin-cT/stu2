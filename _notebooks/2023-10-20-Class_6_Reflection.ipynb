{
 "cells": [
  {
   "cell_type": "markdown",
   "metadata": {},
   "source": [
    "---\n",
    "toc: true\n",
    "comments: false\n",
    "layout: post\n",
    "title: Class 6 Reflection\n",
    "description: Reflection of how student teaching class 6 went.\n",
    "type: hacks\n",
    "courses: { compsci: {week: 9} }\n",
    "---"
   ]
  },
  {
   "cell_type": "markdown",
   "metadata": {},
   "source": [
    "<h1 style=\"text-align: center; color:#4263C6;font-weight:700; font-size:40px\">Class 6 Reflection</h1>\n",
    "<br>\n",
    "\n",
    "<p>\n",
    "    In Class 6, they taught us simple operations we can do to lists. We can add elements to a list, we can take away elements of a list, we can locate specific elements of a list (depending on the value assigned to the elements order), we can assign an element to an index, and much more. They also taught us another way to sort lists to find th minimum value using a very easy sort method. Later on, they even taught us how to perform binary and sequential searches. Binary searches require the lists to be organized in descending or ascending order. A sequential search does not require an order, and will search through the elements until it gets the desired target. \n",
    "</p>"
   ]
  },
  {
   "cell_type": "markdown",
   "metadata": {},
   "source": [
    "Homework 1:"
   ]
  },
  {
   "cell_type": "code",
   "execution_count": null,
   "metadata": {},
   "outputs": [],
   "source": [
    "bSearch = [3, 6, 12, 14, 50, 53]\n",
    "middleIndex = (bSearch[0] + bSearch[5]) / 2\n",
    "print(middleIndex)\n",
    "\n",
    "fruits= ['Apple', 'Carrot', 'Mango', 'Peach']\n",
    "A= [1, 3, 5, 8, 9]\n",
    "B= [6, -1, 5, 12, 8]\n",
    "\n",
    "#Type your choices below\n",
    "#Definitley not fruits because that is a list of strings\n",
    "#Not B either because it is not ordered from ascending or descending\n",
    "\n",
    "answer = B\n",
    "\n",
    "\n"
   ]
  },
  {
   "cell_type": "markdown",
   "metadata": {},
   "source": [
    "Homework 2:"
   ]
  },
  {
   "cell_type": "code",
   "execution_count": null,
   "metadata": {},
   "outputs": [],
   "source": [
    "yourlist = [8,10,35,39,49,52]\n",
    "#type out your answers below and run the code and include output in screenshot\n",
    "\n",
    "num1 = yourlist[1]\n",
    "print(num1)\n",
    "\n",
    "yourlist[2] = num1\n",
    "print(yourlist[2])\n",
    "\n",
    "#Adding the num1 \n",
    "yourlist.append(num1)\n",
    "print(yourlist[6])\n",
    "\n",
    "print(yourlist)"
   ]
  }
 ],
 "metadata": {
  "language_info": {
   "name": "python"
  },
  "orig_nbformat": 4
 },
 "nbformat": 4,
 "nbformat_minor": 2
}
