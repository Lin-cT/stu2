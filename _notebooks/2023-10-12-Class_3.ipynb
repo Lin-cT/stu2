{
 "cells": [
  {
   "cell_type": "markdown",
   "metadata": {},
   "source": [
    "Popcorn Hack 1:"
   ]
  },
  {
   "cell_type": "code",
   "execution_count": 1,
   "metadata": {},
   "outputs": [
    {
     "name": "stdout",
     "output_type": "stream",
     "text": [
      "0\n",
      "1\n",
      "2\n",
      "3\n",
      "4\n"
     ]
    }
   ],
   "source": [
    "for number in range(5):\n",
    "    print(number)"
   ]
  },
  {
   "cell_type": "code",
   "execution_count": 3,
   "metadata": {},
   "outputs": [
    {
     "name": "stdout",
     "output_type": "stream",
     "text": [
      "This is the color: Red\n",
      "This is the color: Orange\n",
      "This is the color: Yellow\n",
      "This is the color: Green\n",
      "This is the color: Blue\n",
      "This is the color: Indigo\n",
      "This is the color: Violet\n",
      "This is the color: Pink\n",
      "This is the color: Brown\n",
      "This is the color: Black\n",
      "This is the color: White\n"
     ]
    }
   ],
   "source": [
    "colors = [\"Red\", \"Orange\", \"Yellow\", \"Green\", \"Blue\", \"Indigo\", \"Violet\", \"Pink\", \"Brown\", \"Black\", \"White\"]\n",
    "\n",
    "for color in colors:\n",
    "    print(\"This is the color: \" + str(color))"
   ]
  },
  {
   "cell_type": "markdown",
   "metadata": {},
   "source": [
    "Homework:"
   ]
  },
  {
   "cell_type": "code",
   "execution_count": 5,
   "metadata": {},
   "outputs": [
    {
     "name": "stdout",
     "output_type": "stream",
     "text": [
      "[12, 28, 21, 17, 19, 32, 24]\n",
      "[12, 28, 21, 17, 19, 32, 24]\n",
      "[12, 28, 21, 17, 19, 32, 24]\n",
      "[12, 28, 21, 17, 19, 32, 24]\n",
      "[12, 28, 21, 17, 19, 32, 24]\n",
      "[12, 28, 21, 17, 19, 32, 24]\n",
      "[12, 28, 21, 17, 19, 32, 24]\n",
      "[12, 28, 21, 17, 19, 32, 24]\n",
      "[12, 28, 21, 17, 19, 32, 24]\n",
      "[12, 28, 21, 17, 19, 32, 24]\n"
     ]
    }
   ],
   "source": [
    "killsPerGame = [12, 28, 21, 17, 19, 32, 24]\n",
    "\n",
    "for kpg in range(10):\n",
    "    print(killsPerGame)"
   ]
  },
  {
   "cell_type": "code",
   "execution_count": null,
   "metadata": {},
   "outputs": [],
   "source": [
    "words = [\"dog\", \"cat\", \"fish\"]"
   ]
  },
  {
   "cell_type": "code",
   "execution_count": 7,
   "metadata": {},
   "outputs": [
    {
     "name": "stdout",
     "output_type": "stream",
     "text": [
      "That's the right password!\n"
     ]
    }
   ],
   "source": [
    "while True:\n",
    "    user_input = input(\"Please enter your passcode: \")\n",
    "    if user_input == \"Cranberry75\" :\n",
    "        print(\"That's the right password!\")\n",
    "        break\n",
    "    else :\n",
    "        print(\"Wrong password. Please try again.\")"
   ]
  }
 ],
 "metadata": {
  "kernelspec": {
   "display_name": "Python 3",
   "language": "python",
   "name": "python3"
  },
  "language_info": {
   "codemirror_mode": {
    "name": "ipython",
    "version": 3
   },
   "file_extension": ".py",
   "mimetype": "text/x-python",
   "name": "python",
   "nbconvert_exporter": "python",
   "pygments_lexer": "ipython3",
   "version": "3.10.12"
  },
  "orig_nbformat": 4
 },
 "nbformat": 4,
 "nbformat_minor": 2
}
