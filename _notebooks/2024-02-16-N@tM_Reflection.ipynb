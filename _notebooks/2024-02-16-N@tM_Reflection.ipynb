{
 "cells": [
  {
   "cell_type": "markdown",
   "metadata": {},
   "source": [
    "---\n",
    "toc: true\n",
    "comments: false\n",
    "layout: post\n",
    "title: Night at the Museum\n",
    "type: plans\n",
    "courses: { csp: {week: 18} }\n",
    "---"
   ]
  },
  {
   "cell_type": "markdown",
   "metadata": {},
   "source": [
    "# Reflection on N@tM\n",
    "\n",
    "![Gaming project](https://files.catbox.moe/amy4gr.png)\n",
    "![Josh](https://files.catbox.moe/dcnu9x.png)\n",
    "\n",
    "1. Josh Thinh's Gaming Website\n",
    "Josh Thinh's gaming project is a remarkable blend of creativity and technical expertise, reflecting the innovative possibilities within computer science. The futuristic design elements incorporated into the project, from the sleek user interface to the visually captivating graphics, not only enhance the aesthetic appeal but also immerse players in a dynamic gaming environment.\n",
    "\n",
    "What particularly stands out about Josh's project is the integration of social features, such as the ability to add friends, view leaderboards, and engage in chat functionalities. These features not only foster a sense of community among players but also enhance the overall gaming experience by promoting interaction and collaboration.\n",
    "\n",
    "![Cooking](https://files.catbox.moe/2a6n9j.png)\n",
    "![Matthew](https://files.catbox.moe/ei2tzb.png)\n",
    "2. Matthew Wang's Cooking Project\n",
    "Matthew decided to create a project that allows users to look up recipies that they want to cook, and it will generate all the steps and ingredients that you need in order to make that recipe. They have features where you can star recipes and also talk with other people and look at other people's images of their food. I think this is really impressive, and also I thought the design was super cool.\n",
    "\n",
    "![Samhita with the discord chanel](https://files.catbox.moe/24bvic.png)\n",
    "3. Text Channel Project\n",
    "Someone created a project where you can generate and create text channels like discord, and you can talk in them and send messages. It also has another feature where you can talk to an ai bot, and I thought that part was impressive that they were able to impliment ai into their project.\n",
    "\n",
    "![Hidden](https://files.catbox.moe/pfanko.png)\n",
    "4. Mask Poster Art\n",
    "I saw this poster art while I was walking around the drawing and painting classroom. I thoguht this piece was super unique as it had a cool poker and card game kind of theme to it. I think what this piece represents is how in poker, poeple need to keep their expressions hidden so that they don't reveal their true emotions (happy, sad, dissappointed, scared). That's why there is a huge red diamond behind the masks and also next to the words on the poster.\n",
    "\n",
    "![Mortenson](https://files.catbox.moe/6pfkam.png)\n",
    "5. Mr. Mortenson Drawing\n",
    "In the drawing and painting classroom, I saw a drawing of Mr. Mortenson and I thought that was really cool. It looks like one side of the drawing was a picture of Mr. Mortenson in black and white and the other part of it was the actual drawing. "
   ]
  }
 ],
 "metadata": {
  "language_info": {
   "name": "python"
  },
  "orig_nbformat": 4
 },
 "nbformat": 4,
 "nbformat_minor": 2
}
