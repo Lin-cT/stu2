{
 "cells": [
  {
   "cell_type": "markdown",
   "metadata": {},
   "source": [
    "---\n",
    "layout: post\n",
    "title: Review Ticket\n",
    "description: Review Ticket for test\n",
    "type: ccc\n",
    "author: Lindsay Tang\n",
    "permalink: /basics/review-ticket\n",
    "comments: true\n",
    "---"
   ]
  },
  {
   "cell_type": "raw",
   "metadata": {},
   "source": [
    "{% include nav_basics.html %}"
   ]
  },
  {
   "cell_type": "markdown",
   "metadata": {},
   "source": [
    "<h1 style=\"text-align: center; color:#4263C6;font-weight:700; font-size:40px\">Review Ticket: Basics</h1>\n",
    "\n",
    "<table>\n",
    "  <tr>\n",
    "    <th>Name</th>\n",
    "    <th>Score</th>\n",
    "  </tr>\n",
    "  <tr>\n",
    "    <td>Matthew</td>\n",
    "    <td>3.7. Has a unique code for the DOM Hacks that allows the link to switch back and forth. Finished challenge.</td>\n",
    "  </tr>\n",
    "  <tr>\n",
    "    <td>Ethan</td>\n",
    "    <td>3.6. Has everything and the challenge done too. </td>\n",
    "  </tr>\n",
    "  <tr>\n",
    "    <td>Josh</td>\n",
    "    <td>3.6. Has everything + challenge done.</td>\n",
    "  </tr>\n",
    "\n",
    "- HTML Hack\n",
    "- Data Types Hack\n",
    "- DOM Hack\n",
    "- Javascript Hack\n",
    "- Correcting Errors Hack + Challenge\n",
    "- Bonus: Added a little bit of the passion project (or idea of it) into the Basics project\n",
    "\n"
   ]
  }
 ],
 "metadata": {
  "language_info": {
   "name": "python"
  },
  "orig_nbformat": 4
 },
 "nbformat": 4,
 "nbformat_minor": 2
}
