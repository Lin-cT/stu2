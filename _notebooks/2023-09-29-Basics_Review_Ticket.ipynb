{
 "cells": [
  {
   "cell_type": "markdown",
   "metadata": {},
   "source": [
    "---\n",
    "layout: post\n",
    "title: Review Ticket\n",
    "description: Review Ticket for test\n",
    "type: ccc\n",
    "author: Lindsay Tang\n",
    "permalink: /basics/review-ticket\n",
    "comments: True\n",
    "---"
   ]
  },
  {
   "cell_type": "markdown",
   "metadata": {},
   "source": []
  }
 ],
 "metadata": {
  "language_info": {
   "name": "python"
  },
  "orig_nbformat": 4
 },
 "nbformat": 4,
 "nbformat_minor": 2
}
