{
 "cells": [
  {
   "cell_type": "markdown",
   "metadata": {},
   "source": [
    "---\n",
    "comments: True\n",
    "layout: post\n",
    "title: Wikipedia Searching\n",
    "description: A python script that allows you to search through wikipedia. This is a demonstration of python tricks. \n",
    "type: hacks\n",
    "courses: {'compsci': {'week': 3}}\n",
    "---"
   ]
  },
  {
   "cell_type": "code",
   "execution_count": 1,
   "metadata": {},
   "outputs": [
    {
     "name": "stdout",
     "output_type": "stream",
     "text": [
      "Welcome to the Wikipedia search.\n",
      "['Python', 'Python (programming language)', 'Monty Python', 'Ball python', 'Python (missile)', 'Reticulated python', 'Python (codename)', 'Burmese python', 'History of Python', 'Morelia spilota']\n",
      "Python is a high-level, general-purpose programming language. Its design philosophy emphasizes code readability with the use of significant indentation.Python is dynamically typed and garbage-collected. It supports multiple programming paradigms, including structured (particularly procedural), object-oriented and functional programming. It is often described as a \"batteries included\" language due to its comprehensive standard library.Guido van Rossum began working on Python in the late 1980s as a successor to the ABC programming language and first released it in 1991 as Python 0.9.0. Python 2.0 was released in 2000. Python 3.0, released in 2008, was a major revision not completely backward-compatible with earlier versions. Python 2.7.18, released in 2020, was the last release of Python 2.Python consistently ranks as one of the most popular programming languages.\n",
      "\n",
      "\n"
     ]
    }
   ],
   "source": [
    "import wikipedia as wp\n",
    "\n",
    "print(\"Welcome to the Wikipedia search.\");\n",
    "query = input(\"What would you like to search for?\")\n",
    "print(wp.search(query));\n",
    "search = input(\"Would you like a summary of any of these pages?\");\n",
    "result = wp.summary(search);\n",
    "print(result);"
   ]
  }
 ],
 "metadata": {
  "kernelspec": {
   "display_name": "Python 3",
   "language": "python",
   "name": "python3"
  },
  "language_info": {
   "codemirror_mode": {
    "name": "ipython",
    "version": 3
   },
   "file_extension": ".py",
   "mimetype": "text/x-python",
   "name": "python",
   "nbconvert_exporter": "python",
   "pygments_lexer": "ipython3",
   "version": "3.10.12"
  },
  "orig_nbformat": 4
 },
 "nbformat": 4,
 "nbformat_minor": 2
}
