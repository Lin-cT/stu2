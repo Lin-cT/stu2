{
 "cells": [
  {
   "cell_type": "markdown",
   "metadata": {},
   "source": [
    "---\n",
    "toc: true\n",
    "comments: false\n",
    "layout: post\n",
    "title: College Board MC\n",
    "type: plans\n",
    "courses: { compsci: {week: 11} }\n",
    "---"
   ]
  },
  {
   "cell_type": "markdown",
   "metadata": {},
   "source": [
    "<h1>College Board Mc Reflection</h1>\n",
    "<p>\n",
    "    For most of these multiple choice questions, I was either working with my group or working with my dad to solve the problems. \n",
    "</p>\n",
    "<br>\n",
    "<p>\n",
    "    1. Question 1 was a little confusing, seeing as I've never encountered the Pseudo code that college board uses. It took a while for Matthew to explain to us what it meant.\n",
    "</p>\n",
    "<br>\n",
    "<p>\n",
    "    3. I had to use ChatGPT and online resources to look up what citizen science was. Citizen science is scientific research conducted with participation from the general public.\n",
    "</p>\n",
    "<br>\n",
    "<p>\n",
    "    15. Before this, I knew close to nothing about computers and internet access, so again I went to the internet, and my dad, in order to help me discover that each computer has an IP adress. \n",
    "</p>\n",
    "<br>\n",
    "<p>\n",
    "    32. This question confused me for a little bit, as I was unsure of which variable was or wasn't changing. Matthew again explained to me how the code changes the value of nummice and days, but doesn't change the value of predators. Therefore, the answer was d.\n",
    "</p>\n",
    "<br>\n",
    "<p>\n",
    "    42. Again, I had to look up what IPv4 was on ChatGPT and on the internet. Protocol (IP) that was developed. IPv4 is the most widely used version of the Internet Protocol and has been in use since the early days of the internet. It provides the basic framework for how data is sent and received over the internet.\n",
    "</p>\n",
    "<br>\n",
    "<p>\n",
    "\n",
    "</p>"
   ]
  }
 ],
 "metadata": {
  "language_info": {
   "name": "python"
  },
  "orig_nbformat": 4
 },
 "nbformat": 4,
 "nbformat_minor": 2
}
