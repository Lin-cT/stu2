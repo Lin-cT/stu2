{
 "cells": [
  {
   "cell_type": "markdown",
   "metadata": {},
   "source": [
    "---\n",
    "comments: true\n",
    "layout: post\n",
    "title: Data Structures Implimentation and Plan Going Forward\n",
    "courses: { csp: {week: 26} }\n",
    "---"
   ]
  },
  {
   "cell_type": "markdown",
   "metadata": {},
   "source": [
    "# Our Plan Going Forward:\n",
    "\n",
    "Our website refinement project focuses on optimizing two core features: the personal diary and user profiles. Collaboratively, Bella and I are dedicated to enhancing these aspects. On the frontend, we will prioritize designing elegant user interface components for profile management and diary entries, ensuring intuitive navigation and aesthetic appeal. Authentication mechanisms will be implemented to guarantee secure access. Back-end development entails the creation of a well-structured database schema, proficient in storing user profile data and diary entries efficiently. API endpoints will facilitate seamless data interaction, supported by comprehensive validation protocols. Our objective is to seamlessly integrate these enhancements, fostering a fluid user experience. Rigorous testing will validate functionality and address any inconsistencies. Ultimately, our aspiration is to deliver a refined platform, elevating user engagement and satisfaction through enhanced profile and diary features."
   ]
  },
  {
   "cell_type": "markdown",
   "metadata": {},
   "source": [
    "# Our Timeline:\n",
    "\n",
    "| Date | Goal | Descriptions |\n",
    "|----------|----------|----------|\n",
    "| 5/17 - 5/20 | Solving the Cookie Issue | Me and Bella will focus on the backend code, mostly in the cookie creation within user.py to see if there are posssible ways to modify the code to create a cookie on the deployed site? |\n",
    "| 5/21 - 5/24 | Storing Images | Me and Bella may create a column in the user database to store images for the user to upload as their profile picture, and figure out how to store image data and process it. |\n",
    "| 5/24 - 5/29 | Other Bug Fixes | Me and Bella may run through the code from our other group members and try to sort out any issues and bugs that may come, or even try and add on to the profile feature |"
   ]
  },
  {
   "cell_type": "markdown",
   "metadata": {},
   "source": [
    "# 2D Iteration with 2D Images:\n",
    "\n",
    "2D iteration is a fundamental concept in programming that involves traversing or iterating over a two-dimensional array, grid, or matrix. It entails using nested loops to systematically access each element within rows and columns of the structure. Whether it's printing a grid, initializing a nested list, accessing elements in a 2D list, or performing operations in image processing tasks, such as manipulating pixels or applying filters, 2D iteration plays a crucial role. In image processing, for instance, an image is represented as a 2D grid of pixels, and 2D iteration allows for the systematic processing of each pixel and its neighbors. By iterating over rows and columns, programmers can efficiently navigate and manipulate data in two dimensions, making it a versatile and powerful technique in various domains of programming and computer science."
   ]
  }
 ],
 "metadata": {
  "language_info": {
   "name": "python"
  }
 },
 "nbformat": 4,
 "nbformat_minor": 2
}
