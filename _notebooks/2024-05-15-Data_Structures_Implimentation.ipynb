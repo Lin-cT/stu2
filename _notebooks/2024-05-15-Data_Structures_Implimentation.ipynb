{
 "cells": [
  {
   "cell_type": "markdown",
   "metadata": {},
   "source": [
    "---\n",
    "comments: true\n",
    "layout: post\n",
    "title: Data Structures Implimentation and Plan Going Forward\n",
    "courses: { csp: {week: 26} }\n",
    "---"
   ]
  },
  {
   "cell_type": "markdown",
   "metadata": {},
   "source": [
    "# Our Plan Going Forward:\n",
    "\n",
    "Me and Bella have decided to focus on developing and innovating our current features on the website. One of the features we saw needed fixing was my personal diary feature, as the cookies on the deployed website did not work, and that was crucial for my program to work. Another feature we wanted to revisit again was the profile feature. Before, Bella was working on creating customizble proflies for the users, allowing them to change profile pictures and edit other things. We are planing on programming and adding this feature as a final adjustment."
   ]
  },
  {
   "cell_type": "markdown",
   "metadata": {},
   "source": [
    "# Oure Timeline:\n",
    "\n",
    "| Date | Goal | Description |\n",
    "|----------|----------|----------|\n",
    "| 5/16 - 5/20 | Solving the Cookie Issue | Me and Bella will focus on the backend oode, mostly in the cookie creation within user.py to see if there are posssible ways to modify the code to create a cookie on the deployed site? |\n",
    "| 5/21 - 5/24 | Storing Images | Me and Bella may create a column in the user database to store images for the user to upload as their profile picture, and figure out how to store image data and process it. |\n",
    "| 5/24 - 5/30 | Other Bug Fixes | Me and Bella may run through the code from our other group members and try to sort out any issues and bugs that may come, or even try and add on to the profile feature |"
   ]
  }
 ],
 "metadata": {
  "language_info": {
   "name": "python"
  }
 },
 "nbformat": 4,
 "nbformat_minor": 2
}
