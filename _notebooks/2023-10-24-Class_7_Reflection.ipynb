{
 "cells": [
  {
   "cell_type": "markdown",
   "metadata": {},
   "source": [
    "---\n",
    "toc: true\n",
    "comments: false\n",
    "layout: post\n",
    "title: Class 7 Reflection\n",
    "description: Reflection of how student teaching class 7 went.\n",
    "type: hacks\n",
    "courses: { compsci: {week: 10} }\n",
    "---"
   ]
  },
  {
   "cell_type": "markdown",
   "metadata": {},
   "source": [
    "<h1 style=\"text-align: center; color:#4263C6;font-weight:700; font-size:40px\">Class 7 Reflection</h1>\n",
    "<br>\n",
    "\n",
    "<p>\n",
    "    In Class 7 we learned about procedures. A procedure is a group of programming instructions. There are 2 main types of procedures, a procedure that returns a value of data and a procedure that executes a block of statements. They demonstrated to us how they created a procedure. First you define the name of the procedure, then you set the parameters. Then within the procedure, you create the code that is executed when the procedure is ran. They then demonstrated how we could use procedures to define objects and sort them into classes. If this object with the given perameters fits this condition, this object is now part of this class. I think this class was very easy to understand, and they explained it very well. \n",
    "</p>"
   ]
  },
  {
   "cell_type": "markdown",
   "metadata": {},
   "source": [
    "Homework 1:"
   ]
  },
  {
   "cell_type": "code",
   "execution_count": null,
   "metadata": {},
   "outputs": [],
   "source": [
    "# HW Hack 1\n",
    "\n",
    "def updateNumber(currentNumber, chosenNumber):\n",
    "    if currentNumber < chosenNumber:\n",
    "        currentNumber = chosenNumber\n",
    "        return currentNumber\n",
    "    \n",
    "currentNumber = 12\n",
    "chosenNumber = 45\n",
    "newNumber = updateNumber(currentNumber, chosenNumber)\n",
    "print(newNumber)"
   ]
  },
  {
   "cell_type": "markdown",
   "metadata": {},
   "source": [
    "Homework 2:"
   ]
  },
  {
   "cell_type": "code",
   "execution_count": null,
   "metadata": {},
   "outputs": [],
   "source": [
    "# HW Hack 2\n",
    "\n",
    "class young:\n",
    "    name = \"\"\n",
    "    age = 0\n",
    "\n",
    "class old:\n",
    "    name = \"\"\n",
    "    age = 0\n",
    "\n",
    "def classifyPerson(name, age):\n",
    "    if age > 50:\n",
    "        oldPerson = old()\n",
    "        oldPerson.name = name\n",
    "        oldPerson.age = age\n",
    "        return oldPerson\n",
    "    else:\n",
    "        youngPerson = young()\n",
    "        youngPerson.name = name\n",
    "        youngPerson.age = age\n",
    "        return youngPerson\n",
    "\n",
    "person1 = classifyPerson(\"Johnny\", 23)\n",
    "person2 = classifyPerson(\"Ariana\", 38)\n",
    "person3 = classifyPerson(\"Tom\", 61)\n",
    "person4 = classifyPerson(\"Bethany\", 84)\n",
    "\n",
    "print(f\"{person1.name} is {person1.age}\")\n",
    "print(f\"{person2.name} is {person2.age}\")\n",
    "print(f\"{person3.name} is {person3.age}\")\n",
    "print(f\"{person4.name} is {person4.age}\")"
   ]
  }
 ],
 "metadata": {
  "language_info": {
   "name": "python"
  },
  "orig_nbformat": 4
 },
 "nbformat": 4,
 "nbformat_minor": 2
}
