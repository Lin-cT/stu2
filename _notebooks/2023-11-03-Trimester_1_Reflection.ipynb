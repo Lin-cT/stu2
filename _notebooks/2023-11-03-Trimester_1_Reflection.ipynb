{
 "cells": [
  {
   "cell_type": "markdown",
   "metadata": {},
   "source": [
    "---\n",
    "toc: true\n",
    "comments: false\n",
    "layout: post\n",
    "title: Trimester 1 Reflection\n",
    "type: plans\n",
    "courses: { compsci: {week: 11} }\n",
    "---"
   ]
  },
  {
   "cell_type": "markdown",
   "metadata": {},
   "source": [
    "<h1>\n",
    "    Trimester 1 Reflection\n",
    "</h1>\n",
    "<p>\n",
    "    In the beginning of the trimester, I came into this class not knowing much about code at all. Last year, I tried to join the robotics software team, but I thought that Java was way too complicated for me. I only knew very minimal amount of Java, Python, and HTML. Then, we were set up with personal \"notebooks\" on VSCode and given a blog page to customize. I started to do research on how to create tables, change font colors and size, add images, change the web-page background, and so much more. The freedom to basically do anything with your personal blog page gave me the freedom to explore HTML on my own and discover how the program works. By the end of the first or second week, I had a small blog page with a customied home page with buttons, a custom background, and images. I was pretty gproud of what I had made. Although, there were also some challenges that I faced while trying to figure out my way through the basics of HTML. We didn't have a teacher in the class for the first 2 weeks, which really set us back. the instructions were also very open ended, which was a good and a bad thing. I struggled to figure out the requirements for the first peer review, but in the end I did fine. Then, each week we were thrown more and more projects and tasks to complete. In many ways, I felt like I was drowning in the class, as once I finished figuring out how to code one task (which usually took me at least a week and sessions with my dad), we would be thrown a new more challenging assignment. To most people, this may not be too bad, but I am a very slow learner. Still, I continued on. Then we had a project where we had to demonstrate different types of code (bash, JavaScript, Python) One of my simple pieces of code that I am proud of is my cat table and the wikipedia search that I have in my Jupyter Notebook. I am really proud of myself for being able to research and find out how to work the code myself without help from my dad or my partner, Matthew, so I thought it was an accomplishment and a step in my path to becoming a better programmer. Fast forward to the middle of the trimester, we were assigned the passion project. Our group, Matthew, Josh, Ethan, and me, had an idea of making our project centered around and game. At first, we wanted it to be an aim trainer for shooting games. Then, we started to come up with more ideas for games, and then finally, we decided to create a website that leads to multiple games. The first 2 weeks for our project were super slow. We weren't sure how we wanted to accomplish such a daunting task of creating multiple games, as well as having both a frontend and a backend (which would mean that we had to store data in databases, and we were all very amature coders so we had no idea how to start). Matthew then started to code the cookie clicker game, and I decided that I should make a binary game to teach people how to recognize binary code. At first, we had the idea that we would keep games on the backend and fetch these games to the frontend when the user interacted with the website, but we realized later that it would cause too much lag. So now, me and Matthew as the backend coders were responsible for both each of our respective games, as well as figuring out what in the world backend is. After struggling for a bit, I asked for help from multiple sources, and finally figured out that we needed to create a model to store data in tables (our database), and that we needed an API to link up the frontend to the backend (database) to store information. Matthew and I both created sepeerate APIs that linked to the backend. In the end , I am very proud of how much I have accomplished in this trimester. I learned so much, and I feel like I started as someone who knows nothing about coding to someone who is much more knowledgable. I learned that when you code, you really shouldn't be afraid to look things up. The internet contains very valuable information, and can really help.\n",
    "</p>"
   ]
  }
 ],
 "metadata": {
  "language_info": {
   "name": "python"
  },
  "orig_nbformat": 4
 },
 "nbformat": 4,
 "nbformat_minor": 2
}
