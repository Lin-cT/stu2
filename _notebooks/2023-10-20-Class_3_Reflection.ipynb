{
 "cells": [
  {
   "cell_type": "markdown",
   "metadata": {},
   "source": [
    "---\n",
    "toc: true\n",
    "comments: false\n",
    "layout: post\n",
    "title: Class 3 Reflection\n",
    "description: Reflection of how student teaching class 3 went.\n",
    "type: hacks\n",
    "courses: { compsci: {week: 8} }\n",
    "---"
   ]
  },
  {
   "cell_type": "markdown",
   "metadata": {},
   "source": [
    "<h1 style=\"text-align: center; color:#4263C6;font-weight:700; font-size:40px\">Class 3 Reflection</h1>\n",
    "<br>\n",
    "\n",
    "<p>\n",
    "    In Class 3, we learned about iterations. Iterations repeat actions or functions over and over again. This is typically used to process, examine, or collect data. One type of iteration is the for statement. This repeats the code several times for the values in the range. Another type of loop statement is the while statement. While the statement is true, the code will continue to loop. I found that this class was relativley easy to understand. I finished the homework hacks in a decent amount of time, and it didn't take that long. \n",
    "</p>"
   ]
  },
  {
   "cell_type": "markdown",
   "metadata": {},
   "source": [
    "Homework 1:"
   ]
  },
  {
   "cell_type": "code",
   "execution_count": null,
   "metadata": {},
   "outputs": [],
   "source": [
    "killsPerGame = [12, 28, 21, 17, 19, 32, 24]\n",
    "\n",
    "for kpg in range(10):\n",
    "    print(killsPerGame)"
   ]
  },
  {
   "cell_type": "markdown",
   "metadata": {},
   "source": [
    "Homework 2:"
   ]
  },
  {
   "cell_type": "code",
   "execution_count": null,
   "metadata": {},
   "outputs": [],
   "source": [
    "while True:\n",
    "    user_input = input(\"Please enter your passcode: \")\n",
    "    if user_input == \"Cranberry75\" :\n",
    "        print(\"That's the right password!\")\n",
    "        break\n",
    "    else :\n",
    "        print(\"Wrong password. Please try again.\")"
   ]
  }
 ],
 "metadata": {
  "language_info": {
   "name": "python"
  },
  "orig_nbformat": 4
 },
 "nbformat": 4,
 "nbformat_minor": 2
}
